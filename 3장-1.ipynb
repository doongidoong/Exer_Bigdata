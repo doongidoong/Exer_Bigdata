{
 "cells": [
  {
   "cell_type": "markdown",
   "id": "78912bd0-b274-4981-943d-81f63f90a659",
   "metadata": {},
   "source": [
    "# <머신러닝 프로세스>\n",
    "### 1. DATA SET 분할 \n",
    "- 학습 데이터를 랜덤으로 train/validation으로 구분하고 test도 준비\n",
    "\n",
    "### 2. 데이터 전처리 \n",
    "- 변수의 정규화, 범주자료 원핫인코딩(분류에 쓸 수 있게 숫자료 변환)\n",
    "- minmax, standard가 주로 쓰임\n",
    "- \n",
    "\n",
    "### 3. 모델 적용 \n",
    "- 회귀 문제, 분류 문제, 비지도 학습\n",
    "\n",
    "### 4. 하이퍼 파라미터 탐색 및 결정\n",
    "- 테스트 셋으로 성능을 평가\n",
    "- 하이퍼파라미타 탐색(모델튜닝)을 위한 방법으로 사이킷런에서는 그리드 탐색과 랜덤 탐색이 있음\n",
    "\n",
    "### 5. 모델 평가\n",
    "- 정확도(accuracy), 민감도(재현율), 특이도, 정밀도, F1 score 등 다양한 지표 활용\n",
    "- 회귀에서는 R-square, RMSE가 있음 "
   ]
  },
  {
   "cell_type": "markdown",
   "id": "50e43fb7-ba34-46c4-ab1e-d92506c3228d",
   "metadata": {},
   "source": [
    "# \n",
    "# 머신러닝 맛보기 1:분류 문제"
   ]
  },
  {
   "cell_type": "code",
   "execution_count": 1,
   "id": "ed274c4a-1650-4f07-821b-5c5d4ef49b1b",
   "metadata": {},
   "outputs": [],
   "source": [
    "import pandas as pd"
   ]
  },
  {
   "cell_type": "code",
   "execution_count": 2,
   "id": "e958b0f7-797f-4d72-8b48-5af20c520641",
   "metadata": {},
   "outputs": [],
   "source": [
    "data = pd.read_csv('C:\\\\Users\\\\user\\\\빅분기 실기\\\\[1]BigData_data_최종본(0910)\\\\breast-cancer-wisconsin.csv')"
   ]
  },
  {
   "cell_type": "code",
   "execution_count": 3,
   "id": "d05f0fbd-37e3-424c-a5d4-295ed1e52b8e",
   "metadata": {},
   "outputs": [
    {
     "data": {
      "text/plain": [
       "Class\n",
       "0        444\n",
       "1        239\n",
       "dtype: int64"
      ]
     },
     "execution_count": 3,
     "metadata": {},
     "output_type": "execute_result"
    }
   ],
   "source": [
    "data[['Class']].value_counts()"
   ]
  },
  {
   "cell_type": "code",
   "execution_count": 4,
   "id": "37963b44-40d8-4749-b25e-b05b1c3253a8",
   "metadata": {},
   "outputs": [
    {
     "data": {
      "text/plain": [
       "(683, 11)"
      ]
     },
     "execution_count": 4,
     "metadata": {},
     "output_type": "execute_result"
    }
   ],
   "source": [
    "data.shape"
   ]
  },
  {
   "cell_type": "code",
   "execution_count": 5,
   "id": "18764b92-532c-429a-b936-bb958e03e638",
   "metadata": {},
   "outputs": [
    {
     "data": {
      "text/html": [
       "<div>\n",
       "<style scoped>\n",
       "    .dataframe tbody tr th:only-of-type {\n",
       "        vertical-align: middle;\n",
       "    }\n",
       "\n",
       "    .dataframe tbody tr th {\n",
       "        vertical-align: top;\n",
       "    }\n",
       "\n",
       "    .dataframe thead th {\n",
       "        text-align: right;\n",
       "    }\n",
       "</style>\n",
       "<table border=\"1\" class=\"dataframe\">\n",
       "  <thead>\n",
       "    <tr style=\"text-align: right;\">\n",
       "      <th></th>\n",
       "      <th>code</th>\n",
       "      <th>Clump_Thickness</th>\n",
       "      <th>Cell_Size</th>\n",
       "      <th>Cell_Shape</th>\n",
       "      <th>Marginal_Adhesion</th>\n",
       "      <th>Single_Epithelial_Cell_Size</th>\n",
       "      <th>Bare_Nuclei</th>\n",
       "      <th>Bland_Chromatin</th>\n",
       "      <th>Normal_Nucleoli</th>\n",
       "      <th>Mitoses</th>\n",
       "      <th>Class</th>\n",
       "    </tr>\n",
       "  </thead>\n",
       "  <tbody>\n",
       "    <tr>\n",
       "      <th>0</th>\n",
       "      <td>1000025</td>\n",
       "      <td>5</td>\n",
       "      <td>1</td>\n",
       "      <td>1</td>\n",
       "      <td>1</td>\n",
       "      <td>2</td>\n",
       "      <td>1</td>\n",
       "      <td>3</td>\n",
       "      <td>1</td>\n",
       "      <td>1</td>\n",
       "      <td>0</td>\n",
       "    </tr>\n",
       "    <tr>\n",
       "      <th>1</th>\n",
       "      <td>1002945</td>\n",
       "      <td>5</td>\n",
       "      <td>4</td>\n",
       "      <td>4</td>\n",
       "      <td>5</td>\n",
       "      <td>7</td>\n",
       "      <td>10</td>\n",
       "      <td>3</td>\n",
       "      <td>2</td>\n",
       "      <td>1</td>\n",
       "      <td>0</td>\n",
       "    </tr>\n",
       "    <tr>\n",
       "      <th>2</th>\n",
       "      <td>1015425</td>\n",
       "      <td>3</td>\n",
       "      <td>1</td>\n",
       "      <td>1</td>\n",
       "      <td>1</td>\n",
       "      <td>2</td>\n",
       "      <td>2</td>\n",
       "      <td>3</td>\n",
       "      <td>1</td>\n",
       "      <td>1</td>\n",
       "      <td>0</td>\n",
       "    </tr>\n",
       "    <tr>\n",
       "      <th>3</th>\n",
       "      <td>1016277</td>\n",
       "      <td>6</td>\n",
       "      <td>8</td>\n",
       "      <td>8</td>\n",
       "      <td>1</td>\n",
       "      <td>3</td>\n",
       "      <td>4</td>\n",
       "      <td>3</td>\n",
       "      <td>7</td>\n",
       "      <td>1</td>\n",
       "      <td>0</td>\n",
       "    </tr>\n",
       "    <tr>\n",
       "      <th>4</th>\n",
       "      <td>1017023</td>\n",
       "      <td>4</td>\n",
       "      <td>1</td>\n",
       "      <td>1</td>\n",
       "      <td>3</td>\n",
       "      <td>2</td>\n",
       "      <td>1</td>\n",
       "      <td>3</td>\n",
       "      <td>1</td>\n",
       "      <td>1</td>\n",
       "      <td>0</td>\n",
       "    </tr>\n",
       "  </tbody>\n",
       "</table>\n",
       "</div>"
      ],
      "text/plain": [
       "      code  Clump_Thickness  Cell_Size  Cell_Shape  Marginal_Adhesion  \\\n",
       "0  1000025                5          1           1                  1   \n",
       "1  1002945                5          4           4                  5   \n",
       "2  1015425                3          1           1                  1   \n",
       "3  1016277                6          8           8                  1   \n",
       "4  1017023                4          1           1                  3   \n",
       "\n",
       "   Single_Epithelial_Cell_Size  Bare_Nuclei  Bland_Chromatin  Normal_Nucleoli  \\\n",
       "0                            2            1                3                1   \n",
       "1                            7           10                3                2   \n",
       "2                            2            2                3                1   \n",
       "3                            3            4                3                7   \n",
       "4                            2            1                3                1   \n",
       "\n",
       "   Mitoses  Class  \n",
       "0        1      0  \n",
       "1        1      0  \n",
       "2        1      0  \n",
       "3        1      0  \n",
       "4        1      0  "
      ]
     },
     "execution_count": 5,
     "metadata": {},
     "output_type": "execute_result"
    }
   ],
   "source": [
    "data.head()"
   ]
  },
  {
   "cell_type": "code",
   "execution_count": 6,
   "id": "90360890-a374-47d4-b698-8f0bd6084238",
   "metadata": {},
   "outputs": [],
   "source": [
    "# 방법 1 특성 이름으로 데이터 셋 나누기\n",
    "X1 = data[['Clump_Thickness'\t,'Cell_Size'\t,'Cell_Shape',\t'Marginal_Adhesion',\t'Single_Epithelial_Cell_Size'\t,'Bare_Nuclei',\t'Bland_Chromatin',\t'Normal_Nucleoli',\t'Mitoses']]\n",
    "\n",
    "# 방법 2 특성 위치값으로 데이터 셋 나누기\n",
    "X2= data[data.columns[1:len(data.columns)-1]]\n",
    "\n",
    "# 방법 3 loc 함수로 데이터 셋 나누기\n",
    "X3= data.loc[:,data.columns[1:len(data.columns)-1]]"
   ]
  },
  {
   "cell_type": "code",
   "execution_count": 7,
   "id": "015bb63b-3e4e-423d-8231-89c44b0b2827",
   "metadata": {},
   "outputs": [
    {
     "name": "stdout",
     "output_type": "stream",
     "text": [
      "(683, 9) (683, 9) (683, 9)\n"
     ]
    }
   ],
   "source": [
    "print(X1.shape,X2.shape,X3.shape)"
   ]
  },
  {
   "cell_type": "code",
   "execution_count": 8,
   "id": "6077ac7d-ede5-4302-8b30-3eb1f1d95dc0",
   "metadata": {},
   "outputs": [
    {
     "name": "stdout",
     "output_type": "stream",
     "text": [
      "(683, 1)\n"
     ]
    }
   ],
   "source": [
    "y= data[[\"Class\"]]\n",
    "print(y.shape)"
   ]
  },
  {
   "cell_type": "markdown",
   "id": "11fd9739-466b-4db4-bf1e-ca592ea94767",
   "metadata": {},
   "source": [
    "\n",
    "\n"
   ]
  },
  {
   "cell_type": "markdown",
   "id": "10f8893a-60ae-4323-8a2d-38559b8fb144",
   "metadata": {},
   "source": [
    "        \n",
    "train test 셋 나누기 "
   ]
  },
  {
   "cell_type": "code",
   "execution_count": 9,
   "id": "1b0404e9-bf8c-44f1-bcb4-b8d4c8f47cd4",
   "metadata": {},
   "outputs": [],
   "source": [
    "from sklearn.model_selection import train_test_split\n",
    "X_train, X_test, y_train, y_test = train_test_split(X1, y , stratify=y , random_state=42) # 분류문제에서는 stratify=y하는 게 좋음. 의미는 나눌 때 범주 비율에 맞게 나누라는 의미"
   ]
  },
  {
   "cell_type": "code",
   "execution_count": 10,
   "id": "1e2dccc7-0649-40dc-9d3e-e6a4aaa4f70e",
   "metadata": {},
   "outputs": [
    {
     "name": "stdout",
     "output_type": "stream",
     "text": [
      "Class    0.349609\n",
      "dtype: float64\n",
      "Class    0.350877\n",
      "dtype: float64\n"
     ]
    }
   ],
   "source": [
    "print(y_train.mean())\n",
    "print(y_test.mean())"
   ]
  },
  {
   "cell_type": "markdown",
   "id": "e67dea6b-7498-4364-836e-79c602bc17a6",
   "metadata": {},
   "source": [
    " "
   ]
  },
  {
   "cell_type": "markdown",
   "id": "36f0f4f6-c6ad-466c-97a7-6d75178f09fd",
   "metadata": {},
   "source": [
    "정규화"
   ]
  },
  {
   "cell_type": "code",
   "execution_count": 11,
   "id": "c4fd9002-72a1-4d4f-a591-f1c9e559825f",
   "metadata": {},
   "outputs": [],
   "source": [
    "from sklearn.preprocessing import MinMaxScaler\n",
    "from sklearn.preprocessing import StandardScaler\n",
    "scaler_MM = MinMaxScaler()\n",
    "scaler_S = StandardScaler()\n",
    "\n",
    "scaler_MM.fit(X_train)\n",
    "X_train_MM = scaler_MM.transform(X_train)\n",
    "\n",
    "scaler_S.fit(X_train)\n",
    "X_train_S = scaler_S.transform(X_train)"
   ]
  },
  {
   "cell_type": "code",
   "execution_count": 12,
   "id": "dcef3dfd-a176-4f92-a37b-cbdfb7fcbdc8",
   "metadata": {},
   "outputs": [
    {
     "data": {
      "text/html": [
       "<div>\n",
       "<style scoped>\n",
       "    .dataframe tbody tr th:only-of-type {\n",
       "        vertical-align: middle;\n",
       "    }\n",
       "\n",
       "    .dataframe tbody tr th {\n",
       "        vertical-align: top;\n",
       "    }\n",
       "\n",
       "    .dataframe thead th {\n",
       "        text-align: right;\n",
       "    }\n",
       "</style>\n",
       "<table border=\"1\" class=\"dataframe\">\n",
       "  <thead>\n",
       "    <tr style=\"text-align: right;\">\n",
       "      <th></th>\n",
       "      <th>0</th>\n",
       "      <th>1</th>\n",
       "      <th>2</th>\n",
       "      <th>3</th>\n",
       "      <th>4</th>\n",
       "      <th>5</th>\n",
       "      <th>6</th>\n",
       "      <th>7</th>\n",
       "      <th>8</th>\n",
       "    </tr>\n",
       "  </thead>\n",
       "  <tbody>\n",
       "    <tr>\n",
       "      <th>count</th>\n",
       "      <td>512.000000</td>\n",
       "      <td>512.000000</td>\n",
       "      <td>512.000000</td>\n",
       "      <td>512.000000</td>\n",
       "      <td>512.000000</td>\n",
       "      <td>512.000000</td>\n",
       "      <td>512.000000</td>\n",
       "      <td>512.000000</td>\n",
       "      <td>512.000000</td>\n",
       "    </tr>\n",
       "    <tr>\n",
       "      <th>mean</th>\n",
       "      <td>0.372830</td>\n",
       "      <td>0.231988</td>\n",
       "      <td>0.242839</td>\n",
       "      <td>0.205078</td>\n",
       "      <td>0.241319</td>\n",
       "      <td>0.285590</td>\n",
       "      <td>0.269314</td>\n",
       "      <td>0.199002</td>\n",
       "      <td>0.067491</td>\n",
       "    </tr>\n",
       "    <tr>\n",
       "      <th>std</th>\n",
       "      <td>0.317836</td>\n",
       "      <td>0.334781</td>\n",
       "      <td>0.332112</td>\n",
       "      <td>0.319561</td>\n",
       "      <td>0.242541</td>\n",
       "      <td>0.404890</td>\n",
       "      <td>0.265289</td>\n",
       "      <td>0.331503</td>\n",
       "      <td>0.190373</td>\n",
       "    </tr>\n",
       "    <tr>\n",
       "      <th>min</th>\n",
       "      <td>0.000000</td>\n",
       "      <td>0.000000</td>\n",
       "      <td>0.000000</td>\n",
       "      <td>0.000000</td>\n",
       "      <td>0.000000</td>\n",
       "      <td>0.000000</td>\n",
       "      <td>0.000000</td>\n",
       "      <td>0.000000</td>\n",
       "      <td>0.000000</td>\n",
       "    </tr>\n",
       "    <tr>\n",
       "      <th>25%</th>\n",
       "      <td>0.111111</td>\n",
       "      <td>0.000000</td>\n",
       "      <td>0.000000</td>\n",
       "      <td>0.000000</td>\n",
       "      <td>0.111111</td>\n",
       "      <td>0.000000</td>\n",
       "      <td>0.111111</td>\n",
       "      <td>0.000000</td>\n",
       "      <td>0.000000</td>\n",
       "    </tr>\n",
       "    <tr>\n",
       "      <th>50%</th>\n",
       "      <td>0.333333</td>\n",
       "      <td>0.000000</td>\n",
       "      <td>0.000000</td>\n",
       "      <td>0.000000</td>\n",
       "      <td>0.111111</td>\n",
       "      <td>0.000000</td>\n",
       "      <td>0.222222</td>\n",
       "      <td>0.000000</td>\n",
       "      <td>0.000000</td>\n",
       "    </tr>\n",
       "    <tr>\n",
       "      <th>75%</th>\n",
       "      <td>0.555556</td>\n",
       "      <td>0.361111</td>\n",
       "      <td>0.444444</td>\n",
       "      <td>0.333333</td>\n",
       "      <td>0.333333</td>\n",
       "      <td>0.583333</td>\n",
       "      <td>0.444444</td>\n",
       "      <td>0.222222</td>\n",
       "      <td>0.000000</td>\n",
       "    </tr>\n",
       "    <tr>\n",
       "      <th>max</th>\n",
       "      <td>1.000000</td>\n",
       "      <td>1.000000</td>\n",
       "      <td>1.000000</td>\n",
       "      <td>1.000000</td>\n",
       "      <td>1.000000</td>\n",
       "      <td>1.000000</td>\n",
       "      <td>1.000000</td>\n",
       "      <td>1.000000</td>\n",
       "      <td>1.000000</td>\n",
       "    </tr>\n",
       "  </tbody>\n",
       "</table>\n",
       "</div>"
      ],
      "text/plain": [
       "                0           1           2           3           4           5  \\\n",
       "count  512.000000  512.000000  512.000000  512.000000  512.000000  512.000000   \n",
       "mean     0.372830    0.231988    0.242839    0.205078    0.241319    0.285590   \n",
       "std      0.317836    0.334781    0.332112    0.319561    0.242541    0.404890   \n",
       "min      0.000000    0.000000    0.000000    0.000000    0.000000    0.000000   \n",
       "25%      0.111111    0.000000    0.000000    0.000000    0.111111    0.000000   \n",
       "50%      0.333333    0.000000    0.000000    0.000000    0.111111    0.000000   \n",
       "75%      0.555556    0.361111    0.444444    0.333333    0.333333    0.583333   \n",
       "max      1.000000    1.000000    1.000000    1.000000    1.000000    1.000000   \n",
       "\n",
       "                6           7           8  \n",
       "count  512.000000  512.000000  512.000000  \n",
       "mean     0.269314    0.199002    0.067491  \n",
       "std      0.265289    0.331503    0.190373  \n",
       "min      0.000000    0.000000    0.000000  \n",
       "25%      0.111111    0.000000    0.000000  \n",
       "50%      0.222222    0.000000    0.000000  \n",
       "75%      0.444444    0.222222    0.000000  \n",
       "max      1.000000    1.000000    1.000000  "
      ]
     },
     "execution_count": 12,
     "metadata": {},
     "output_type": "execute_result"
    }
   ],
   "source": [
    "pd.DataFrame(X_train_MM).describe()"
   ]
  },
  {
   "cell_type": "code",
   "execution_count": 13,
   "id": "6a42f2dd-924e-4166-a6dc-b9fddcf85905",
   "metadata": {},
   "outputs": [
    {
     "data": {
      "text/html": [
       "<div>\n",
       "<style scoped>\n",
       "    .dataframe tbody tr th:only-of-type {\n",
       "        vertical-align: middle;\n",
       "    }\n",
       "\n",
       "    .dataframe tbody tr th {\n",
       "        vertical-align: top;\n",
       "    }\n",
       "\n",
       "    .dataframe thead th {\n",
       "        text-align: right;\n",
       "    }\n",
       "</style>\n",
       "<table border=\"1\" class=\"dataframe\">\n",
       "  <thead>\n",
       "    <tr style=\"text-align: right;\">\n",
       "      <th></th>\n",
       "      <th>0</th>\n",
       "      <th>1</th>\n",
       "      <th>2</th>\n",
       "      <th>3</th>\n",
       "      <th>4</th>\n",
       "      <th>5</th>\n",
       "      <th>6</th>\n",
       "      <th>7</th>\n",
       "      <th>8</th>\n",
       "    </tr>\n",
       "  </thead>\n",
       "  <tbody>\n",
       "    <tr>\n",
       "      <th>count</th>\n",
       "      <td>5.120000e+02</td>\n",
       "      <td>5.120000e+02</td>\n",
       "      <td>5.120000e+02</td>\n",
       "      <td>5.120000e+02</td>\n",
       "      <td>5.120000e+02</td>\n",
       "      <td>5.120000e+02</td>\n",
       "      <td>5.120000e+02</td>\n",
       "      <td>5.120000e+02</td>\n",
       "      <td>5.120000e+02</td>\n",
       "    </tr>\n",
       "    <tr>\n",
       "      <th>mean</th>\n",
       "      <td>-1.548241e-16</td>\n",
       "      <td>-1.543904e-16</td>\n",
       "      <td>-1.353084e-16</td>\n",
       "      <td>1.149254e-16</td>\n",
       "      <td>5.767956e-17</td>\n",
       "      <td>1.674008e-16</td>\n",
       "      <td>-2.775558e-17</td>\n",
       "      <td>-3.642919e-17</td>\n",
       "      <td>6.938894e-18</td>\n",
       "    </tr>\n",
       "    <tr>\n",
       "      <th>std</th>\n",
       "      <td>1.000978e+00</td>\n",
       "      <td>1.000978e+00</td>\n",
       "      <td>1.000978e+00</td>\n",
       "      <td>1.000978e+00</td>\n",
       "      <td>1.000978e+00</td>\n",
       "      <td>1.000978e+00</td>\n",
       "      <td>1.000978e+00</td>\n",
       "      <td>1.000978e+00</td>\n",
       "      <td>1.000978e+00</td>\n",
       "    </tr>\n",
       "    <tr>\n",
       "      <th>min</th>\n",
       "      <td>-1.174173e+00</td>\n",
       "      <td>-6.936309e-01</td>\n",
       "      <td>-7.319088e-01</td>\n",
       "      <td>-6.423777e-01</td>\n",
       "      <td>-9.959361e-01</td>\n",
       "      <td>-7.060427e-01</td>\n",
       "      <td>-1.016165e+00</td>\n",
       "      <td>-6.008881e-01</td>\n",
       "      <td>-3.548677e-01</td>\n",
       "    </tr>\n",
       "    <tr>\n",
       "      <th>25%</th>\n",
       "      <td>-8.242452e-01</td>\n",
       "      <td>-6.936309e-01</td>\n",
       "      <td>-7.319088e-01</td>\n",
       "      <td>-6.423777e-01</td>\n",
       "      <td>-5.373756e-01</td>\n",
       "      <td>-7.060427e-01</td>\n",
       "      <td>-5.969255e-01</td>\n",
       "      <td>-6.008881e-01</td>\n",
       "      <td>-3.548677e-01</td>\n",
       "    </tr>\n",
       "    <tr>\n",
       "      <th>50%</th>\n",
       "      <td>-1.243886e-01</td>\n",
       "      <td>-6.936309e-01</td>\n",
       "      <td>-7.319088e-01</td>\n",
       "      <td>-6.423777e-01</td>\n",
       "      <td>-5.373756e-01</td>\n",
       "      <td>-7.060427e-01</td>\n",
       "      <td>-1.776856e-01</td>\n",
       "      <td>-6.008881e-01</td>\n",
       "      <td>-3.548677e-01</td>\n",
       "    </tr>\n",
       "    <tr>\n",
       "      <th>75%</th>\n",
       "      <td>5.754680e-01</td>\n",
       "      <td>3.860715e-01</td>\n",
       "      <td>6.076347e-01</td>\n",
       "      <td>4.017410e-01</td>\n",
       "      <td>3.797454e-01</td>\n",
       "      <td>7.360871e-01</td>\n",
       "      <td>6.607941e-01</td>\n",
       "      <td>7.011454e-02</td>\n",
       "      <td>-3.548677e-01</td>\n",
       "    </tr>\n",
       "    <tr>\n",
       "      <th>max</th>\n",
       "      <td>1.975181e+00</td>\n",
       "      <td>2.296314e+00</td>\n",
       "      <td>2.282064e+00</td>\n",
       "      <td>2.489978e+00</td>\n",
       "      <td>3.131108e+00</td>\n",
       "      <td>1.766180e+00</td>\n",
       "      <td>2.756993e+00</td>\n",
       "      <td>2.418624e+00</td>\n",
       "      <td>4.903108e+00</td>\n",
       "    </tr>\n",
       "  </tbody>\n",
       "</table>\n",
       "</div>"
      ],
      "text/plain": [
       "                  0             1             2             3             4  \\\n",
       "count  5.120000e+02  5.120000e+02  5.120000e+02  5.120000e+02  5.120000e+02   \n",
       "mean  -1.548241e-16 -1.543904e-16 -1.353084e-16  1.149254e-16  5.767956e-17   \n",
       "std    1.000978e+00  1.000978e+00  1.000978e+00  1.000978e+00  1.000978e+00   \n",
       "min   -1.174173e+00 -6.936309e-01 -7.319088e-01 -6.423777e-01 -9.959361e-01   \n",
       "25%   -8.242452e-01 -6.936309e-01 -7.319088e-01 -6.423777e-01 -5.373756e-01   \n",
       "50%   -1.243886e-01 -6.936309e-01 -7.319088e-01 -6.423777e-01 -5.373756e-01   \n",
       "75%    5.754680e-01  3.860715e-01  6.076347e-01  4.017410e-01  3.797454e-01   \n",
       "max    1.975181e+00  2.296314e+00  2.282064e+00  2.489978e+00  3.131108e+00   \n",
       "\n",
       "                  5             6             7             8  \n",
       "count  5.120000e+02  5.120000e+02  5.120000e+02  5.120000e+02  \n",
       "mean   1.674008e-16 -2.775558e-17 -3.642919e-17  6.938894e-18  \n",
       "std    1.000978e+00  1.000978e+00  1.000978e+00  1.000978e+00  \n",
       "min   -7.060427e-01 -1.016165e+00 -6.008881e-01 -3.548677e-01  \n",
       "25%   -7.060427e-01 -5.969255e-01 -6.008881e-01 -3.548677e-01  \n",
       "50%   -7.060427e-01 -1.776856e-01 -6.008881e-01 -3.548677e-01  \n",
       "75%    7.360871e-01  6.607941e-01  7.011454e-02 -3.548677e-01  \n",
       "max    1.766180e+00  2.756993e+00  2.418624e+00  4.903108e+00  "
      ]
     },
     "execution_count": 13,
     "metadata": {},
     "output_type": "execute_result"
    }
   ],
   "source": [
    "pd.DataFrame(X_train_S).describe()"
   ]
  },
  {
   "cell_type": "code",
   "execution_count": 14,
   "id": "9cca5b4d-c1f0-4991-ad50-7f7a9075054d",
   "metadata": {},
   "outputs": [],
   "source": [
    "#테스트 데이터 정규화\n",
    "X_test_MM = scaler_MM.transform(X_test)\n",
    "X_test_S = scaler_S.transform(X_test)"
   ]
  },
  {
   "cell_type": "code",
   "execution_count": 15,
   "id": "25da7073-b52b-40e0-ba6e-e7a8641a2459",
   "metadata": {},
   "outputs": [
    {
     "data": {
      "text/html": [
       "<div>\n",
       "<style scoped>\n",
       "    .dataframe tbody tr th:only-of-type {\n",
       "        vertical-align: middle;\n",
       "    }\n",
       "\n",
       "    .dataframe tbody tr th {\n",
       "        vertical-align: top;\n",
       "    }\n",
       "\n",
       "    .dataframe thead th {\n",
       "        text-align: right;\n",
       "    }\n",
       "</style>\n",
       "<table border=\"1\" class=\"dataframe\">\n",
       "  <thead>\n",
       "    <tr style=\"text-align: right;\">\n",
       "      <th></th>\n",
       "      <th>0</th>\n",
       "      <th>1</th>\n",
       "      <th>2</th>\n",
       "      <th>3</th>\n",
       "      <th>4</th>\n",
       "      <th>5</th>\n",
       "      <th>6</th>\n",
       "      <th>7</th>\n",
       "      <th>8</th>\n",
       "    </tr>\n",
       "  </thead>\n",
       "  <tbody>\n",
       "    <tr>\n",
       "      <th>count</th>\n",
       "      <td>171.000000</td>\n",
       "      <td>171.000000</td>\n",
       "      <td>171.000000</td>\n",
       "      <td>171.000000</td>\n",
       "      <td>171.000000</td>\n",
       "      <td>171.000000</td>\n",
       "      <td>171.000000</td>\n",
       "      <td>171.000000</td>\n",
       "      <td>171.000000</td>\n",
       "    </tr>\n",
       "    <tr>\n",
       "      <th>mean</th>\n",
       "      <td>0.411306</td>\n",
       "      <td>0.259909</td>\n",
       "      <td>0.256010</td>\n",
       "      <td>0.198181</td>\n",
       "      <td>0.269006</td>\n",
       "      <td>0.274204</td>\n",
       "      <td>0.278752</td>\n",
       "      <td>0.233918</td>\n",
       "      <td>0.065627</td>\n",
       "    </tr>\n",
       "    <tr>\n",
       "      <th>std</th>\n",
       "      <td>0.298847</td>\n",
       "      <td>0.357544</td>\n",
       "      <td>0.332700</td>\n",
       "      <td>0.315307</td>\n",
       "      <td>0.259557</td>\n",
       "      <td>0.405891</td>\n",
       "      <td>0.292578</td>\n",
       "      <td>0.360958</td>\n",
       "      <td>0.199372</td>\n",
       "    </tr>\n",
       "    <tr>\n",
       "      <th>min</th>\n",
       "      <td>0.000000</td>\n",
       "      <td>0.000000</td>\n",
       "      <td>0.000000</td>\n",
       "      <td>0.000000</td>\n",
       "      <td>0.000000</td>\n",
       "      <td>0.000000</td>\n",
       "      <td>0.000000</td>\n",
       "      <td>0.000000</td>\n",
       "      <td>0.000000</td>\n",
       "    </tr>\n",
       "    <tr>\n",
       "      <th>25%</th>\n",
       "      <td>0.222222</td>\n",
       "      <td>0.000000</td>\n",
       "      <td>0.000000</td>\n",
       "      <td>0.000000</td>\n",
       "      <td>0.111111</td>\n",
       "      <td>0.000000</td>\n",
       "      <td>0.000000</td>\n",
       "      <td>0.000000</td>\n",
       "      <td>0.000000</td>\n",
       "    </tr>\n",
       "    <tr>\n",
       "      <th>50%</th>\n",
       "      <td>0.444444</td>\n",
       "      <td>0.000000</td>\n",
       "      <td>0.111111</td>\n",
       "      <td>0.000000</td>\n",
       "      <td>0.111111</td>\n",
       "      <td>0.000000</td>\n",
       "      <td>0.222222</td>\n",
       "      <td>0.000000</td>\n",
       "      <td>0.000000</td>\n",
       "    </tr>\n",
       "    <tr>\n",
       "      <th>75%</th>\n",
       "      <td>0.555556</td>\n",
       "      <td>0.444444</td>\n",
       "      <td>0.444444</td>\n",
       "      <td>0.222222</td>\n",
       "      <td>0.388889</td>\n",
       "      <td>0.444444</td>\n",
       "      <td>0.444444</td>\n",
       "      <td>0.388889</td>\n",
       "      <td>0.000000</td>\n",
       "    </tr>\n",
       "    <tr>\n",
       "      <th>max</th>\n",
       "      <td>1.000000</td>\n",
       "      <td>1.000000</td>\n",
       "      <td>1.000000</td>\n",
       "      <td>1.000000</td>\n",
       "      <td>1.000000</td>\n",
       "      <td>1.000000</td>\n",
       "      <td>1.000000</td>\n",
       "      <td>1.000000</td>\n",
       "      <td>1.000000</td>\n",
       "    </tr>\n",
       "  </tbody>\n",
       "</table>\n",
       "</div>"
      ],
      "text/plain": [
       "                0           1           2           3           4           5  \\\n",
       "count  171.000000  171.000000  171.000000  171.000000  171.000000  171.000000   \n",
       "mean     0.411306    0.259909    0.256010    0.198181    0.269006    0.274204   \n",
       "std      0.298847    0.357544    0.332700    0.315307    0.259557    0.405891   \n",
       "min      0.000000    0.000000    0.000000    0.000000    0.000000    0.000000   \n",
       "25%      0.222222    0.000000    0.000000    0.000000    0.111111    0.000000   \n",
       "50%      0.444444    0.000000    0.111111    0.000000    0.111111    0.000000   \n",
       "75%      0.555556    0.444444    0.444444    0.222222    0.388889    0.444444   \n",
       "max      1.000000    1.000000    1.000000    1.000000    1.000000    1.000000   \n",
       "\n",
       "                6           7           8  \n",
       "count  171.000000  171.000000  171.000000  \n",
       "mean     0.278752    0.233918    0.065627  \n",
       "std      0.292578    0.360958    0.199372  \n",
       "min      0.000000    0.000000    0.000000  \n",
       "25%      0.000000    0.000000    0.000000  \n",
       "50%      0.222222    0.000000    0.000000  \n",
       "75%      0.444444    0.388889    0.000000  \n",
       "max      1.000000    1.000000    1.000000  "
      ]
     },
     "execution_count": 15,
     "metadata": {},
     "output_type": "execute_result"
    }
   ],
   "source": [
    "pd.DataFrame(X_test_MM).describe()"
   ]
  },
  {
   "cell_type": "markdown",
   "id": "6bba8101-72e4-44f7-894b-f12ab0709f40",
   "metadata": {
    "tags": []
   },
   "source": [
    " "
   ]
  },
  {
   "cell_type": "markdown",
   "id": "99cf08c7-2036-48e1-bded-81b0d7d555be",
   "metadata": {},
   "source": [
    "모델 학습"
   ]
  },
  {
   "cell_type": "code",
   "execution_count": 16,
   "id": "fa692748-d6c1-4e36-b0f9-90eaa7e9414b",
   "metadata": {},
   "outputs": [
    {
     "name": "stderr",
     "output_type": "stream",
     "text": [
      "C:\\Users\\user\\anaconda3\\lib\\site-packages\\sklearn\\utils\\validation.py:760: DataConversionWarning: A column-vector y was passed when a 1d array was expected. Please change the shape of y to (n_samples, ), for example using ravel().\n",
      "  y = column_or_1d(y, warn=True)\n"
     ]
    },
    {
     "data": {
      "text/plain": [
       "0.97265625"
      ]
     },
     "execution_count": 16,
     "metadata": {},
     "output_type": "execute_result"
    }
   ],
   "source": [
    "from sklearn.linear_model import LogisticRegression\n",
    "model = LogisticRegression()\n",
    "model.fit(X_train_MM, y_train)\n",
    "pred_train = model.predict(X_train_MM)\n",
    "model.score(X_train_MM, y_train)"
   ]
  },
  {
   "cell_type": "markdown",
   "id": "ab017284-5871-42fc-989b-b027e1e7ae38",
   "metadata": {},
   "source": [
    "- 모델 훈련 model.fit(x,y)\n",
    "- 모델 예측(범주) model.predict(x)\n",
    "- 모델 예측(확률) model.predict_proba(x)\n",
    "- 모델정확도 model.score(x,y)"
   ]
  },
  {
   "cell_type": "code",
   "execution_count": 17,
   "id": "24365aee-bacb-4fb4-b6c4-d3addcc862be",
   "metadata": {},
   "outputs": [
    {
     "data": {
      "text/plain": [
       "0.9590643274853801"
      ]
     },
     "execution_count": 17,
     "metadata": {},
     "output_type": "execute_result"
    }
   ],
   "source": [
    "pred_test =model.predict(X_test_MM)\n",
    "model.score(X_test_MM, y_test)"
   ]
  },
  {
   "cell_type": "markdown",
   "id": "2fb58712-018b-44bc-a188-450493269f72",
   "metadata": {},
   "source": [
    " "
   ]
  },
  {
   "cell_type": "markdown",
   "id": "763f7415-6029-4794-af70-5db916503d38",
   "metadata": {},
   "source": [
    "- 혼동행렬\n",
    "    \n",
    " 혼동행렬을 통해 예측 y_train와 실제y_train를 비교"
   ]
  },
  {
   "cell_type": "code",
   "execution_count": 18,
   "id": "57a3e798-c886-40c0-8920-9c2143115b9a",
   "metadata": {},
   "outputs": [
    {
     "name": "stdout",
     "output_type": "stream",
     "text": [
      "훈련데이터 오차 행렬: \n",
      " [[328   5]\n",
      " [  9 170]]\n"
     ]
    }
   ],
   "source": [
    "from sklearn.metrics import confusion_matrix\n",
    "cofusion_train = confusion_matrix(y_train, pred_train)\n",
    "print(\"훈련데이터 오차 행렬: \\n\",cofusion_train) # 333중 328, 179중 170 맞춤 "
   ]
  },
  {
   "cell_type": "code",
   "execution_count": 19,
   "id": "19850fe1-d2ac-4561-87c8-688c8385d303",
   "metadata": {},
   "outputs": [
    {
     "name": "stdout",
     "output_type": "stream",
     "text": [
      "훈련데이터 오차 행렬: \n",
      " [[106   5]\n",
      " [  2  58]]\n"
     ]
    }
   ],
   "source": [
    "cofusion_test = confusion_matrix(y_test, pred_test)\n",
    "print(\"훈련데이터 오차 행렬: \\n\",cofusion_test)"
   ]
  },
  {
   "cell_type": "markdown",
   "id": "77531dd2-11ec-4d8d-914b-0be3d0e41996",
   "metadata": {},
   "source": [
    "- report"
   ]
  },
  {
   "cell_type": "code",
   "execution_count": 20,
   "id": "2abf4ce6-30fd-4814-bae6-da512456faac",
   "metadata": {},
   "outputs": [
    {
     "name": "stdout",
     "output_type": "stream",
     "text": [
      "분류예측 레포트: \n",
      "               precision    recall  f1-score   support\n",
      "\n",
      "           0       0.97      0.98      0.98       333\n",
      "           1       0.97      0.95      0.96       179\n",
      "\n",
      "    accuracy                           0.97       512\n",
      "   macro avg       0.97      0.97      0.97       512\n",
      "weighted avg       0.97      0.97      0.97       512\n",
      "\n"
     ]
    }
   ],
   "source": [
    "from sklearn.metrics import classification_report\n",
    "\n",
    "cfre_train = classification_report(y_train, pred_train)\n",
    "print(\"분류예측 레포트: \\n\",cfre_train)"
   ]
  },
  {
   "cell_type": "code",
   "execution_count": 21,
   "id": "66e06d74-cc3e-4479-88a8-3ca3990da285",
   "metadata": {},
   "outputs": [
    {
     "name": "stdout",
     "output_type": "stream",
     "text": [
      "분류예측 레포트: \n",
      "               precision    recall  f1-score   support\n",
      "\n",
      "           0       0.98      0.95      0.97       111\n",
      "           1       0.92      0.97      0.94        60\n",
      "\n",
      "    accuracy                           0.96       171\n",
      "   macro avg       0.95      0.96      0.96       171\n",
      "weighted avg       0.96      0.96      0.96       171\n",
      "\n"
     ]
    }
   ],
   "source": [
    "cfre_test = classification_report(y_test, pred_test)\n",
    "print(\"분류예측 레포트: \\n\",cfre_test)"
   ]
  },
  {
   "cell_type": "markdown",
   "id": "68548126-4bc0-4579-84fe-e19a1b80a7f9",
   "metadata": {},
   "source": [
    "- ROC 평가지표\n",
    "\n",
    "50%는 최하, 100%에 가까울수록 좋은 모델"
   ]
  },
  {
   "cell_type": "code",
   "execution_count": 22,
   "id": "5efc4eff-769c-4aa0-bccb-febf5effee4b",
   "metadata": {},
   "outputs": [
    {
     "data": {
      "text/plain": [
       "0.9923423423423423"
      ]
     },
     "execution_count": 22,
     "metadata": {},
     "output_type": "execute_result"
    }
   ],
   "source": [
    "from sklearn.metrics import roc_curve,auc\n",
    "from sklearn import metrics\n",
    "\n",
    "false_positive_rate, true_positive_rate , thresholds = roc_curve(y_test, model.decision_function(X_test_MM))\n",
    "roc_auc = metrics.roc_auc_score(y_test, model.decision_function(X_test_MM))\n",
    "roc_auc"
   ]
  },
  {
   "cell_type": "markdown",
   "id": "a19efb22-e8bb-44c0-bd6f-b0a132656dbf",
   "metadata": {},
   "source": [
    "- ROC Curve"
   ]
  },
  {
   "cell_type": "code",
   "execution_count": 23,
   "id": "f0c78a89-f288-443c-ae61-40a14b4288f3",
   "metadata": {},
   "outputs": [],
   "source": [
    "import matplotlib.pyplot as plt"
   ]
  },
  {
   "cell_type": "code",
   "execution_count": 24,
   "id": "2c253374-6d9a-4600-8dfc-8ed0a5a5c0f4",
   "metadata": {},
   "outputs": [
    {
     "data": {
      "image/png": "[encoded data removed]",
      "text/plain": [
       "<Figure size 432x288 with 1 Axes>"
      ]
     },
     "metadata": {
      "needs_background": "light"
     },
     "output_type": "display_data"
    }
   ],
   "source": [
    "plt.title(\"Receiver Operating Characteristic\")\n",
    "\n",
    "plt.xlabel(\"False_positive_rate(1-Specificity)\")\n",
    "plt.ylabel(\"True_positive_rate(Sensitivity)\")\n",
    "plt.plot(false_positive_rate, true_positive_rate,'b', label= 'Model(Auc= {:0.2f})'.format(roc_auc))\n",
    "plt.plot([0,1],[1,1],'y--')\n",
    "plt.plot([0,1],[0,1],'r--')\n",
    "plt.legend(loc= 'best')\n",
    "plt.show()"
   ]
  },
  {
   "cell_type": "markdown",
   "id": "767f3cbc-ce05-40ed-b6c0-695ec72587c5",
   "metadata": {},
   "source": [
    "병합 및 저장"
   ]
  },
  {
   "cell_type": "code",
   "execution_count": 25,
   "id": "05d3beb5-a084-4b31-8ae9-ea969b9eed91",
   "metadata": {},
   "outputs": [
    {
     "data": {
      "text/plain": [
       "array([0.        , 0.        , 0.        , 0.00900901, 0.00900901,\n",
       "       0.02702703, 0.02702703, 0.03603604, 0.03603604, 0.04504505,\n",
       "       0.04504505, 0.17117117, 0.18918919, 0.23423423, 0.25225225,\n",
       "       0.27027027, 0.2972973 , 0.30630631, 0.32432432, 0.33333333,\n",
       "       0.35135135, 0.36036036, 0.37837838, 0.3963964 , 0.43243243,\n",
       "       0.45045045, 0.47747748, 0.52252252, 0.54954955, 0.55855856,\n",
       "       0.57657658, 0.58558559, 0.62162162, 0.63963964, 0.69369369,\n",
       "       0.73873874, 0.77477477, 0.79279279, 0.8018018 , 0.82882883,\n",
       "       0.86486486, 0.89189189, 0.92792793, 0.99099099, 1.        ])"
      ]
     },
     "execution_count": 25,
     "metadata": {},
     "output_type": "execute_result"
    }
   ],
   "source": [
    "false_positive_rate"
   ]
  },
  {
   "cell_type": "code",
   "execution_count": 26,
   "id": "48b1d340-7509-4607-86bb-b5e4b1a1a553",
   "metadata": {},
   "outputs": [
    {
     "data": {
      "text/plain": [
       "array([0.        , 0.01666667, 0.65      , 0.65      , 0.85      ,\n",
       "       0.85      , 0.86666667, 0.86666667, 0.93333333, 0.93333333,\n",
       "       1.        , 1.        , 1.        , 1.        , 1.        ,\n",
       "       1.        , 1.        , 1.        , 1.        , 1.        ,\n",
       "       1.        , 1.        , 1.        , 1.        , 1.        ,\n",
       "       1.        , 1.        , 1.        , 1.        , 1.        ,\n",
       "       1.        , 1.        , 1.        , 1.        , 1.        ,\n",
       "       1.        , 1.        , 1.        , 1.        , 1.        ,\n",
       "       1.        , 1.        , 1.        , 1.        , 1.        ])"
      ]
     },
     "execution_count": 26,
     "metadata": {},
     "output_type": "execute_result"
    }
   ],
   "source": [
    "true_positive_rate"
   ]
  },
  {
   "cell_type": "code",
   "execution_count": 27,
   "id": "71036f6f-5b6e-4641-8add-1d7b156ab114",
   "metadata": {},
   "outputs": [
    {
     "name": "stderr",
     "output_type": "stream",
     "text": [
      "<ipython-input-27-30f0b4a9dd3e>:2: SettingWithCopyWarning: \n",
      "A value is trying to be set on a copy of a slice from a DataFrame.\n",
      "Try using .loc[row_indexer,col_indexer] = value instead\n",
      "\n",
      "See the caveats in the documentation: https://pandas.pydata.org/pandas-docs/stable/user_guide/indexing.html#returning-a-view-versus-a-copy\n",
      "  y_train[['y_pred']] = pred_train\n",
      "C:\\Users\\user\\anaconda3\\lib\\site-packages\\pandas\\core\\indexing.py:1676: SettingWithCopyWarning: \n",
      "A value is trying to be set on a copy of a slice from a DataFrame.\n",
      "Try using .loc[row_indexer,col_indexer] = value instead\n",
      "\n",
      "See the caveats in the documentation: https://pandas.pydata.org/pandas-docs/stable/user_guide/indexing.html#returning-a-view-versus-a-copy\n",
      "  self._setitem_single_column(ilocs[0], value, pi)\n",
      "<ipython-input-27-30f0b4a9dd3e>:3: SettingWithCopyWarning: \n",
      "A value is trying to be set on a copy of a slice from a DataFrame.\n",
      "Try using .loc[row_indexer,col_indexer] = value instead\n",
      "\n",
      "See the caveats in the documentation: https://pandas.pydata.org/pandas-docs/stable/user_guide/indexing.html#returning-a-view-versus-a-copy\n",
      "  y_train[['y_prob0','y_prob1']] = prob_train\n",
      "C:\\Users\\user\\anaconda3\\lib\\site-packages\\pandas\\core\\indexing.py:1738: SettingWithCopyWarning: \n",
      "A value is trying to be set on a copy of a slice from a DataFrame.\n",
      "Try using .loc[row_indexer,col_indexer] = value instead\n",
      "\n",
      "See the caveats in the documentation: https://pandas.pydata.org/pandas-docs/stable/user_guide/indexing.html#returning-a-view-versus-a-copy\n",
      "  self._setitem_single_column(loc, value[:, i].tolist(), pi)\n"
     ]
    },
    {
     "data": {
      "text/html": [
       "<div>\n",
       "<style scoped>\n",
       "    .dataframe tbody tr th:only-of-type {\n",
       "        vertical-align: middle;\n",
       "    }\n",
       "\n",
       "    .dataframe tbody tr th {\n",
       "        vertical-align: top;\n",
       "    }\n",
       "\n",
       "    .dataframe thead th {\n",
       "        text-align: right;\n",
       "    }\n",
       "</style>\n",
       "<table border=\"1\" class=\"dataframe\">\n",
       "  <thead>\n",
       "    <tr style=\"text-align: right;\">\n",
       "      <th></th>\n",
       "      <th>Class</th>\n",
       "      <th>y_pred</th>\n",
       "      <th>y_prob0</th>\n",
       "      <th>y_prob1</th>\n",
       "    </tr>\n",
       "  </thead>\n",
       "  <tbody>\n",
       "    <tr>\n",
       "      <th>131</th>\n",
       "      <td>0</td>\n",
       "      <td>0</td>\n",
       "      <td>0.981014</td>\n",
       "      <td>0.018986</td>\n",
       "    </tr>\n",
       "    <tr>\n",
       "      <th>6</th>\n",
       "      <td>0</td>\n",
       "      <td>0</td>\n",
       "      <td>0.768191</td>\n",
       "      <td>0.231809</td>\n",
       "    </tr>\n",
       "    <tr>\n",
       "      <th>0</th>\n",
       "      <td>0</td>\n",
       "      <td>0</td>\n",
       "      <td>0.966431</td>\n",
       "      <td>0.033569</td>\n",
       "    </tr>\n",
       "    <tr>\n",
       "      <th>269</th>\n",
       "      <td>0</td>\n",
       "      <td>0</td>\n",
       "      <td>0.988880</td>\n",
       "      <td>0.011120</td>\n",
       "    </tr>\n",
       "    <tr>\n",
       "      <th>56</th>\n",
       "      <td>1</td>\n",
       "      <td>1</td>\n",
       "      <td>0.203161</td>\n",
       "      <td>0.796839</td>\n",
       "    </tr>\n",
       "    <tr>\n",
       "      <th>...</th>\n",
       "      <td>...</td>\n",
       "      <td>...</td>\n",
       "      <td>...</td>\n",
       "      <td>...</td>\n",
       "    </tr>\n",
       "    <tr>\n",
       "      <th>515</th>\n",
       "      <td>1</td>\n",
       "      <td>1</td>\n",
       "      <td>0.021270</td>\n",
       "      <td>0.978730</td>\n",
       "    </tr>\n",
       "    <tr>\n",
       "      <th>216</th>\n",
       "      <td>1</td>\n",
       "      <td>0</td>\n",
       "      <td>0.895961</td>\n",
       "      <td>0.104039</td>\n",
       "    </tr>\n",
       "    <tr>\n",
       "      <th>312</th>\n",
       "      <td>1</td>\n",
       "      <td>1</td>\n",
       "      <td>0.113440</td>\n",
       "      <td>0.886560</td>\n",
       "    </tr>\n",
       "    <tr>\n",
       "      <th>11</th>\n",
       "      <td>0</td>\n",
       "      <td>0</td>\n",
       "      <td>0.987405</td>\n",
       "      <td>0.012595</td>\n",
       "    </tr>\n",
       "    <tr>\n",
       "      <th>268</th>\n",
       "      <td>0</td>\n",
       "      <td>0</td>\n",
       "      <td>0.990470</td>\n",
       "      <td>0.009530</td>\n",
       "    </tr>\n",
       "  </tbody>\n",
       "</table>\n",
       "<p>512 rows × 4 columns</p>\n",
       "</div>"
      ],
      "text/plain": [
       "     Class  y_pred   y_prob0   y_prob1\n",
       "131      0       0  0.981014  0.018986\n",
       "6        0       0  0.768191  0.231809\n",
       "0        0       0  0.966431  0.033569\n",
       "269      0       0  0.988880  0.011120\n",
       "56       1       1  0.203161  0.796839\n",
       "..     ...     ...       ...       ...\n",
       "515      1       1  0.021270  0.978730\n",
       "216      1       0  0.895961  0.104039\n",
       "312      1       1  0.113440  0.886560\n",
       "11       0       0  0.987405  0.012595\n",
       "268      0       0  0.990470  0.009530\n",
       "\n",
       "[512 rows x 4 columns]"
      ]
     },
     "execution_count": 27,
     "metadata": {},
     "output_type": "execute_result"
    }
   ],
   "source": [
    "prob_train = model.predict_proba(X_train_MM)\n",
    "y_train[['y_pred']] = pred_train\n",
    "y_train[['y_prob0','y_prob1']] = prob_train\n",
    "y_train"
   ]
  },
  {
   "cell_type": "code",
   "execution_count": 28,
   "id": "9bec09e6-020b-4e0c-b8a3-6f309eba7fa8",
   "metadata": {},
   "outputs": [
    {
     "name": "stderr",
     "output_type": "stream",
     "text": [
      "<ipython-input-28-75d5d25eee37>:2: SettingWithCopyWarning: \n",
      "A value is trying to be set on a copy of a slice from a DataFrame.\n",
      "Try using .loc[row_indexer,col_indexer] = value instead\n",
      "\n",
      "See the caveats in the documentation: https://pandas.pydata.org/pandas-docs/stable/user_guide/indexing.html#returning-a-view-versus-a-copy\n",
      "  y_test[['y_pred']] = pred_test\n",
      "C:\\Users\\user\\anaconda3\\lib\\site-packages\\pandas\\core\\indexing.py:1676: SettingWithCopyWarning: \n",
      "A value is trying to be set on a copy of a slice from a DataFrame.\n",
      "Try using .loc[row_indexer,col_indexer] = value instead\n",
      "\n",
      "See the caveats in the documentation: https://pandas.pydata.org/pandas-docs/stable/user_guide/indexing.html#returning-a-view-versus-a-copy\n",
      "  self._setitem_single_column(ilocs[0], value, pi)\n",
      "<ipython-input-28-75d5d25eee37>:3: SettingWithCopyWarning: \n",
      "A value is trying to be set on a copy of a slice from a DataFrame.\n",
      "Try using .loc[row_indexer,col_indexer] = value instead\n",
      "\n",
      "See the caveats in the documentation: https://pandas.pydata.org/pandas-docs/stable/user_guide/indexing.html#returning-a-view-versus-a-copy\n",
      "  y_test[['y_prob0','y_prob1']] = prob_test\n",
      "C:\\Users\\user\\anaconda3\\lib\\site-packages\\pandas\\core\\indexing.py:1738: SettingWithCopyWarning: \n",
      "A value is trying to be set on a copy of a slice from a DataFrame.\n",
      "Try using .loc[row_indexer,col_indexer] = value instead\n",
      "\n",
      "See the caveats in the documentation: https://pandas.pydata.org/pandas-docs/stable/user_guide/indexing.html#returning-a-view-versus-a-copy\n",
      "  self._setitem_single_column(loc, value[:, i].tolist(), pi)\n"
     ]
    },
    {
     "data": {
      "text/html": [
       "<div>\n",
       "<style scoped>\n",
       "    .dataframe tbody tr th:only-of-type {\n",
       "        vertical-align: middle;\n",
       "    }\n",
       "\n",
       "    .dataframe tbody tr th {\n",
       "        vertical-align: top;\n",
       "    }\n",
       "\n",
       "    .dataframe thead th {\n",
       "        text-align: right;\n",
       "    }\n",
       "</style>\n",
       "<table border=\"1\" class=\"dataframe\">\n",
       "  <thead>\n",
       "    <tr style=\"text-align: right;\">\n",
       "      <th></th>\n",
       "      <th>Class</th>\n",
       "      <th>y_pred</th>\n",
       "      <th>y_prob0</th>\n",
       "      <th>y_prob1</th>\n",
       "    </tr>\n",
       "  </thead>\n",
       "  <tbody>\n",
       "    <tr>\n",
       "      <th>541</th>\n",
       "      <td>0</td>\n",
       "      <td>0</td>\n",
       "      <td>0.955893</td>\n",
       "      <td>0.044107</td>\n",
       "    </tr>\n",
       "    <tr>\n",
       "      <th>549</th>\n",
       "      <td>0</td>\n",
       "      <td>0</td>\n",
       "      <td>0.970887</td>\n",
       "      <td>0.029113</td>\n",
       "    </tr>\n",
       "    <tr>\n",
       "      <th>318</th>\n",
       "      <td>0</td>\n",
       "      <td>0</td>\n",
       "      <td>0.943572</td>\n",
       "      <td>0.056428</td>\n",
       "    </tr>\n",
       "    <tr>\n",
       "      <th>183</th>\n",
       "      <td>0</td>\n",
       "      <td>0</td>\n",
       "      <td>0.979370</td>\n",
       "      <td>0.020630</td>\n",
       "    </tr>\n",
       "    <tr>\n",
       "      <th>478</th>\n",
       "      <td>1</td>\n",
       "      <td>1</td>\n",
       "      <td>0.001305</td>\n",
       "      <td>0.998695</td>\n",
       "    </tr>\n",
       "    <tr>\n",
       "      <th>...</th>\n",
       "      <td>...</td>\n",
       "      <td>...</td>\n",
       "      <td>...</td>\n",
       "      <td>...</td>\n",
       "    </tr>\n",
       "    <tr>\n",
       "      <th>425</th>\n",
       "      <td>1</td>\n",
       "      <td>1</td>\n",
       "      <td>0.006201</td>\n",
       "      <td>0.993799</td>\n",
       "    </tr>\n",
       "    <tr>\n",
       "      <th>314</th>\n",
       "      <td>1</td>\n",
       "      <td>1</td>\n",
       "      <td>0.067440</td>\n",
       "      <td>0.932560</td>\n",
       "    </tr>\n",
       "    <tr>\n",
       "      <th>15</th>\n",
       "      <td>1</td>\n",
       "      <td>1</td>\n",
       "      <td>0.436887</td>\n",
       "      <td>0.563113</td>\n",
       "    </tr>\n",
       "    <tr>\n",
       "      <th>510</th>\n",
       "      <td>0</td>\n",
       "      <td>0</td>\n",
       "      <td>0.983410</td>\n",
       "      <td>0.016590</td>\n",
       "    </tr>\n",
       "    <tr>\n",
       "      <th>351</th>\n",
       "      <td>0</td>\n",
       "      <td>0</td>\n",
       "      <td>0.987405</td>\n",
       "      <td>0.012595</td>\n",
       "    </tr>\n",
       "  </tbody>\n",
       "</table>\n",
       "<p>171 rows × 4 columns</p>\n",
       "</div>"
      ],
      "text/plain": [
       "     Class  y_pred   y_prob0   y_prob1\n",
       "541      0       0  0.955893  0.044107\n",
       "549      0       0  0.970887  0.029113\n",
       "318      0       0  0.943572  0.056428\n",
       "183      0       0  0.979370  0.020630\n",
       "478      1       1  0.001305  0.998695\n",
       "..     ...     ...       ...       ...\n",
       "425      1       1  0.006201  0.993799\n",
       "314      1       1  0.067440  0.932560\n",
       "15       1       1  0.436887  0.563113\n",
       "510      0       0  0.983410  0.016590\n",
       "351      0       0  0.987405  0.012595\n",
       "\n",
       "[171 rows x 4 columns]"
      ]
     },
     "execution_count": 28,
     "metadata": {},
     "output_type": "execute_result"
    }
   ],
   "source": [
    "prob_test = model.predict_proba(X_test_MM)\n",
    "y_test[['y_pred']] = pred_test\n",
    "y_test[['y_prob0','y_prob1']] = prob_test\n",
    "y_test"
   ]
  },
  {
   "cell_type": "code",
   "execution_count": 29,
   "id": "6e9bd314-9945-4cd5-bef9-4e60b67a5c98",
   "metadata": {},
   "outputs": [],
   "source": [
    "Total_test= pd.concat([X_test,y_test],axis=1)"
   ]
  },
  {
   "cell_type": "code",
   "execution_count": 30,
   "id": "bfbc56be-1731-47d2-ba19-adfe5f0dd5ab",
   "metadata": {},
   "outputs": [],
   "source": [
    "Total_test.to_csv(\"new classification.csv\")"
   ]
  },
  {
   "cell_type": "markdown",
   "id": "65425403-85cb-43f2-b855-87b3b549938a",
   "metadata": {},
   "source": [
    "# \n",
    "# 머신러닝 맛보기 2:회귀 문제"
   ]
  },
  {
   "cell_type": "code",
   "execution_count": 31,
   "id": "b3baac44-158b-4986-8449-85f57023005c",
   "metadata": {},
   "outputs": [
    {
     "data": {
      "text/html": [
       "<div>\n",
       "<style scoped>\n",
       "    .dataframe tbody tr th:only-of-type {\n",
       "        vertical-align: middle;\n",
       "    }\n",
       "\n",
       "    .dataframe tbody tr th {\n",
       "        vertical-align: top;\n",
       "    }\n",
       "\n",
       "    .dataframe thead th {\n",
       "        text-align: right;\n",
       "    }\n",
       "</style>\n",
       "<table border=\"1\" class=\"dataframe\">\n",
       "  <thead>\n",
       "    <tr style=\"text-align: right;\">\n",
       "      <th></th>\n",
       "      <th>housing_age</th>\n",
       "      <th>income</th>\n",
       "      <th>bedrooms</th>\n",
       "      <th>households</th>\n",
       "      <th>rooms</th>\n",
       "      <th>house_value</th>\n",
       "    </tr>\n",
       "  </thead>\n",
       "  <tbody>\n",
       "    <tr>\n",
       "      <th>0</th>\n",
       "      <td>23</td>\n",
       "      <td>6.7770</td>\n",
       "      <td>0.141112</td>\n",
       "      <td>2.442244</td>\n",
       "      <td>8.103960</td>\n",
       "      <td>500000</td>\n",
       "    </tr>\n",
       "    <tr>\n",
       "      <th>1</th>\n",
       "      <td>49</td>\n",
       "      <td>6.0199</td>\n",
       "      <td>0.160984</td>\n",
       "      <td>2.726688</td>\n",
       "      <td>5.752412</td>\n",
       "      <td>500000</td>\n",
       "    </tr>\n",
       "    <tr>\n",
       "      <th>2</th>\n",
       "      <td>35</td>\n",
       "      <td>5.1155</td>\n",
       "      <td>0.249061</td>\n",
       "      <td>1.902676</td>\n",
       "      <td>3.888078</td>\n",
       "      <td>500000</td>\n",
       "    </tr>\n",
       "    <tr>\n",
       "      <th>3</th>\n",
       "      <td>32</td>\n",
       "      <td>4.7109</td>\n",
       "      <td>0.231383</td>\n",
       "      <td>1.913669</td>\n",
       "      <td>4.508393</td>\n",
       "      <td>500000</td>\n",
       "    </tr>\n",
       "    <tr>\n",
       "      <th>4</th>\n",
       "      <td>21</td>\n",
       "      <td>4.5625</td>\n",
       "      <td>0.255583</td>\n",
       "      <td>3.092664</td>\n",
       "      <td>4.667954</td>\n",
       "      <td>500000</td>\n",
       "    </tr>\n",
       "  </tbody>\n",
       "</table>\n",
       "</div>"
      ],
      "text/plain": [
       "   housing_age  income  bedrooms  households     rooms  house_value\n",
       "0           23  6.7770  0.141112    2.442244  8.103960       500000\n",
       "1           49  6.0199  0.160984    2.726688  5.752412       500000\n",
       "2           35  5.1155  0.249061    1.902676  3.888078       500000\n",
       "3           32  4.7109  0.231383    1.913669  4.508393       500000\n",
       "4           21  4.5625  0.255583    3.092664  4.667954       500000"
      ]
     },
     "execution_count": 31,
     "metadata": {},
     "output_type": "execute_result"
    }
   ],
   "source": [
    "import pandas as pd\n",
    "data =pd.read_csv('c:\\\\Users\\\\user\\\\빅분기 실기\\\\[1]BigData_data_최종본(0910)\\\\house_price.csv')\n",
    "data.head()"
   ]
  },
  {
   "cell_type": "code",
   "execution_count": 32,
   "id": "1ada4684-ccc1-412d-9028-146d83c199c4",
   "metadata": {},
   "outputs": [
    {
     "data": {
      "text/html": [
       "<div>\n",
       "<style scoped>\n",
       "    .dataframe tbody tr th:only-of-type {\n",
       "        vertical-align: middle;\n",
       "    }\n",
       "\n",
       "    .dataframe tbody tr th {\n",
       "        vertical-align: top;\n",
       "    }\n",
       "\n",
       "    .dataframe thead th {\n",
       "        text-align: right;\n",
       "    }\n",
       "</style>\n",
       "<table border=\"1\" class=\"dataframe\">\n",
       "  <thead>\n",
       "    <tr style=\"text-align: right;\">\n",
       "      <th></th>\n",
       "      <th>housing_age</th>\n",
       "      <th>income</th>\n",
       "      <th>bedrooms</th>\n",
       "      <th>households</th>\n",
       "      <th>rooms</th>\n",
       "      <th>house_value</th>\n",
       "    </tr>\n",
       "  </thead>\n",
       "  <tbody>\n",
       "    <tr>\n",
       "      <th>count</th>\n",
       "      <td>17689.000000</td>\n",
       "      <td>17689.000000</td>\n",
       "      <td>17689.000000</td>\n",
       "      <td>17689.000000</td>\n",
       "      <td>17689.000000</td>\n",
       "      <td>17689.000000</td>\n",
       "    </tr>\n",
       "    <tr>\n",
       "      <th>mean</th>\n",
       "      <td>27.378823</td>\n",
       "      <td>3.671141</td>\n",
       "      <td>0.213278</td>\n",
       "      <td>2.952117</td>\n",
       "      <td>5.244001</td>\n",
       "      <td>189043.439313</td>\n",
       "    </tr>\n",
       "    <tr>\n",
       "      <th>std</th>\n",
       "      <td>11.280230</td>\n",
       "      <td>1.525937</td>\n",
       "      <td>0.051167</td>\n",
       "      <td>0.731573</td>\n",
       "      <td>1.184922</td>\n",
       "      <td>95487.122628</td>\n",
       "    </tr>\n",
       "    <tr>\n",
       "      <th>min</th>\n",
       "      <td>1.000000</td>\n",
       "      <td>0.499900</td>\n",
       "      <td>0.100000</td>\n",
       "      <td>0.750000</td>\n",
       "      <td>1.640000</td>\n",
       "      <td>14999.000000</td>\n",
       "    </tr>\n",
       "    <tr>\n",
       "      <th>25%</th>\n",
       "      <td>18.000000</td>\n",
       "      <td>2.532900</td>\n",
       "      <td>0.177464</td>\n",
       "      <td>2.470270</td>\n",
       "      <td>4.426829</td>\n",
       "      <td>114400.000000</td>\n",
       "    </tr>\n",
       "    <tr>\n",
       "      <th>50%</th>\n",
       "      <td>28.000000</td>\n",
       "      <td>3.453900</td>\n",
       "      <td>0.204104</td>\n",
       "      <td>2.854962</td>\n",
       "      <td>5.190779</td>\n",
       "      <td>171100.000000</td>\n",
       "    </tr>\n",
       "    <tr>\n",
       "      <th>75%</th>\n",
       "      <td>36.000000</td>\n",
       "      <td>4.591800</td>\n",
       "      <td>0.240157</td>\n",
       "      <td>3.316092</td>\n",
       "      <td>5.953728</td>\n",
       "      <td>242700.000000</td>\n",
       "    </tr>\n",
       "    <tr>\n",
       "      <th>max</th>\n",
       "      <td>51.000000</td>\n",
       "      <td>9.905500</td>\n",
       "      <td>0.498127</td>\n",
       "      <td>6.954023</td>\n",
       "      <td>11.901869</td>\n",
       "      <td>500000.000000</td>\n",
       "    </tr>\n",
       "  </tbody>\n",
       "</table>\n",
       "</div>"
      ],
      "text/plain": [
       "        housing_age        income      bedrooms    households         rooms  \\\n",
       "count  17689.000000  17689.000000  17689.000000  17689.000000  17689.000000   \n",
       "mean      27.378823      3.671141      0.213278      2.952117      5.244001   \n",
       "std       11.280230      1.525937      0.051167      0.731573      1.184922   \n",
       "min        1.000000      0.499900      0.100000      0.750000      1.640000   \n",
       "25%       18.000000      2.532900      0.177464      2.470270      4.426829   \n",
       "50%       28.000000      3.453900      0.204104      2.854962      5.190779   \n",
       "75%       36.000000      4.591800      0.240157      3.316092      5.953728   \n",
       "max       51.000000      9.905500      0.498127      6.954023     11.901869   \n",
       "\n",
       "         house_value  \n",
       "count   17689.000000  \n",
       "mean   189043.439313  \n",
       "std     95487.122628  \n",
       "min     14999.000000  \n",
       "25%    114400.000000  \n",
       "50%    171100.000000  \n",
       "75%    242700.000000  \n",
       "max    500000.000000  "
      ]
     },
     "execution_count": 32,
     "metadata": {},
     "output_type": "execute_result"
    }
   ],
   "source": [
    "data.describe()"
   ]
  },
  {
   "cell_type": "code",
   "execution_count": 33,
   "id": "beb776f7-d628-412c-af3f-1d09a08f5209",
   "metadata": {},
   "outputs": [
    {
     "data": {
      "text/plain": [
       "array([[<AxesSubplot:title={'center':'housing_age'}>,\n",
       "        <AxesSubplot:title={'center':'income'}>],\n",
       "       [<AxesSubplot:title={'center':'bedrooms'}>,\n",
       "        <AxesSubplot:title={'center':'households'}>],\n",
       "       [<AxesSubplot:title={'center':'rooms'}>,\n",
       "        <AxesSubplot:title={'center':'house_value'}>]], dtype=object)"
      ]
     },
     "execution_count": 33,
     "metadata": {},
     "output_type": "execute_result"
    },
    {
     "data": {
      "image/png": "[encoded data removed]",
      "text/plain": [
       "<Figure size 1440x720 with 6 Axes>"
      ]
     },
     "metadata": {
      "needs_background": "light"
     },
     "output_type": "display_data"
    }
   ],
   "source": [
    "data.hist(bins=50,figsize=(20,10))"
   ]
  },
  {
   "cell_type": "markdown",
   "id": "78d008c6-6042-4a1a-b5f0-ea0c18ab277f",
   "metadata": {},
   "source": [
    "##\n",
    "데이터 나누기\n"
   ]
  },
  {
   "cell_type": "code",
   "execution_count": 34,
   "id": "4189e5e7-f55c-4403-900c-6b6abb288546",
   "metadata": {},
   "outputs": [],
   "source": [
    "X = data[data.columns[:len(data.columns)-1]]\n",
    "y = data[['house_value']]"
   ]
  },
  {
   "cell_type": "code",
   "execution_count": 35,
   "id": "c655d4c7-c8b5-4534-afaf-9599d11170e1",
   "metadata": {},
   "outputs": [
    {
     "data": {
      "text/plain": [
       "((17689, 5), (17689, 1))"
      ]
     },
     "execution_count": 35,
     "metadata": {},
     "output_type": "execute_result"
    }
   ],
   "source": [
    "X.shape, y.shape"
   ]
  },
  {
   "cell_type": "code",
   "execution_count": 36,
   "id": "4cd495f5-efc3-40a7-9869-2e2e5f55efca",
   "metadata": {},
   "outputs": [],
   "source": [
    "from sklearn.model_selection import train_test_split\n",
    "\n",
    "X_train, X_test, y_train, y_test = train_test_split(X,y,random_state=42)"
   ]
  },
  {
   "cell_type": "code",
   "execution_count": 37,
   "id": "ca1eb0f6-bad8-452c-8207-83b24900d460",
   "metadata": {},
   "outputs": [
    {
     "data": {
      "text/plain": [
       "(house_value    189260.967812\n",
       " dtype: float64,\n",
       " house_value    188391.001357\n",
       " dtype: float64)"
      ]
     },
     "execution_count": 37,
     "metadata": {},
     "output_type": "execute_result"
    }
   ],
   "source": [
    "y_train.mean(), y_test.mean()"
   ]
  },
  {
   "cell_type": "markdown",
   "id": "73794995-1840-4a00-b3fb-70174098453d",
   "metadata": {},
   "source": [
    "###\n",
    "정규화"
   ]
  },
  {
   "cell_type": "code",
   "execution_count": 38,
   "id": "e2177c31-0600-4f08-a004-e8138aad7363",
   "metadata": {},
   "outputs": [],
   "source": [
    "from sklearn.preprocessing import MinMaxScaler\n",
    "from sklearn.preprocessing import StandardScaler\n",
    "\n",
    "scaler_MM=  MinMaxScaler()\n",
    "scaler_S=  StandardScaler()\n",
    "\n",
    "scaler_MM.fit(X_train)\n",
    "\n",
    "X_train_MM = scaler_MM.transform(X_train)\n",
    "X_test_MM = scaler_MM.transform(X_test)\n",
    "\n",
    "scaler_S.fit(X_train)\n",
    "\n",
    "X_train_S = scaler_S.transform(X_train)\n",
    "X_test_S = scaler_S.transform(X_test)"
   ]
  },
  {
   "cell_type": "code",
   "execution_count": 39,
   "id": "736ca8b2-68d4-469c-941d-92073adc7f6d",
   "metadata": {},
   "outputs": [
    {
     "data": {
      "text/html": [
       "<div>\n",
       "<style scoped>\n",
       "    .dataframe tbody tr th:only-of-type {\n",
       "        vertical-align: middle;\n",
       "    }\n",
       "\n",
       "    .dataframe tbody tr th {\n",
       "        vertical-align: top;\n",
       "    }\n",
       "\n",
       "    .dataframe thead th {\n",
       "        text-align: right;\n",
       "    }\n",
       "</style>\n",
       "<table border=\"1\" class=\"dataframe\">\n",
       "  <thead>\n",
       "    <tr style=\"text-align: right;\">\n",
       "      <th></th>\n",
       "      <th>0</th>\n",
       "      <th>1</th>\n",
       "      <th>2</th>\n",
       "      <th>3</th>\n",
       "      <th>4</th>\n",
       "    </tr>\n",
       "  </thead>\n",
       "  <tbody>\n",
       "    <tr>\n",
       "      <th>count</th>\n",
       "      <td>13266.000000</td>\n",
       "      <td>13266.000000</td>\n",
       "      <td>13266.000000</td>\n",
       "      <td>13266.000000</td>\n",
       "      <td>13266.000000</td>\n",
       "    </tr>\n",
       "    <tr>\n",
       "      <th>mean</th>\n",
       "      <td>0.526774</td>\n",
       "      <td>0.337157</td>\n",
       "      <td>0.284682</td>\n",
       "      <td>0.357657</td>\n",
       "      <td>0.335256</td>\n",
       "    </tr>\n",
       "    <tr>\n",
       "      <th>std</th>\n",
       "      <td>0.224853</td>\n",
       "      <td>0.161972</td>\n",
       "      <td>0.129011</td>\n",
       "      <td>0.118029</td>\n",
       "      <td>0.117614</td>\n",
       "    </tr>\n",
       "    <tr>\n",
       "      <th>min</th>\n",
       "      <td>0.000000</td>\n",
       "      <td>0.000000</td>\n",
       "      <td>0.000000</td>\n",
       "      <td>0.000000</td>\n",
       "      <td>0.000000</td>\n",
       "    </tr>\n",
       "    <tr>\n",
       "      <th>25%</th>\n",
       "      <td>0.340000</td>\n",
       "      <td>0.217083</td>\n",
       "      <td>0.194600</td>\n",
       "      <td>0.280091</td>\n",
       "      <td>0.254470</td>\n",
       "    </tr>\n",
       "    <tr>\n",
       "      <th>50%</th>\n",
       "      <td>0.540000</td>\n",
       "      <td>0.313983</td>\n",
       "      <td>0.261866</td>\n",
       "      <td>0.342512</td>\n",
       "      <td>0.330405</td>\n",
       "    </tr>\n",
       "    <tr>\n",
       "      <th>75%</th>\n",
       "      <td>0.700000</td>\n",
       "      <td>0.435921</td>\n",
       "      <td>0.352555</td>\n",
       "      <td>0.416829</td>\n",
       "      <td>0.405879</td>\n",
       "    </tr>\n",
       "    <tr>\n",
       "      <th>max</th>\n",
       "      <td>1.000000</td>\n",
       "      <td>1.000000</td>\n",
       "      <td>1.000000</td>\n",
       "      <td>1.000000</td>\n",
       "      <td>1.000000</td>\n",
       "    </tr>\n",
       "  </tbody>\n",
       "</table>\n",
       "</div>"
      ],
      "text/plain": [
       "                  0             1             2             3             4\n",
       "count  13266.000000  13266.000000  13266.000000  13266.000000  13266.000000\n",
       "mean       0.526774      0.337157      0.284682      0.357657      0.335256\n",
       "std        0.224853      0.161972      0.129011      0.118029      0.117614\n",
       "min        0.000000      0.000000      0.000000      0.000000      0.000000\n",
       "25%        0.340000      0.217083      0.194600      0.280091      0.254470\n",
       "50%        0.540000      0.313983      0.261866      0.342512      0.330405\n",
       "75%        0.700000      0.435921      0.352555      0.416829      0.405879\n",
       "max        1.000000      1.000000      1.000000      1.000000      1.000000"
      ]
     },
     "execution_count": 39,
     "metadata": {},
     "output_type": "execute_result"
    }
   ],
   "source": [
    "pd.DataFrame(X_train_MM).describe()"
   ]
  },
  {
   "cell_type": "code",
   "execution_count": 40,
   "id": "4e414a3b-e3b9-42eb-9615-77dcb33ba10f",
   "metadata": {},
   "outputs": [
    {
     "data": {
      "text/html": [
       "<div>\n",
       "<style scoped>\n",
       "    .dataframe tbody tr th:only-of-type {\n",
       "        vertical-align: middle;\n",
       "    }\n",
       "\n",
       "    .dataframe tbody tr th {\n",
       "        vertical-align: top;\n",
       "    }\n",
       "\n",
       "    .dataframe thead th {\n",
       "        text-align: right;\n",
       "    }\n",
       "</style>\n",
       "<table border=\"1\" class=\"dataframe\">\n",
       "  <thead>\n",
       "    <tr style=\"text-align: right;\">\n",
       "      <th></th>\n",
       "      <th>0</th>\n",
       "      <th>1</th>\n",
       "      <th>2</th>\n",
       "      <th>3</th>\n",
       "      <th>4</th>\n",
       "    </tr>\n",
       "  </thead>\n",
       "  <tbody>\n",
       "    <tr>\n",
       "      <th>count</th>\n",
       "      <td>1.326600e+04</td>\n",
       "      <td>1.326600e+04</td>\n",
       "      <td>1.326600e+04</td>\n",
       "      <td>1.326600e+04</td>\n",
       "      <td>1.326600e+04</td>\n",
       "    </tr>\n",
       "    <tr>\n",
       "      <th>mean</th>\n",
       "      <td>5.615556e-18</td>\n",
       "      <td>1.588508e-16</td>\n",
       "      <td>7.827508e-16</td>\n",
       "      <td>-1.103026e-16</td>\n",
       "      <td>-3.708213e-16</td>\n",
       "    </tr>\n",
       "    <tr>\n",
       "      <th>std</th>\n",
       "      <td>1.000038e+00</td>\n",
       "      <td>1.000038e+00</td>\n",
       "      <td>1.000038e+00</td>\n",
       "      <td>1.000038e+00</td>\n",
       "      <td>1.000038e+00</td>\n",
       "    </tr>\n",
       "    <tr>\n",
       "      <th>min</th>\n",
       "      <td>-2.342832e+00</td>\n",
       "      <td>-2.081653e+00</td>\n",
       "      <td>-2.206729e+00</td>\n",
       "      <td>-3.030366e+00</td>\n",
       "      <td>-2.850578e+00</td>\n",
       "    </tr>\n",
       "    <tr>\n",
       "      <th>25%</th>\n",
       "      <td>-8.306782e-01</td>\n",
       "      <td>-7.413514e-01</td>\n",
       "      <td>-6.982778e-01</td>\n",
       "      <td>-6.572081e-01</td>\n",
       "      <td>-6.868994e-01</td>\n",
       "    </tr>\n",
       "    <tr>\n",
       "      <th>50%</th>\n",
       "      <td>5.882409e-02</td>\n",
       "      <td>-1.430799e-01</td>\n",
       "      <td>-1.768626e-01</td>\n",
       "      <td>-1.283229e-01</td>\n",
       "      <td>-4.124140e-02</td>\n",
       "    </tr>\n",
       "    <tr>\n",
       "      <th>75%</th>\n",
       "      <td>7.704259e-01</td>\n",
       "      <td>6.097813e-01</td>\n",
       "      <td>5.261181e-01</td>\n",
       "      <td>5.013487e-01</td>\n",
       "      <td>6.004859e-01</td>\n",
       "    </tr>\n",
       "    <tr>\n",
       "      <th>max</th>\n",
       "      <td>2.104679e+00</td>\n",
       "      <td>4.092478e+00</td>\n",
       "      <td>5.544819e+00</td>\n",
       "      <td>5.442457e+00</td>\n",
       "      <td>5.652123e+00</td>\n",
       "    </tr>\n",
       "  </tbody>\n",
       "</table>\n",
       "</div>"
      ],
      "text/plain": [
       "                  0             1             2             3             4\n",
       "count  1.326600e+04  1.326600e+04  1.326600e+04  1.326600e+04  1.326600e+04\n",
       "mean   5.615556e-18  1.588508e-16  7.827508e-16 -1.103026e-16 -3.708213e-16\n",
       "std    1.000038e+00  1.000038e+00  1.000038e+00  1.000038e+00  1.000038e+00\n",
       "min   -2.342832e+00 -2.081653e+00 -2.206729e+00 -3.030366e+00 -2.850578e+00\n",
       "25%   -8.306782e-01 -7.413514e-01 -6.982778e-01 -6.572081e-01 -6.868994e-01\n",
       "50%    5.882409e-02 -1.430799e-01 -1.768626e-01 -1.283229e-01 -4.124140e-02\n",
       "75%    7.704259e-01  6.097813e-01  5.261181e-01  5.013487e-01  6.004859e-01\n",
       "max    2.104679e+00  4.092478e+00  5.544819e+00  5.442457e+00  5.652123e+00"
      ]
     },
     "execution_count": 40,
     "metadata": {},
     "output_type": "execute_result"
    }
   ],
   "source": [
    "pd.DataFrame(X_train_S).describe()"
   ]
  },
  {
   "cell_type": "code",
   "execution_count": 41,
   "id": "c1cc14ac-6afb-458b-b6c6-e4aae20e3108",
   "metadata": {},
   "outputs": [
    {
     "data": {
      "text/html": [
       "<div>\n",
       "<style scoped>\n",
       "    .dataframe tbody tr th:only-of-type {\n",
       "        vertical-align: middle;\n",
       "    }\n",
       "\n",
       "    .dataframe tbody tr th {\n",
       "        vertical-align: top;\n",
       "    }\n",
       "\n",
       "    .dataframe thead th {\n",
       "        text-align: right;\n",
       "    }\n",
       "</style>\n",
       "<table border=\"1\" class=\"dataframe\">\n",
       "  <thead>\n",
       "    <tr style=\"text-align: right;\">\n",
       "      <th></th>\n",
       "      <th>0</th>\n",
       "      <th>1</th>\n",
       "      <th>2</th>\n",
       "      <th>3</th>\n",
       "      <th>4</th>\n",
       "    </tr>\n",
       "  </thead>\n",
       "  <tbody>\n",
       "    <tr>\n",
       "      <th>count</th>\n",
       "      <td>4423.000000</td>\n",
       "      <td>4423.000000</td>\n",
       "      <td>4423.000000</td>\n",
       "      <td>4423.000000</td>\n",
       "      <td>4423.000000</td>\n",
       "    </tr>\n",
       "    <tr>\n",
       "      <th>mean</th>\n",
       "      <td>0.529984</td>\n",
       "      <td>0.337189</td>\n",
       "      <td>0.284061</td>\n",
       "      <td>0.362482</td>\n",
       "      <td>0.338222</td>\n",
       "    </tr>\n",
       "    <tr>\n",
       "      <th>std</th>\n",
       "      <td>0.227852</td>\n",
       "      <td>0.163047</td>\n",
       "      <td>0.127044</td>\n",
       "      <td>0.122663</td>\n",
       "      <td>0.119826</td>\n",
       "    </tr>\n",
       "    <tr>\n",
       "      <th>min</th>\n",
       "      <td>0.000000</td>\n",
       "      <td>0.000000</td>\n",
       "      <td>0.044099</td>\n",
       "      <td>0.051525</td>\n",
       "      <td>-0.023437</td>\n",
       "    </tr>\n",
       "    <tr>\n",
       "      <th>25%</th>\n",
       "      <td>0.340000</td>\n",
       "      <td>0.213011</td>\n",
       "      <td>0.194452</td>\n",
       "      <td>0.281143</td>\n",
       "      <td>0.254633</td>\n",
       "    </tr>\n",
       "    <tr>\n",
       "      <th>50%</th>\n",
       "      <td>0.540000</td>\n",
       "      <td>0.314536</td>\n",
       "      <td>0.260169</td>\n",
       "      <td>0.344791</td>\n",
       "      <td>0.331819</td>\n",
       "    </tr>\n",
       "    <tr>\n",
       "      <th>75%</th>\n",
       "      <td>0.700000</td>\n",
       "      <td>0.433109</td>\n",
       "      <td>0.351367</td>\n",
       "      <td>0.424120</td>\n",
       "      <td>0.410090</td>\n",
       "    </tr>\n",
       "    <tr>\n",
       "      <th>max</th>\n",
       "      <td>1.000000</td>\n",
       "      <td>0.992462</td>\n",
       "      <td>0.975243</td>\n",
       "      <td>1.011026</td>\n",
       "      <td>0.998799</td>\n",
       "    </tr>\n",
       "  </tbody>\n",
       "</table>\n",
       "</div>"
      ],
      "text/plain": [
       "                 0            1            2            3            4\n",
       "count  4423.000000  4423.000000  4423.000000  4423.000000  4423.000000\n",
       "mean      0.529984     0.337189     0.284061     0.362482     0.338222\n",
       "std       0.227852     0.163047     0.127044     0.122663     0.119826\n",
       "min       0.000000     0.000000     0.044099     0.051525    -0.023437\n",
       "25%       0.340000     0.213011     0.194452     0.281143     0.254633\n",
       "50%       0.540000     0.314536     0.260169     0.344791     0.331819\n",
       "75%       0.700000     0.433109     0.351367     0.424120     0.410090\n",
       "max       1.000000     0.992462     0.975243     1.011026     0.998799"
      ]
     },
     "execution_count": 41,
     "metadata": {},
     "output_type": "execute_result"
    }
   ],
   "source": [
    "pd.DataFrame(X_test_MM).describe()"
   ]
  },
  {
   "cell_type": "markdown",
   "id": "a7902301-75bc-4567-b751-927ce6cd109e",
   "metadata": {},
   "source": [
    "###\n",
    "모델 학습"
   ]
  },
  {
   "cell_type": "code",
   "execution_count": 42,
   "id": "6ca19e07-40f4-41d9-9f86-88106cd7392f",
   "metadata": {},
   "outputs": [
    {
     "name": "stdout",
     "output_type": "stream",
     "text": [
      "R-squared = 0.57\n"
     ]
    }
   ],
   "source": [
    "from sklearn.linear_model import LinearRegression\n",
    "model = LinearRegression()\n",
    "model.fit(X_train_MM, y_train)\n",
    "pred_train = model.predict(X_train_MM)\n",
    "print(\"R-squared = {:0.2f}\".format(model.score(X_train_MM, y_train)))"
   ]
  },
  {
   "cell_type": "code",
   "execution_count": 43,
   "id": "41254c67-4b40-4673-91cf-82c5a3796839",
   "metadata": {},
   "outputs": [
    {
     "name": "stdout",
     "output_type": "stream",
     "text": [
      "R-squared = 0.58\n"
     ]
    }
   ],
   "source": [
    "pred_test = model.predict(X_test_MM)\n",
    "print(\"R-squared = {:0.2f}\".format(model.score(X_test_MM, y_test)))"
   ]
  },
  {
   "cell_type": "markdown",
   "id": "111522c6-e84f-4cce-a710-acf5c027102e",
   "metadata": {},
   "source": [
    "- RMSE\n",
    "\n",
    "평균제곱오차"
   ]
  },
  {
   "cell_type": "code",
   "execution_count": 44,
   "id": "74a5fea3-7db7-43c4-8140-3378fb36fda5",
   "metadata": {},
   "outputs": [
    {
     "name": "stdout",
     "output_type": "stream",
     "text": [
      "RMSE = 61763.85\n"
     ]
    }
   ],
   "source": [
    "import numpy as np\n",
    "from sklearn.metrics import mean_squared_error\n",
    "MSE =mean_squared_error(y_test, pred_test)\n",
    "print(\"RMSE = {:0.2f}\".format(np.sqrt(MSE)))"
   ]
  },
  {
   "cell_type": "markdown",
   "id": "9d72f435-83f0-4e91-b28c-78f1f070c29a",
   "metadata": {},
   "source": [
    "- MAE\n",
    "\n",
    "평균 절댓값 오차"
   ]
  },
  {
   "cell_type": "code",
   "execution_count": 45,
   "id": "f0298f1e-2a04-4375-883a-c62c8ac3eedb",
   "metadata": {},
   "outputs": [
    {
     "name": "stdout",
     "output_type": "stream",
     "text": [
      "46218.35635910518\n"
     ]
    }
   ],
   "source": [
    "from sklearn.metrics import mean_absolute_error\n",
    "MAE =mean_absolute_error(y_test, pred_test)\n",
    "MAE =mean_absolute_error(y_test, pred_test)\n",
    "print(MAE)"
   ]
  },
  {
   "cell_type": "markdown",
   "id": "4d761d35-3667-4cda-84c8-e45e43572df1",
   "metadata": {},
   "source": [
    "- MSE"
   ]
  },
  {
   "cell_type": "code",
   "execution_count": 46,
   "id": "7072d94b-b7d4-4b75-9392-becea56a0908",
   "metadata": {},
   "outputs": [
    {
     "name": "stdout",
     "output_type": "stream",
     "text": [
      "3814773021.730826\n"
     ]
    }
   ],
   "source": [
    "MAE =mean_absolute_error(y_test, pred_test)\n",
    "print(MSE)"
   ]
  },
  {
   "cell_type": "markdown",
   "id": "46efe9f0-378c-46b2-82fe-0699831d0301",
   "metadata": {},
   "source": [
    "- MAPE"
   ]
  },
  {
   "cell_type": "code",
   "execution_count": 47,
   "id": "7764ab07-e57d-4ded-9014-7c4e0af2aa04",
   "metadata": {},
   "outputs": [
    {
     "data": {
      "text/plain": [
       "house_value    30.33032\n",
       "dtype: float64"
      ]
     },
     "execution_count": 47,
     "metadata": {},
     "output_type": "execute_result"
    }
   ],
   "source": [
    "def MAPE(y_test, pred_test):\n",
    "    return np.mean(np.abs((y_test-pred_test) / y_test)*100)\n",
    "MAPE(y_test, pred_test)"
   ]
  },
  {
   "cell_type": "markdown",
   "id": "a7c972f5-0d43-4621-a4b2-6ffc818dbbfc",
   "metadata": {},
   "source": [
    "- MAE"
   ]
  },
  {
   "cell_type": "code",
   "execution_count": 48,
   "id": "bd10e4f6-17e0-4506-96ad-856286df63fc",
   "metadata": {},
   "outputs": [
    {
     "data": {
      "text/plain": [
       "house_value   -12.178049\n",
       "dtype: float64"
      ]
     },
     "execution_count": 48,
     "metadata": {},
     "output_type": "execute_result"
    }
   ],
   "source": [
    "def MAE(y_test, pred_test):\n",
    "    return np.mean(((y_test-pred_test) / y_test)*100)\n",
    "MAE(y_test, pred_test)"
   ]
  },
  {
   "cell_type": "markdown",
   "id": "7ff3af33-dbd1-4e4c-b780-962a43d11ad9",
   "metadata": {},
   "source": [
    "###\n",
    "예측값 병합 및 저장"
   ]
  },
  {
   "cell_type": "code",
   "execution_count": 49,
   "id": "d67568f1-ef77-4721-a37d-825755304e21",
   "metadata": {
    "tags": []
   },
   "outputs": [
    {
     "name": "stderr",
     "output_type": "stream",
     "text": [
      "<ipython-input-49-aca989f55ae9>:2: SettingWithCopyWarning: \n",
      "A value is trying to be set on a copy of a slice from a DataFrame.\n",
      "Try using .loc[row_indexer,col_indexer] = value instead\n",
      "\n",
      "See the caveats in the documentation: https://pandas.pydata.org/pandas-docs/stable/user_guide/indexing.html#returning-a-view-versus-a-copy\n",
      "  y_train[[\"y_pred\"]]= pred_train\n",
      "C:\\Users\\user\\anaconda3\\lib\\site-packages\\pandas\\core\\indexing.py:1738: SettingWithCopyWarning: \n",
      "A value is trying to be set on a copy of a slice from a DataFrame.\n",
      "Try using .loc[row_indexer,col_indexer] = value instead\n",
      "\n",
      "See the caveats in the documentation: https://pandas.pydata.org/pandas-docs/stable/user_guide/indexing.html#returning-a-view-versus-a-copy\n",
      "  self._setitem_single_column(loc, value[:, i].tolist(), pi)\n"
     ]
    }
   ],
   "source": [
    "prob_train = model.predict(X_train_MM)\n",
    "y_train[[\"y_pred\"]]= pred_train"
   ]
  },
  {
   "cell_type": "code",
   "execution_count": 50,
   "id": "1342836f-33d9-494c-9ea1-3fab719d2c30",
   "metadata": {
    "tags": []
   },
   "outputs": [
    {
     "name": "stderr",
     "output_type": "stream",
     "text": [
      "<ipython-input-50-119e1e6e68a9>:2: SettingWithCopyWarning: \n",
      "A value is trying to be set on a copy of a slice from a DataFrame.\n",
      "Try using .loc[row_indexer,col_indexer] = value instead\n",
      "\n",
      "See the caveats in the documentation: https://pandas.pydata.org/pandas-docs/stable/user_guide/indexing.html#returning-a-view-versus-a-copy\n",
      "  y_test[[\"y_pred\"]]= pred_test\n",
      "C:\\Users\\user\\anaconda3\\lib\\site-packages\\pandas\\core\\indexing.py:1738: SettingWithCopyWarning: \n",
      "A value is trying to be set on a copy of a slice from a DataFrame.\n",
      "Try using .loc[row_indexer,col_indexer] = value instead\n",
      "\n",
      "See the caveats in the documentation: https://pandas.pydata.org/pandas-docs/stable/user_guide/indexing.html#returning-a-view-versus-a-copy\n",
      "  self._setitem_single_column(loc, value[:, i].tolist(), pi)\n"
     ]
    }
   ],
   "source": [
    "prob_test = model.predict(X_test_MM)\n",
    "y_test[[\"y_pred\"]]= pred_test"
   ]
  },
  {
   "cell_type": "code",
   "execution_count": 51,
   "id": "d1991656-1d37-459b-81d7-ae1fb385dba9",
   "metadata": {},
   "outputs": [
    {
     "data": {
      "text/html": [
       "<div>\n",
       "<style scoped>\n",
       "    .dataframe tbody tr th:only-of-type {\n",
       "        vertical-align: middle;\n",
       "    }\n",
       "\n",
       "    .dataframe tbody tr th {\n",
       "        vertical-align: top;\n",
       "    }\n",
       "\n",
       "    .dataframe thead th {\n",
       "        text-align: right;\n",
       "    }\n",
       "</style>\n",
       "<table border=\"1\" class=\"dataframe\">\n",
       "  <thead>\n",
       "    <tr style=\"text-align: right;\">\n",
       "      <th></th>\n",
       "      <th>house_value</th>\n",
       "      <th>y_pred</th>\n",
       "    </tr>\n",
       "  </thead>\n",
       "  <tbody>\n",
       "    <tr>\n",
       "      <th>17552</th>\n",
       "      <td>48500</td>\n",
       "      <td>33552.694027</td>\n",
       "    </tr>\n",
       "    <tr>\n",
       "      <th>5659</th>\n",
       "      <td>220500</td>\n",
       "      <td>266109.596465</td>\n",
       "    </tr>\n",
       "    <tr>\n",
       "      <th>5954</th>\n",
       "      <td>215800</td>\n",
       "      <td>212922.500307</td>\n",
       "    </tr>\n",
       "    <tr>\n",
       "      <th>733</th>\n",
       "      <td>390000</td>\n",
       "      <td>290337.891760</td>\n",
       "    </tr>\n",
       "    <tr>\n",
       "      <th>10290</th>\n",
       "      <td>155200</td>\n",
       "      <td>135785.644577</td>\n",
       "    </tr>\n",
       "    <tr>\n",
       "      <th>...</th>\n",
       "      <td>...</td>\n",
       "      <td>...</td>\n",
       "    </tr>\n",
       "    <tr>\n",
       "      <th>7770</th>\n",
       "      <td>185300</td>\n",
       "      <td>262949.818829</td>\n",
       "    </tr>\n",
       "    <tr>\n",
       "      <th>1822</th>\n",
       "      <td>328900</td>\n",
       "      <td>226451.743868</td>\n",
       "    </tr>\n",
       "    <tr>\n",
       "      <th>811</th>\n",
       "      <td>382400</td>\n",
       "      <td>288121.570093</td>\n",
       "    </tr>\n",
       "    <tr>\n",
       "      <th>868</th>\n",
       "      <td>377300</td>\n",
       "      <td>151766.958670</td>\n",
       "    </tr>\n",
       "    <tr>\n",
       "      <th>11661</th>\n",
       "      <td>137500</td>\n",
       "      <td>191185.781639</td>\n",
       "    </tr>\n",
       "  </tbody>\n",
       "</table>\n",
       "<p>4423 rows × 2 columns</p>\n",
       "</div>"
      ],
      "text/plain": [
       "       house_value         y_pred\n",
       "17552        48500   33552.694027\n",
       "5659        220500  266109.596465\n",
       "5954        215800  212922.500307\n",
       "733         390000  290337.891760\n",
       "10290       155200  135785.644577\n",
       "...            ...            ...\n",
       "7770        185300  262949.818829\n",
       "1822        328900  226451.743868\n",
       "811         382400  288121.570093\n",
       "868         377300  151766.958670\n",
       "11661       137500  191185.781639\n",
       "\n",
       "[4423 rows x 2 columns]"
      ]
     },
     "execution_count": 51,
     "metadata": {},
     "output_type": "execute_result"
    }
   ],
   "source": [
    "y_test"
   ]
  },
  {
   "cell_type": "code",
   "execution_count": 52,
   "id": "ba72c419-cfe8-4c04-8fe3-73dbfa46ecb2",
   "metadata": {},
   "outputs": [
    {
     "data": {
      "text/html": [
       "<div>\n",
       "<style scoped>\n",
       "    .dataframe tbody tr th:only-of-type {\n",
       "        vertical-align: middle;\n",
       "    }\n",
       "\n",
       "    .dataframe tbody tr th {\n",
       "        vertical-align: top;\n",
       "    }\n",
       "\n",
       "    .dataframe thead th {\n",
       "        text-align: right;\n",
       "    }\n",
       "</style>\n",
       "<table border=\"1\" class=\"dataframe\">\n",
       "  <thead>\n",
       "    <tr style=\"text-align: right;\">\n",
       "      <th></th>\n",
       "      <th>housing_age</th>\n",
       "      <th>income</th>\n",
       "      <th>bedrooms</th>\n",
       "      <th>households</th>\n",
       "      <th>rooms</th>\n",
       "      <th>house_value</th>\n",
       "      <th>y_pred</th>\n",
       "    </tr>\n",
       "  </thead>\n",
       "  <tbody>\n",
       "    <tr>\n",
       "      <th>17552</th>\n",
       "      <td>19</td>\n",
       "      <td>1.0481</td>\n",
       "      <td>0.251874</td>\n",
       "      <td>3.670846</td>\n",
       "      <td>4.181818</td>\n",
       "      <td>48500</td>\n",
       "      <td>33552.694027</td>\n",
       "    </tr>\n",
       "    <tr>\n",
       "      <th>5659</th>\n",
       "      <td>26</td>\n",
       "      <td>5.8683</td>\n",
       "      <td>0.132936</td>\n",
       "      <td>2.730483</td>\n",
       "      <td>7.172862</td>\n",
       "      <td>220500</td>\n",
       "      <td>266109.596465</td>\n",
       "    </tr>\n",
       "    <tr>\n",
       "      <th>5954</th>\n",
       "      <td>37</td>\n",
       "      <td>4.1094</td>\n",
       "      <td>0.177939</td>\n",
       "      <td>2.652582</td>\n",
       "      <td>5.830986</td>\n",
       "      <td>215800</td>\n",
       "      <td>212922.500307</td>\n",
       "    </tr>\n",
       "    <tr>\n",
       "      <th>733</th>\n",
       "      <td>16</td>\n",
       "      <td>6.3258</td>\n",
       "      <td>0.169569</td>\n",
       "      <td>3.155340</td>\n",
       "      <td>6.412621</td>\n",
       "      <td>390000</td>\n",
       "      <td>290337.891760</td>\n",
       "    </tr>\n",
       "    <tr>\n",
       "      <th>10290</th>\n",
       "      <td>32</td>\n",
       "      <td>2.2950</td>\n",
       "      <td>0.293907</td>\n",
       "      <td>4.188742</td>\n",
       "      <td>3.695364</td>\n",
       "      <td>155200</td>\n",
       "      <td>135785.644577</td>\n",
       "    </tr>\n",
       "    <tr>\n",
       "      <th>...</th>\n",
       "      <td>...</td>\n",
       "      <td>...</td>\n",
       "      <td>...</td>\n",
       "      <td>...</td>\n",
       "      <td>...</td>\n",
       "      <td>...</td>\n",
       "      <td>...</td>\n",
       "    </tr>\n",
       "    <tr>\n",
       "      <th>7770</th>\n",
       "      <td>34</td>\n",
       "      <td>5.5238</td>\n",
       "      <td>0.169824</td>\n",
       "      <td>3.451264</td>\n",
       "      <td>5.335740</td>\n",
       "      <td>185300</td>\n",
       "      <td>262949.818829</td>\n",
       "    </tr>\n",
       "    <tr>\n",
       "      <th>1822</th>\n",
       "      <td>19</td>\n",
       "      <td>3.8819</td>\n",
       "      <td>0.226279</td>\n",
       "      <td>1.897600</td>\n",
       "      <td>4.755200</td>\n",
       "      <td>328900</td>\n",
       "      <td>226451.743868</td>\n",
       "    </tr>\n",
       "    <tr>\n",
       "      <th>811</th>\n",
       "      <td>40</td>\n",
       "      <td>5.7143</td>\n",
       "      <td>0.148075</td>\n",
       "      <td>2.704819</td>\n",
       "      <td>6.102410</td>\n",
       "      <td>382400</td>\n",
       "      <td>288121.570093</td>\n",
       "    </tr>\n",
       "    <tr>\n",
       "      <th>868</th>\n",
       "      <td>16</td>\n",
       "      <td>2.6250</td>\n",
       "      <td>0.229714</td>\n",
       "      <td>1.910828</td>\n",
       "      <td>5.573248</td>\n",
       "      <td>377300</td>\n",
       "      <td>151766.958670</td>\n",
       "    </tr>\n",
       "    <tr>\n",
       "      <th>11661</th>\n",
       "      <td>4</td>\n",
       "      <td>3.2131</td>\n",
       "      <td>0.263085</td>\n",
       "      <td>1.882530</td>\n",
       "      <td>4.373494</td>\n",
       "      <td>137500</td>\n",
       "      <td>191185.781639</td>\n",
       "    </tr>\n",
       "  </tbody>\n",
       "</table>\n",
       "<p>4423 rows × 7 columns</p>\n",
       "</div>"
      ],
      "text/plain": [
       "       housing_age  income  bedrooms  households     rooms  house_value  \\\n",
       "17552           19  1.0481  0.251874    3.670846  4.181818        48500   \n",
       "5659            26  5.8683  0.132936    2.730483  7.172862       220500   \n",
       "5954            37  4.1094  0.177939    2.652582  5.830986       215800   \n",
       "733             16  6.3258  0.169569    3.155340  6.412621       390000   \n",
       "10290           32  2.2950  0.293907    4.188742  3.695364       155200   \n",
       "...            ...     ...       ...         ...       ...          ...   \n",
       "7770            34  5.5238  0.169824    3.451264  5.335740       185300   \n",
       "1822            19  3.8819  0.226279    1.897600  4.755200       328900   \n",
       "811             40  5.7143  0.148075    2.704819  6.102410       382400   \n",
       "868             16  2.6250  0.229714    1.910828  5.573248       377300   \n",
       "11661            4  3.2131  0.263085    1.882530  4.373494       137500   \n",
       "\n",
       "              y_pred  \n",
       "17552   33552.694027  \n",
       "5659   266109.596465  \n",
       "5954   212922.500307  \n",
       "733    290337.891760  \n",
       "10290  135785.644577  \n",
       "...              ...  \n",
       "7770   262949.818829  \n",
       "1822   226451.743868  \n",
       "811    288121.570093  \n",
       "868    151766.958670  \n",
       "11661  191185.781639  \n",
       "\n",
       "[4423 rows x 7 columns]"
      ]
     },
     "execution_count": 52,
     "metadata": {},
     "output_type": "execute_result"
    }
   ],
   "source": [
    "Total_test= pd.concat([X_test,y_test],axis=1)\n",
    "Total_test"
   ]
  },
  {
   "cell_type": "code",
   "execution_count": 53,
   "id": "552c43a0-2181-4782-ae17-1d9bac2befd5",
   "metadata": {},
   "outputs": [],
   "source": [
    "Total_test.to_csv(\"new regression_test.csv\")"
   ]
  },
  {
   "cell_type": "code",
   "execution_count": null,
   "id": "0a9e8243-37f0-4a36-8510-1bb17f7607f2",
   "metadata": {},
   "outputs": [],
   "source": []
  }
 ],
 "metadata": {
  "kernelspec": {
   "display_name": "Python 3",
   "language": "python",
   "name": "python3"
  },
  "language_info": {
   "codemirror_mode": {
    "name": "ipython",
    "version": 3
   },
   "file_extension": ".py",
   "mimetype": "text/x-python",
   "name": "python",
   "nbconvert_exporter": "python",
   "pygments_lexer": "ipython3",
   "version": "3.8.8"
  }
 },
 "nbformat": 4,
 "nbformat_minor": 5
}
