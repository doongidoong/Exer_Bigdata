{
 "cells": [
  {
   "cell_type": "markdown",
   "id": "812f22da-2048-45f6-acbc-ce3010ce2ae0",
   "metadata": {},
   "source": [
    "# 머신러닝 프로세스\n",
    "### 1. 범주변수의 변환 "
   ]
  },
  {
   "cell_type": "code",
   "execution_count": 23,
   "id": "0d1ad3d8-f54b-43e9-95d3-cdbfd26f683d",
   "metadata": {},
   "outputs": [
    {
     "data": {
      "text/html": [
       "<div>\n",
       "<style scoped>\n",
       "    .dataframe tbody tr th:only-of-type {\n",
       "        vertical-align: middle;\n",
       "    }\n",
       "\n",
       "    .dataframe tbody tr th {\n",
       "        vertical-align: top;\n",
       "    }\n",
       "\n",
       "    .dataframe thead th {\n",
       "        text-align: right;\n",
       "    }\n",
       "</style>\n",
       "<table border=\"1\" class=\"dataframe\">\n",
       "  <thead>\n",
       "    <tr style=\"text-align: right;\">\n",
       "      <th></th>\n",
       "      <th>gender</th>\n",
       "      <th>region</th>\n",
       "      <th>edu</th>\n",
       "      <th>income</th>\n",
       "      <th>age</th>\n",
       "      <th>score_gov</th>\n",
       "      <th>score_progress</th>\n",
       "      <th>score_intention</th>\n",
       "      <th>vote</th>\n",
       "      <th>parties</th>\n",
       "    </tr>\n",
       "  </thead>\n",
       "  <tbody>\n",
       "    <tr>\n",
       "      <th>0</th>\n",
       "      <td>1</td>\n",
       "      <td>4</td>\n",
       "      <td>3</td>\n",
       "      <td>3</td>\n",
       "      <td>3</td>\n",
       "      <td>2</td>\n",
       "      <td>2</td>\n",
       "      <td>4.0</td>\n",
       "      <td>1</td>\n",
       "      <td>2</td>\n",
       "    </tr>\n",
       "    <tr>\n",
       "      <th>1</th>\n",
       "      <td>1</td>\n",
       "      <td>5</td>\n",
       "      <td>2</td>\n",
       "      <td>3</td>\n",
       "      <td>3</td>\n",
       "      <td>2</td>\n",
       "      <td>4</td>\n",
       "      <td>3.0</td>\n",
       "      <td>0</td>\n",
       "      <td>3</td>\n",
       "    </tr>\n",
       "    <tr>\n",
       "      <th>2</th>\n",
       "      <td>1</td>\n",
       "      <td>3</td>\n",
       "      <td>1</td>\n",
       "      <td>2</td>\n",
       "      <td>4</td>\n",
       "      <td>1</td>\n",
       "      <td>3</td>\n",
       "      <td>2.8</td>\n",
       "      <td>1</td>\n",
       "      <td>4</td>\n",
       "    </tr>\n",
       "    <tr>\n",
       "      <th>3</th>\n",
       "      <td>2</td>\n",
       "      <td>1</td>\n",
       "      <td>2</td>\n",
       "      <td>1</td>\n",
       "      <td>3</td>\n",
       "      <td>5</td>\n",
       "      <td>4</td>\n",
       "      <td>2.6</td>\n",
       "      <td>1</td>\n",
       "      <td>1</td>\n",
       "    </tr>\n",
       "    <tr>\n",
       "      <th>4</th>\n",
       "      <td>1</td>\n",
       "      <td>1</td>\n",
       "      <td>1</td>\n",
       "      <td>2</td>\n",
       "      <td>4</td>\n",
       "      <td>4</td>\n",
       "      <td>3</td>\n",
       "      <td>2.4</td>\n",
       "      <td>1</td>\n",
       "      <td>1</td>\n",
       "    </tr>\n",
       "  </tbody>\n",
       "</table>\n",
       "</div>"
      ],
      "text/plain": [
       "   gender  region  edu  income  age  score_gov  score_progress  \\\n",
       "0       1       4    3       3    3          2               2   \n",
       "1       1       5    2       3    3          2               4   \n",
       "2       1       3    1       2    4          1               3   \n",
       "3       2       1    2       1    3          5               4   \n",
       "4       1       1    1       2    4          4               3   \n",
       "\n",
       "   score_intention  vote  parties  \n",
       "0              4.0     1        2  \n",
       "1              3.0     0        3  \n",
       "2              2.8     1        4  \n",
       "3              2.6     1        1  \n",
       "4              2.4     1        1  "
      ]
     },
     "execution_count": 23,
     "metadata": {},
     "output_type": "execute_result"
    }
   ],
   "source": [
    "import pandas as pd\n",
    "data = pd.read_csv(\"C:\\\\Users\\\\user\\\\빅분기 실기\\\\[1]BigData_data_최종본(0910)\\\\vote.csv\",encoding='utf-8')\n",
    "data.head()"
   ]
  },
  {
   "cell_type": "code",
   "execution_count": 24,
   "id": "0943d750-99a6-4df3-b1fe-43e2f4a66e28",
   "metadata": {},
   "outputs": [
    {
     "data": {
      "text/plain": [
       "1    150\n",
       "0     61\n",
       "Name: vote, dtype: int64"
      ]
     },
     "execution_count": 24,
     "metadata": {},
     "output_type": "execute_result"
    }
   ],
   "source": [
    "data['vote'].value_counts()"
   ]
  },
  {
   "cell_type": "code",
   "execution_count": 25,
   "id": "41a0fdd2-b8a2-4f8b-83c0-612fd6cdb46a",
   "metadata": {},
   "outputs": [
    {
     "data": {
      "text/plain": [
       "1    139\n",
       "2     72\n",
       "Name: gender, dtype: int64"
      ]
     },
     "execution_count": 25,
     "metadata": {},
     "output_type": "execute_result"
    }
   ],
   "source": [
    "data['gender'].value_counts()"
   ]
  },
  {
   "cell_type": "code",
   "execution_count": 26,
   "id": "033fb08a-10c2-4c07-8cee-6e9f412a0712",
   "metadata": {},
   "outputs": [
    {
     "data": {
      "text/plain": [
       "1    126\n",
       "4     29\n",
       "5     20\n",
       "3     19\n",
       "2     17\n",
       "Name: region, dtype: int64"
      ]
     },
     "execution_count": 26,
     "metadata": {},
     "output_type": "execute_result"
    }
   ],
   "source": [
    "data['region'].value_counts()"
   ]
  },
  {
   "cell_type": "markdown",
   "id": "0700fad5-18e3-4db5-8fbe-8e4a8c1c706a",
   "metadata": {},
   "source": [
    "- 원핫인코딩 \n",
    "\n",
    "get_dummies 사용"
   ]
  },
  {
   "cell_type": "code",
   "execution_count": 27,
   "id": "113d09d3-b51e-4c41-a91c-5d1cc0d97da4",
   "metadata": {
    "tags": []
   },
   "outputs": [
    {
     "data": {
      "text/plain": [
       "\"\\nnewdata = data.copy()\\n\\ng_transform = {1:'male', 2:'female'}\\nnewdata['gender'] = data['gender'].replace(g_transform )\\nr_transform = {1:'수도',2:'충청', 3:'호남',4:'영남',5:'그외'}\\n\\nnewdata['region'] = data['region'].replace(r_transform )\\ndummies= pd.get_dummies(newdata[['gender','region']])\\ndummies\\n\""
      ]
     },
     "execution_count": 27,
     "metadata": {},
     "output_type": "execute_result"
    }
   ],
   "source": [
    "\"\"\"\n",
    "newdata = data.copy()\n",
    "\n",
    "g_transform = {1:'male', 2:'female'}\n",
    "newdata['gender'] = data['gender'].replace(g_transform )\n",
    "r_transform = {1:'수도',2:'충청', 3:'호남',4:'영남',5:'그외'}\n",
    "\n",
    "newdata['region'] = data['region'].replace(r_transform )\n",
    "dummies= pd.get_dummies(newdata[['gender','region']])\n",
    "dummies\n",
    "\"\"\""
   ]
  },
  {
   "cell_type": "code",
   "execution_count": 28,
   "id": "12f6ef61-7a8e-4344-b007-447a2a1c7619",
   "metadata": {},
   "outputs": [],
   "source": [
    "X1 = data[['gender', 'region']]\n",
    "XY = data[['edu', 'income', 'age', 'score_gov','score_progress', 'score_intention', 'vote', 'parties']]\n",
    "\n",
    "X1['gender']=X1['gender'].replace([1,2],['male','female'])\n",
    "X1['region']=X1['region'].replace([1,2,3,4,5],['Sudo','Chungcheong','Honam','Youngnam','Others'])"
   ]
  },
  {
   "cell_type": "code",
   "execution_count": 29,
   "id": "e2d24734-573f-44e4-9673-18fbff11401b",
   "metadata": {},
   "outputs": [
    {
     "data": {
      "text/html": [
       "<div>\n",
       "<style scoped>\n",
       "    .dataframe tbody tr th:only-of-type {\n",
       "        vertical-align: middle;\n",
       "    }\n",
       "\n",
       "    .dataframe tbody tr th {\n",
       "        vertical-align: top;\n",
       "    }\n",
       "\n",
       "    .dataframe thead th {\n",
       "        text-align: right;\n",
       "    }\n",
       "</style>\n",
       "<table border=\"1\" class=\"dataframe\">\n",
       "  <thead>\n",
       "    <tr style=\"text-align: right;\">\n",
       "      <th></th>\n",
       "      <th>gender</th>\n",
       "      <th>region</th>\n",
       "    </tr>\n",
       "  </thead>\n",
       "  <tbody>\n",
       "    <tr>\n",
       "      <th>0</th>\n",
       "      <td>male</td>\n",
       "      <td>Youngnam</td>\n",
       "    </tr>\n",
       "    <tr>\n",
       "      <th>1</th>\n",
       "      <td>male</td>\n",
       "      <td>Others</td>\n",
       "    </tr>\n",
       "    <tr>\n",
       "      <th>2</th>\n",
       "      <td>male</td>\n",
       "      <td>Honam</td>\n",
       "    </tr>\n",
       "    <tr>\n",
       "      <th>3</th>\n",
       "      <td>female</td>\n",
       "      <td>Sudo</td>\n",
       "    </tr>\n",
       "    <tr>\n",
       "      <th>4</th>\n",
       "      <td>male</td>\n",
       "      <td>Sudo</td>\n",
       "    </tr>\n",
       "  </tbody>\n",
       "</table>\n",
       "</div>"
      ],
      "text/plain": [
       "   gender    region\n",
       "0    male  Youngnam\n",
       "1    male    Others\n",
       "2    male     Honam\n",
       "3  female      Sudo\n",
       "4    male      Sudo"
      ]
     },
     "execution_count": 29,
     "metadata": {},
     "output_type": "execute_result"
    }
   ],
   "source": [
    "X1.head()"
   ]
  },
  {
   "cell_type": "code",
   "execution_count": 30,
   "id": "9953995d-7dcb-4c8c-a0c3-ce4e1ae1f6ec",
   "metadata": {},
   "outputs": [
    {
     "data": {
      "text/html": [
       "<div>\n",
       "<style scoped>\n",
       "    .dataframe tbody tr th:only-of-type {\n",
       "        vertical-align: middle;\n",
       "    }\n",
       "\n",
       "    .dataframe tbody tr th {\n",
       "        vertical-align: top;\n",
       "    }\n",
       "\n",
       "    .dataframe thead th {\n",
       "        text-align: right;\n",
       "    }\n",
       "</style>\n",
       "<table border=\"1\" class=\"dataframe\">\n",
       "  <thead>\n",
       "    <tr style=\"text-align: right;\">\n",
       "      <th></th>\n",
       "      <th>edu</th>\n",
       "      <th>income</th>\n",
       "      <th>age</th>\n",
       "      <th>score_gov</th>\n",
       "      <th>score_progress</th>\n",
       "      <th>score_intention</th>\n",
       "      <th>vote</th>\n",
       "      <th>parties</th>\n",
       "      <th>gender_female</th>\n",
       "      <th>gender_male</th>\n",
       "      <th>region_Chungcheong</th>\n",
       "      <th>region_Honam</th>\n",
       "      <th>region_Others</th>\n",
       "      <th>region_Sudo</th>\n",
       "      <th>region_Youngnam</th>\n",
       "    </tr>\n",
       "  </thead>\n",
       "  <tbody>\n",
       "    <tr>\n",
       "      <th>0</th>\n",
       "      <td>3</td>\n",
       "      <td>3</td>\n",
       "      <td>3</td>\n",
       "      <td>2</td>\n",
       "      <td>2</td>\n",
       "      <td>4.0</td>\n",
       "      <td>1</td>\n",
       "      <td>2</td>\n",
       "      <td>0</td>\n",
       "      <td>1</td>\n",
       "      <td>0</td>\n",
       "      <td>0</td>\n",
       "      <td>0</td>\n",
       "      <td>0</td>\n",
       "      <td>1</td>\n",
       "    </tr>\n",
       "    <tr>\n",
       "      <th>1</th>\n",
       "      <td>2</td>\n",
       "      <td>3</td>\n",
       "      <td>3</td>\n",
       "      <td>2</td>\n",
       "      <td>4</td>\n",
       "      <td>3.0</td>\n",
       "      <td>0</td>\n",
       "      <td>3</td>\n",
       "      <td>0</td>\n",
       "      <td>1</td>\n",
       "      <td>0</td>\n",
       "      <td>0</td>\n",
       "      <td>1</td>\n",
       "      <td>0</td>\n",
       "      <td>0</td>\n",
       "    </tr>\n",
       "    <tr>\n",
       "      <th>2</th>\n",
       "      <td>1</td>\n",
       "      <td>2</td>\n",
       "      <td>4</td>\n",
       "      <td>1</td>\n",
       "      <td>3</td>\n",
       "      <td>2.8</td>\n",
       "      <td>1</td>\n",
       "      <td>4</td>\n",
       "      <td>0</td>\n",
       "      <td>1</td>\n",
       "      <td>0</td>\n",
       "      <td>1</td>\n",
       "      <td>0</td>\n",
       "      <td>0</td>\n",
       "      <td>0</td>\n",
       "    </tr>\n",
       "    <tr>\n",
       "      <th>3</th>\n",
       "      <td>2</td>\n",
       "      <td>1</td>\n",
       "      <td>3</td>\n",
       "      <td>5</td>\n",
       "      <td>4</td>\n",
       "      <td>2.6</td>\n",
       "      <td>1</td>\n",
       "      <td>1</td>\n",
       "      <td>1</td>\n",
       "      <td>0</td>\n",
       "      <td>0</td>\n",
       "      <td>0</td>\n",
       "      <td>0</td>\n",
       "      <td>1</td>\n",
       "      <td>0</td>\n",
       "    </tr>\n",
       "    <tr>\n",
       "      <th>4</th>\n",
       "      <td>1</td>\n",
       "      <td>2</td>\n",
       "      <td>4</td>\n",
       "      <td>4</td>\n",
       "      <td>3</td>\n",
       "      <td>2.4</td>\n",
       "      <td>1</td>\n",
       "      <td>1</td>\n",
       "      <td>0</td>\n",
       "      <td>1</td>\n",
       "      <td>0</td>\n",
       "      <td>0</td>\n",
       "      <td>0</td>\n",
       "      <td>1</td>\n",
       "      <td>0</td>\n",
       "    </tr>\n",
       "  </tbody>\n",
       "</table>\n",
       "</div>"
      ],
      "text/plain": [
       "   edu  income  age  score_gov  score_progress  score_intention  vote  \\\n",
       "0    3       3    3          2               2              4.0     1   \n",
       "1    2       3    3          2               4              3.0     0   \n",
       "2    1       2    4          1               3              2.8     1   \n",
       "3    2       1    3          5               4              2.6     1   \n",
       "4    1       2    4          4               3              2.4     1   \n",
       "\n",
       "   parties  gender_female  gender_male  region_Chungcheong  region_Honam  \\\n",
       "0        2              0            1                   0             0   \n",
       "1        3              0            1                   0             0   \n",
       "2        4              0            1                   0             1   \n",
       "3        1              1            0                   0             0   \n",
       "4        1              0            1                   0             0   \n",
       "\n",
       "   region_Others  region_Sudo  region_Youngnam  \n",
       "0              0            0                1  \n",
       "1              1            0                0  \n",
       "2              0            0                0  \n",
       "3              0            1                0  \n",
       "4              0            1                0  "
      ]
     },
     "execution_count": 30,
     "metadata": {},
     "output_type": "execute_result"
    }
   ],
   "source": [
    "X1_dum = pd.get_dummies(X1)\n",
    "\n",
    "Fvote= pd.concat([XY,X1_dum],axis=1) #가로로 합할때는 axis= 1 \n",
    "Fvote.head()"
   ]
  },
  {
   "cell_type": "code",
   "execution_count": 31,
   "id": "5a401952-7066-4a90-8888-417082396b32",
   "metadata": {},
   "outputs": [],
   "source": [
    "Fvote.to_csv(\"newFvote.csv\",index= False, sep=',',encoding= 'utf-8')"
   ]
  },
  {
   "cell_type": "markdown",
   "id": "37114d41-89fb-4eb0-8e16-9f679d76637c",
   "metadata": {},
   "source": [
    "### 2. 데이터셋 분할과 모델검증"
   ]
  },
  {
   "cell_type": "code",
   "execution_count": 1,
   "id": "dee474f7-dda3-4f03-a8d6-c14410abe92a",
   "metadata": {},
   "outputs": [
    {
     "data": {
      "text/html": [
       "<div>\n",
       "<style scoped>\n",
       "    .dataframe tbody tr th:only-of-type {\n",
       "        vertical-align: middle;\n",
       "    }\n",
       "\n",
       "    .dataframe tbody tr th {\n",
       "        vertical-align: top;\n",
       "    }\n",
       "\n",
       "    .dataframe thead th {\n",
       "        text-align: right;\n",
       "    }\n",
       "</style>\n",
       "<table border=\"1\" class=\"dataframe\">\n",
       "  <thead>\n",
       "    <tr style=\"text-align: right;\">\n",
       "      <th></th>\n",
       "      <th>gender_female</th>\n",
       "      <th>gender_male</th>\n",
       "      <th>region_Chungcheung</th>\n",
       "      <th>region_Honam</th>\n",
       "      <th>region_Others</th>\n",
       "      <th>region_Sudo</th>\n",
       "      <th>region_Youngnam</th>\n",
       "      <th>edu</th>\n",
       "      <th>income</th>\n",
       "      <th>age</th>\n",
       "      <th>score_gov</th>\n",
       "      <th>score_progress</th>\n",
       "      <th>score_intention</th>\n",
       "      <th>vote</th>\n",
       "      <th>parties</th>\n",
       "    </tr>\n",
       "  </thead>\n",
       "  <tbody>\n",
       "    <tr>\n",
       "      <th>0</th>\n",
       "      <td>0</td>\n",
       "      <td>1</td>\n",
       "      <td>0</td>\n",
       "      <td>0</td>\n",
       "      <td>0</td>\n",
       "      <td>0</td>\n",
       "      <td>1</td>\n",
       "      <td>3</td>\n",
       "      <td>3</td>\n",
       "      <td>3</td>\n",
       "      <td>2</td>\n",
       "      <td>2</td>\n",
       "      <td>4.0</td>\n",
       "      <td>1</td>\n",
       "      <td>2</td>\n",
       "    </tr>\n",
       "    <tr>\n",
       "      <th>1</th>\n",
       "      <td>0</td>\n",
       "      <td>1</td>\n",
       "      <td>0</td>\n",
       "      <td>0</td>\n",
       "      <td>1</td>\n",
       "      <td>0</td>\n",
       "      <td>0</td>\n",
       "      <td>2</td>\n",
       "      <td>3</td>\n",
       "      <td>3</td>\n",
       "      <td>2</td>\n",
       "      <td>4</td>\n",
       "      <td>3.0</td>\n",
       "      <td>0</td>\n",
       "      <td>3</td>\n",
       "    </tr>\n",
       "    <tr>\n",
       "      <th>2</th>\n",
       "      <td>0</td>\n",
       "      <td>1</td>\n",
       "      <td>0</td>\n",
       "      <td>1</td>\n",
       "      <td>0</td>\n",
       "      <td>0</td>\n",
       "      <td>0</td>\n",
       "      <td>1</td>\n",
       "      <td>2</td>\n",
       "      <td>4</td>\n",
       "      <td>1</td>\n",
       "      <td>3</td>\n",
       "      <td>2.8</td>\n",
       "      <td>1</td>\n",
       "      <td>4</td>\n",
       "    </tr>\n",
       "    <tr>\n",
       "      <th>3</th>\n",
       "      <td>1</td>\n",
       "      <td>0</td>\n",
       "      <td>0</td>\n",
       "      <td>0</td>\n",
       "      <td>0</td>\n",
       "      <td>1</td>\n",
       "      <td>0</td>\n",
       "      <td>2</td>\n",
       "      <td>1</td>\n",
       "      <td>3</td>\n",
       "      <td>5</td>\n",
       "      <td>4</td>\n",
       "      <td>2.6</td>\n",
       "      <td>1</td>\n",
       "      <td>1</td>\n",
       "    </tr>\n",
       "    <tr>\n",
       "      <th>4</th>\n",
       "      <td>0</td>\n",
       "      <td>1</td>\n",
       "      <td>0</td>\n",
       "      <td>0</td>\n",
       "      <td>0</td>\n",
       "      <td>1</td>\n",
       "      <td>0</td>\n",
       "      <td>1</td>\n",
       "      <td>2</td>\n",
       "      <td>4</td>\n",
       "      <td>4</td>\n",
       "      <td>3</td>\n",
       "      <td>2.4</td>\n",
       "      <td>1</td>\n",
       "      <td>1</td>\n",
       "    </tr>\n",
       "  </tbody>\n",
       "</table>\n",
       "</div>"
      ],
      "text/plain": [
       "   gender_female  gender_male  region_Chungcheung  region_Honam  \\\n",
       "0              0            1                   0             0   \n",
       "1              0            1                   0             0   \n",
       "2              0            1                   0             1   \n",
       "3              1            0                   0             0   \n",
       "4              0            1                   0             0   \n",
       "\n",
       "   region_Others  region_Sudo  region_Youngnam  edu  income  age  score_gov  \\\n",
       "0              0            0                1    3       3    3          2   \n",
       "1              1            0                0    2       3    3          2   \n",
       "2              0            0                0    1       2    4          1   \n",
       "3              0            1                0    2       1    3          5   \n",
       "4              0            1                0    1       2    4          4   \n",
       "\n",
       "   score_progress  score_intention  vote  parties  \n",
       "0               2              4.0     1        2  \n",
       "1               4              3.0     0        3  \n",
       "2               3              2.8     1        4  \n",
       "3               4              2.6     1        1  \n",
       "4               3              2.4     1        1  "
      ]
     },
     "execution_count": 1,
     "metadata": {},
     "output_type": "execute_result"
    }
   ],
   "source": [
    "import warnings\n",
    "warnings.filterwarnings(\"ignore\")\n",
    "import pandas as pd\n",
    "data = pd.read_csv('C:\\\\Users\\\\user\\\\빅분기 실기\\\\[1]BigData_data_최종본(0910)\\\\Fvote.csv',encoding='utf-8')\n",
    "data.head()"
   ]
  },
  {
   "cell_type": "code",
   "execution_count": 2,
   "id": "3405505a-fc56-4622-8045-c56bb61ed704",
   "metadata": {},
   "outputs": [],
   "source": [
    "# 특성변수 데이터셋 나누기 \n",
    "# 방법1: 특성이름으로 데이터셋 나누기 \n",
    "X=data[['gender_female', 'gender_male', 'region_Chungcheung', 'region_Honam', \n",
    "        'region_Others', 'region_Sudo', 'region_Youngnam', 'edu', 'income', \n",
    "        'age', 'score_gov', 'score_progress', 'score_intention']]\n",
    "# 방법2: 특성 위치값으로 데이터셋 나누기 \n",
    "X=data[data.columns[1:14]]\n",
    "# 방법3: loc 함수로 데이터셋 나누기 (단, 불러올 특성이 연달아 있어야 함)\n",
    "X=data.loc[:, 'gender_female':'score_intention']\n",
    "\n",
    "y = data[['vote']]"
   ]
  },
  {
   "cell_type": "code",
   "execution_count": 3,
   "id": "e2f26886-f2e7-4b95-95e5-d8a8d1cd5b13",
   "metadata": {},
   "outputs": [],
   "source": [
    "from sklearn.model_selection import train_test_split\n",
    "\n",
    "X_train, X_test, y_train, y_test = train_test_split(X,y,random_state=42)"
   ]
  },
  {
   "cell_type": "code",
   "execution_count": 4,
   "id": "9f620cba-fb77-4232-ba3e-a2609cdeda87",
   "metadata": {},
   "outputs": [
    {
     "data": {
      "text/plain": [
       "(vote    0.696203\n",
       " dtype: float64,\n",
       " vote    0.754717\n",
       " dtype: float64)"
      ]
     },
     "execution_count": 4,
     "metadata": {},
     "output_type": "execute_result"
    }
   ],
   "source": [
    "y_train.mean(), y_test.mean()"
   ]
  },
  {
   "cell_type": "code",
   "execution_count": 5,
   "id": "00befcdb-3a8e-4409-8eb5-7d5d06c863e1",
   "metadata": {},
   "outputs": [
    {
     "data": {
      "text/plain": [
       "((158, 13), (53, 13), (158, 1), (53, 1))"
      ]
     },
     "execution_count": 5,
     "metadata": {},
     "output_type": "execute_result"
    }
   ],
   "source": [
    "X_train.shape ,X_test.shape, y_train.shape ,y_test.shape"
   ]
  },
  {
   "cell_type": "code",
   "execution_count": 6,
   "id": "1bccdf4b-72ba-4493-be10-94ecc36ddc0a",
   "metadata": {},
   "outputs": [],
   "source": [
    "# LogisticRegression 알고리즘 적용\n",
    "from sklearn.linear_model import LogisticRegression\n",
    "model = LogisticRegression()"
   ]
  },
  {
   "cell_type": "markdown",
   "id": "376dfb7e-6203-421b-a6f2-4cb08a9f8fbd",
   "metadata": {
    "tags": []
   },
   "source": [
    "model.fit(X_train,y_train)\n",
    "pred_train= model.predict(X_train)\n",
    "model.score(X_train,y_train)\n",
    "pred_test= model.predict(X_test)\n",
    "model.score(X_test,y_test)"
   ]
  },
  {
   "cell_type": "markdown",
   "id": "ca2107b8-c0c5-49e6-8224-3a1c195d178b",
   "metadata": {
    "tags": []
   },
   "source": [
    "- 랜덤 없는 교차 검증 cross_val_score\n",
    "\n",
    "train data를 모두 사용하지 않고 5개의 그룹으로 나누어 이 중 4 그룹만 훈련, 이걸 5번 반복 -> 교차검증(cross validation)\n",
    "\n",
    "좀 더 다양하게 훈련하여 정확도의 과대 혹은 과소적합을 방지"
   ]
  },
  {
   "cell_type": "code",
   "execution_count": 7,
   "id": "baf78bae-f0d8-40ba-9d25-3c2644f8c477",
   "metadata": {},
   "outputs": [
    {
     "name": "stdout",
     "output_type": "stream",
     "text": [
      "5개 테스트 셋 정확도 [0.65625    0.71875    0.71875    0.77419355 0.64516129]\n",
      "정확도 평균 0.7026209677419355\n"
     ]
    }
   ],
   "source": [
    "from sklearn.model_selection import cross_val_score\n",
    "scores = cross_val_score(model, X_train, y_train, cv=5) # cv= 5번 교차 검증을 한다는 의미\n",
    "print(\"5개 테스트 셋 정확도\", scores)\n",
    "print(\"정확도 평균\", scores.mean())"
   ]
  },
  {
   "cell_type": "markdown",
   "id": "efd524a4-7746-45a4-b1d6-45825a55266c",
   "metadata": {},
   "source": [
    "- 랜덤 있는 교차 검증 K Fold\n",
    "\n",
    "score val는 그룹을 순서대로 나눔, 하지만 이것은 만약 정렬이 되어 있다면 문제가 생길 수 있음, 따라서 랜덤하듯 섞는 방법 -> KFold의 shuffle =True"
   ]
  },
  {
   "cell_type": "code",
   "execution_count": 39,
   "id": "8cfdbdb6-18fb-4d3b-aca7-e1478b1a225d",
   "metadata": {},
   "outputs": [
    {
     "name": "stdout",
     "output_type": "stream",
     "text": [
      "5개 폴드의 정확도 [0.75       0.78125    0.53125    0.5483871  0.70967742]\n"
     ]
    }
   ],
   "source": [
    "from sklearn.model_selection import cross_val_score, KFold\n",
    "kfold = KFold(n_splits=5, shuffle=True,random_state=42) # 5개의 정확도는 동일\n",
    "scores = cross_val_score(model, X_train,y_train,cv=kfold)\n",
    "print(\"5개 폴드의 정확도\", scores)"
   ]
  },
  {
   "cell_type": "markdown",
   "id": "e7c8911e-2620-41ce-8a66-5f4d04deeebc",
   "metadata": {},
   "source": [
    "- 임의분할 교차 검증 shuffle split\n",
    "\n",
    "훈련 데이터와 테스트 데이터를 구성할 때 다른 교차검증에 사용되었던 데이터도 랜덤으로 선택되게 하는 방법\n",
    "\n",
    "따라서 전제 데이터 중 일부는 훈련 데이터와 테스트 데이터 어디에서 선택되지 않을 수 있음"
   ]
  },
  {
   "cell_type": "code",
   "execution_count": 40,
   "id": "a55d6a7c-2b35-4c97-baaf-c19265eb7321",
   "metadata": {},
   "outputs": [
    {
     "name": "stdout",
     "output_type": "stream",
     "text": [
      "교차검증 정확도: [0.75       0.78125    0.53125    0.5483871  0.70967742]\n"
     ]
    }
   ],
   "source": [
    "from sklearn.model_selection import ShuffleSplit\n",
    "shuffle_split=ShuffleSplit(test_size=0.5, train_size=0.5, random_state=42)\n",
    "score=cross_val_score(model, X_train, y_train, cv=shuffle_split)\n",
    "print(\"교차검증 정확도:\", scores)"
   ]
  },
  {
   "cell_type": "markdown",
   "id": "b3b14a70-f438-4b71-aac4-6e6cd1a3eac0",
   "metadata": {},
   "source": [
    "- train - validity - test 분할과 교차검증\n",
    "\n",
    "train, test뿐만 아니라 valid도 나누어봄 "
   ]
  },
  {
   "cell_type": "code",
   "execution_count": 41,
   "id": "9741fa13-3f0b-4e85-8653-2de46f4c93e3",
   "metadata": {},
   "outputs": [],
   "source": [
    "from sklearn.model_selection import train_test_split\n",
    "\n",
    "X_train_val, X_test, y_train_val, y_test = train_test_split(X,y,random_state=1) # 먼저 train test 구분\n",
    "X_train, X_valid, y_train, y_valid = train_test_split(X_train_val,y_train_val,random_state=2) # train을 train valid로 구분"
   ]
  },
  {
   "cell_type": "code",
   "execution_count": 42,
   "id": "01960fcf-ec37-4763-b455-65f978a74e05",
   "metadata": {},
   "outputs": [
    {
     "name": "stdout",
     "output_type": "stream",
     "text": [
      "5개 테스트 셋 정확도 [0.58333333 0.66666667 0.70833333 0.65217391 0.65217391]\n",
      "정확도 평균 0.652536231884058\n"
     ]
    }
   ],
   "source": [
    "from sklearn.model_selection import cross_val_score\n",
    "\n",
    "model.fit(X_train, y_train)\n",
    "scores = cross_val_score(model, X_train, y_train, cv=5)\n",
    "print(\"5개 테스트 셋 정확도\", scores)\n",
    "print(\"정확도 평균\", scores.mean())"
   ]
  },
  {
   "cell_type": "code",
   "execution_count": 43,
   "id": "04d22a67-f911-4f2e-80cc-3f6a49e3de4f",
   "metadata": {},
   "outputs": [
    {
     "data": {
      "text/plain": [
       "0.65"
      ]
     },
     "execution_count": 43,
     "metadata": {},
     "output_type": "execute_result"
    }
   ],
   "source": [
    "model.score(X_valid,y_valid)"
   ]
  },
  {
   "cell_type": "code",
   "execution_count": 44,
   "id": "ea8cb68f-308b-4e8d-ac99-08981845eb7a",
   "metadata": {},
   "outputs": [
    {
     "data": {
      "text/plain": [
       "0.6981132075471698"
      ]
     },
     "execution_count": 44,
     "metadata": {},
     "output_type": "execute_result"
    }
   ],
   "source": [
    "model.score(X_test,y_test)"
   ]
  },
  {
   "cell_type": "markdown",
   "id": "b747e45d-70af-468a-ba88-d66fe9627b8b",
   "metadata": {},
   "source": [
    "##\n",
    "### 3. 데이터 정규화"
   ]
  },
  {
   "cell_type": "code",
   "execution_count": 45,
   "id": "c75a8ca5-18e2-4e57-9cd9-d676a695d034",
   "metadata": {},
   "outputs": [
    {
     "data": {
      "text/html": [
       "<div>\n",
       "<style scoped>\n",
       "    .dataframe tbody tr th:only-of-type {\n",
       "        vertical-align: middle;\n",
       "    }\n",
       "\n",
       "    .dataframe tbody tr th {\n",
       "        vertical-align: top;\n",
       "    }\n",
       "\n",
       "    .dataframe thead th {\n",
       "        text-align: right;\n",
       "    }\n",
       "</style>\n",
       "<table border=\"1\" class=\"dataframe\">\n",
       "  <thead>\n",
       "    <tr style=\"text-align: right;\">\n",
       "      <th></th>\n",
       "      <th>gender_female</th>\n",
       "      <th>gender_male</th>\n",
       "      <th>region_Chungcheung</th>\n",
       "      <th>region_Honam</th>\n",
       "      <th>region_Others</th>\n",
       "      <th>region_Sudo</th>\n",
       "      <th>region_Youngnam</th>\n",
       "      <th>edu</th>\n",
       "      <th>income</th>\n",
       "      <th>age</th>\n",
       "      <th>score_gov</th>\n",
       "      <th>score_progress</th>\n",
       "      <th>score_intention</th>\n",
       "      <th>vote</th>\n",
       "      <th>parties</th>\n",
       "    </tr>\n",
       "  </thead>\n",
       "  <tbody>\n",
       "    <tr>\n",
       "      <th>0</th>\n",
       "      <td>0</td>\n",
       "      <td>1</td>\n",
       "      <td>0</td>\n",
       "      <td>0</td>\n",
       "      <td>0</td>\n",
       "      <td>0</td>\n",
       "      <td>1</td>\n",
       "      <td>3</td>\n",
       "      <td>3</td>\n",
       "      <td>3</td>\n",
       "      <td>2</td>\n",
       "      <td>2</td>\n",
       "      <td>4.0</td>\n",
       "      <td>1</td>\n",
       "      <td>2</td>\n",
       "    </tr>\n",
       "    <tr>\n",
       "      <th>1</th>\n",
       "      <td>0</td>\n",
       "      <td>1</td>\n",
       "      <td>0</td>\n",
       "      <td>0</td>\n",
       "      <td>1</td>\n",
       "      <td>0</td>\n",
       "      <td>0</td>\n",
       "      <td>2</td>\n",
       "      <td>3</td>\n",
       "      <td>3</td>\n",
       "      <td>2</td>\n",
       "      <td>4</td>\n",
       "      <td>3.0</td>\n",
       "      <td>0</td>\n",
       "      <td>3</td>\n",
       "    </tr>\n",
       "    <tr>\n",
       "      <th>2</th>\n",
       "      <td>0</td>\n",
       "      <td>1</td>\n",
       "      <td>0</td>\n",
       "      <td>1</td>\n",
       "      <td>0</td>\n",
       "      <td>0</td>\n",
       "      <td>0</td>\n",
       "      <td>1</td>\n",
       "      <td>2</td>\n",
       "      <td>4</td>\n",
       "      <td>1</td>\n",
       "      <td>3</td>\n",
       "      <td>2.8</td>\n",
       "      <td>1</td>\n",
       "      <td>4</td>\n",
       "    </tr>\n",
       "    <tr>\n",
       "      <th>3</th>\n",
       "      <td>1</td>\n",
       "      <td>0</td>\n",
       "      <td>0</td>\n",
       "      <td>0</td>\n",
       "      <td>0</td>\n",
       "      <td>1</td>\n",
       "      <td>0</td>\n",
       "      <td>2</td>\n",
       "      <td>1</td>\n",
       "      <td>3</td>\n",
       "      <td>5</td>\n",
       "      <td>4</td>\n",
       "      <td>2.6</td>\n",
       "      <td>1</td>\n",
       "      <td>1</td>\n",
       "    </tr>\n",
       "    <tr>\n",
       "      <th>4</th>\n",
       "      <td>0</td>\n",
       "      <td>1</td>\n",
       "      <td>0</td>\n",
       "      <td>0</td>\n",
       "      <td>0</td>\n",
       "      <td>1</td>\n",
       "      <td>0</td>\n",
       "      <td>1</td>\n",
       "      <td>2</td>\n",
       "      <td>4</td>\n",
       "      <td>4</td>\n",
       "      <td>3</td>\n",
       "      <td>2.4</td>\n",
       "      <td>1</td>\n",
       "      <td>1</td>\n",
       "    </tr>\n",
       "  </tbody>\n",
       "</table>\n",
       "</div>"
      ],
      "text/plain": [
       "   gender_female  gender_male  region_Chungcheung  region_Honam  \\\n",
       "0              0            1                   0             0   \n",
       "1              0            1                   0             0   \n",
       "2              0            1                   0             1   \n",
       "3              1            0                   0             0   \n",
       "4              0            1                   0             0   \n",
       "\n",
       "   region_Others  region_Sudo  region_Youngnam  edu  income  age  score_gov  \\\n",
       "0              0            0                1    3       3    3          2   \n",
       "1              1            0                0    2       3    3          2   \n",
       "2              0            0                0    1       2    4          1   \n",
       "3              0            1                0    2       1    3          5   \n",
       "4              0            1                0    1       2    4          4   \n",
       "\n",
       "   score_progress  score_intention  vote  parties  \n",
       "0               2              4.0     1        2  \n",
       "1               4              3.0     0        3  \n",
       "2               3              2.8     1        4  \n",
       "3               4              2.6     1        1  \n",
       "4               3              2.4     1        1  "
      ]
     },
     "execution_count": 45,
     "metadata": {},
     "output_type": "execute_result"
    }
   ],
   "source": [
    "import pandas as pd\n",
    "data = pd.read_csv('C:\\\\Users\\\\user\\\\빅분기 실기\\\\[1]BigData_data_최종본(0910)\\\\Fvote.csv', encoding = 'utf-8')\n",
    "data.head()"
   ]
  },
  {
   "cell_type": "code",
   "execution_count": 46,
   "id": "ccfa9444-c6a9-4f32-bbe2-272bb6df0817",
   "metadata": {},
   "outputs": [
    {
     "data": {
      "text/html": [
       "<div>\n",
       "<style scoped>\n",
       "    .dataframe tbody tr th:only-of-type {\n",
       "        vertical-align: middle;\n",
       "    }\n",
       "\n",
       "    .dataframe tbody tr th {\n",
       "        vertical-align: top;\n",
       "    }\n",
       "\n",
       "    .dataframe thead th {\n",
       "        text-align: right;\n",
       "    }\n",
       "</style>\n",
       "<table border=\"1\" class=\"dataframe\">\n",
       "  <thead>\n",
       "    <tr style=\"text-align: right;\">\n",
       "      <th></th>\n",
       "      <th>gender_female</th>\n",
       "      <th>gender_male</th>\n",
       "      <th>region_Chungcheung</th>\n",
       "      <th>region_Honam</th>\n",
       "      <th>region_Others</th>\n",
       "      <th>region_Sudo</th>\n",
       "      <th>region_Youngnam</th>\n",
       "      <th>edu</th>\n",
       "      <th>income</th>\n",
       "      <th>age</th>\n",
       "      <th>score_gov</th>\n",
       "      <th>score_progress</th>\n",
       "      <th>score_intention</th>\n",
       "      <th>vote</th>\n",
       "      <th>parties</th>\n",
       "    </tr>\n",
       "  </thead>\n",
       "  <tbody>\n",
       "    <tr>\n",
       "      <th>count</th>\n",
       "      <td>211.000000</td>\n",
       "      <td>211.000000</td>\n",
       "      <td>211.000000</td>\n",
       "      <td>211.000000</td>\n",
       "      <td>211.000000</td>\n",
       "      <td>211.000000</td>\n",
       "      <td>211.000000</td>\n",
       "      <td>211.000000</td>\n",
       "      <td>211.000000</td>\n",
       "      <td>211.000000</td>\n",
       "      <td>211.000000</td>\n",
       "      <td>211.000000</td>\n",
       "      <td>211.000000</td>\n",
       "      <td>211.000000</td>\n",
       "      <td>211.000000</td>\n",
       "    </tr>\n",
       "    <tr>\n",
       "      <th>mean</th>\n",
       "      <td>0.341232</td>\n",
       "      <td>0.658768</td>\n",
       "      <td>0.080569</td>\n",
       "      <td>0.090047</td>\n",
       "      <td>0.094787</td>\n",
       "      <td>0.597156</td>\n",
       "      <td>0.137441</td>\n",
       "      <td>1.867299</td>\n",
       "      <td>2.208531</td>\n",
       "      <td>2.654028</td>\n",
       "      <td>3.056872</td>\n",
       "      <td>3.094787</td>\n",
       "      <td>2.910900</td>\n",
       "      <td>0.710900</td>\n",
       "      <td>2.668246</td>\n",
       "    </tr>\n",
       "    <tr>\n",
       "      <th>std</th>\n",
       "      <td>0.475251</td>\n",
       "      <td>0.475251</td>\n",
       "      <td>0.272819</td>\n",
       "      <td>0.286930</td>\n",
       "      <td>0.293617</td>\n",
       "      <td>0.491636</td>\n",
       "      <td>0.345131</td>\n",
       "      <td>0.625963</td>\n",
       "      <td>1.066424</td>\n",
       "      <td>0.872173</td>\n",
       "      <td>0.944451</td>\n",
       "      <td>0.961408</td>\n",
       "      <td>0.725078</td>\n",
       "      <td>0.454422</td>\n",
       "      <td>1.220416</td>\n",
       "    </tr>\n",
       "    <tr>\n",
       "      <th>min</th>\n",
       "      <td>0.000000</td>\n",
       "      <td>0.000000</td>\n",
       "      <td>0.000000</td>\n",
       "      <td>0.000000</td>\n",
       "      <td>0.000000</td>\n",
       "      <td>0.000000</td>\n",
       "      <td>0.000000</td>\n",
       "      <td>1.000000</td>\n",
       "      <td>1.000000</td>\n",
       "      <td>1.000000</td>\n",
       "      <td>1.000000</td>\n",
       "      <td>1.000000</td>\n",
       "      <td>1.000000</td>\n",
       "      <td>0.000000</td>\n",
       "      <td>1.000000</td>\n",
       "    </tr>\n",
       "    <tr>\n",
       "      <th>25%</th>\n",
       "      <td>0.000000</td>\n",
       "      <td>0.000000</td>\n",
       "      <td>0.000000</td>\n",
       "      <td>0.000000</td>\n",
       "      <td>0.000000</td>\n",
       "      <td>0.000000</td>\n",
       "      <td>0.000000</td>\n",
       "      <td>1.000000</td>\n",
       "      <td>1.000000</td>\n",
       "      <td>2.000000</td>\n",
       "      <td>3.000000</td>\n",
       "      <td>2.000000</td>\n",
       "      <td>2.400000</td>\n",
       "      <td>0.000000</td>\n",
       "      <td>2.000000</td>\n",
       "    </tr>\n",
       "    <tr>\n",
       "      <th>50%</th>\n",
       "      <td>0.000000</td>\n",
       "      <td>1.000000</td>\n",
       "      <td>0.000000</td>\n",
       "      <td>0.000000</td>\n",
       "      <td>0.000000</td>\n",
       "      <td>1.000000</td>\n",
       "      <td>0.000000</td>\n",
       "      <td>2.000000</td>\n",
       "      <td>2.000000</td>\n",
       "      <td>3.000000</td>\n",
       "      <td>3.000000</td>\n",
       "      <td>3.000000</td>\n",
       "      <td>3.000000</td>\n",
       "      <td>1.000000</td>\n",
       "      <td>3.000000</td>\n",
       "    </tr>\n",
       "    <tr>\n",
       "      <th>75%</th>\n",
       "      <td>1.000000</td>\n",
       "      <td>1.000000</td>\n",
       "      <td>0.000000</td>\n",
       "      <td>0.000000</td>\n",
       "      <td>0.000000</td>\n",
       "      <td>1.000000</td>\n",
       "      <td>0.000000</td>\n",
       "      <td>2.000000</td>\n",
       "      <td>3.000000</td>\n",
       "      <td>3.000000</td>\n",
       "      <td>4.000000</td>\n",
       "      <td>4.000000</td>\n",
       "      <td>3.400000</td>\n",
       "      <td>1.000000</td>\n",
       "      <td>4.000000</td>\n",
       "    </tr>\n",
       "    <tr>\n",
       "      <th>max</th>\n",
       "      <td>1.000000</td>\n",
       "      <td>1.000000</td>\n",
       "      <td>1.000000</td>\n",
       "      <td>1.000000</td>\n",
       "      <td>1.000000</td>\n",
       "      <td>1.000000</td>\n",
       "      <td>1.000000</td>\n",
       "      <td>3.000000</td>\n",
       "      <td>4.000000</td>\n",
       "      <td>4.000000</td>\n",
       "      <td>5.000000</td>\n",
       "      <td>5.000000</td>\n",
       "      <td>5.000000</td>\n",
       "      <td>1.000000</td>\n",
       "      <td>4.000000</td>\n",
       "    </tr>\n",
       "  </tbody>\n",
       "</table>\n",
       "</div>"
      ],
      "text/plain": [
       "       gender_female  gender_male  region_Chungcheung  region_Honam  \\\n",
       "count     211.000000   211.000000          211.000000    211.000000   \n",
       "mean        0.341232     0.658768            0.080569      0.090047   \n",
       "std         0.475251     0.475251            0.272819      0.286930   \n",
       "min         0.000000     0.000000            0.000000      0.000000   \n",
       "25%         0.000000     0.000000            0.000000      0.000000   \n",
       "50%         0.000000     1.000000            0.000000      0.000000   \n",
       "75%         1.000000     1.000000            0.000000      0.000000   \n",
       "max         1.000000     1.000000            1.000000      1.000000   \n",
       "\n",
       "       region_Others  region_Sudo  region_Youngnam         edu      income  \\\n",
       "count     211.000000   211.000000       211.000000  211.000000  211.000000   \n",
       "mean        0.094787     0.597156         0.137441    1.867299    2.208531   \n",
       "std         0.293617     0.491636         0.345131    0.625963    1.066424   \n",
       "min         0.000000     0.000000         0.000000    1.000000    1.000000   \n",
       "25%         0.000000     0.000000         0.000000    1.000000    1.000000   \n",
       "50%         0.000000     1.000000         0.000000    2.000000    2.000000   \n",
       "75%         0.000000     1.000000         0.000000    2.000000    3.000000   \n",
       "max         1.000000     1.000000         1.000000    3.000000    4.000000   \n",
       "\n",
       "              age   score_gov  score_progress  score_intention        vote  \\\n",
       "count  211.000000  211.000000      211.000000       211.000000  211.000000   \n",
       "mean     2.654028    3.056872        3.094787         2.910900    0.710900   \n",
       "std      0.872173    0.944451        0.961408         0.725078    0.454422   \n",
       "min      1.000000    1.000000        1.000000         1.000000    0.000000   \n",
       "25%      2.000000    3.000000        2.000000         2.400000    0.000000   \n",
       "50%      3.000000    3.000000        3.000000         3.000000    1.000000   \n",
       "75%      3.000000    4.000000        4.000000         3.400000    1.000000   \n",
       "max      4.000000    5.000000        5.000000         5.000000    1.000000   \n",
       "\n",
       "          parties  \n",
       "count  211.000000  \n",
       "mean     2.668246  \n",
       "std      1.220416  \n",
       "min      1.000000  \n",
       "25%      2.000000  \n",
       "50%      3.000000  \n",
       "75%      4.000000  \n",
       "max      4.000000  "
      ]
     },
     "execution_count": 46,
     "metadata": {},
     "output_type": "execute_result"
    }
   ],
   "source": [
    "data.describe()"
   ]
  },
  {
   "cell_type": "code",
   "execution_count": 47,
   "id": "b026bf42-8390-4e19-8209-63b6da1b8a01",
   "metadata": {},
   "outputs": [
    {
     "data": {
      "text/plain": [
       "array([[<AxesSubplot:title={'center':'gender_female'}>,\n",
       "        <AxesSubplot:title={'center':'gender_male'}>,\n",
       "        <AxesSubplot:title={'center':'region_Chungcheung'}>,\n",
       "        <AxesSubplot:title={'center':'region_Honam'}>],\n",
       "       [<AxesSubplot:title={'center':'region_Others'}>,\n",
       "        <AxesSubplot:title={'center':'region_Sudo'}>,\n",
       "        <AxesSubplot:title={'center':'region_Youngnam'}>,\n",
       "        <AxesSubplot:title={'center':'edu'}>],\n",
       "       [<AxesSubplot:title={'center':'income'}>,\n",
       "        <AxesSubplot:title={'center':'age'}>,\n",
       "        <AxesSubplot:title={'center':'score_gov'}>,\n",
       "        <AxesSubplot:title={'center':'score_progress'}>],\n",
       "       [<AxesSubplot:title={'center':'score_intention'}>,\n",
       "        <AxesSubplot:title={'center':'vote'}>,\n",
       "        <AxesSubplot:title={'center':'parties'}>, <AxesSubplot:>]],\n",
       "      dtype=object)"
      ]
     },
     "execution_count": 47,
     "metadata": {},
     "output_type": "execute_result"
    },
    {
     "data": {
      "image/png": "[encoded data removed]",
      "text/plain": [
       "<Figure size 1440x720 with 16 Axes>"
      ]
     },
     "metadata": {
      "needs_background": "light"
     },
     "output_type": "display_data"
    }
   ],
   "source": [
    "data.hist(figsize=(20,10))"
   ]
  },
  {
   "cell_type": "code",
   "execution_count": 48,
   "id": "16cff73c-2c07-450d-ac81-7fb126609238",
   "metadata": {},
   "outputs": [
    {
     "data": {
      "text/plain": [
       "((211, 13), (211, 1))"
      ]
     },
     "execution_count": 48,
     "metadata": {},
     "output_type": "execute_result"
    }
   ],
   "source": [
    "X = data.loc[:,'gender_female':'score_intention']\n",
    "y= data[['vote']]\n",
    "X.shape, y.shape"
   ]
  },
  {
   "cell_type": "code",
   "execution_count": 49,
   "id": "ef266b6e-e607-4f8f-8dbb-e32303e642a6",
   "metadata": {},
   "outputs": [
    {
     "data": {
      "text/plain": [
       "(vote    0.708861\n",
       " dtype: float64,\n",
       " vote    0.716981\n",
       " dtype: float64)"
      ]
     },
     "execution_count": 49,
     "metadata": {},
     "output_type": "execute_result"
    }
   ],
   "source": [
    "from sklearn.model_selection import train_test_split\n",
    "X_train, X_test, y_train, y_test = train_test_split(X,y,stratify=y, random_state=42)\n",
    "\n",
    "y_train.mean(),y_test.mean()"
   ]
  },
  {
   "cell_type": "markdown",
   "id": "45226ad4-ef46-4436-a5bb-31c1343e750b",
   "metadata": {},
   "source": [
    "#####\n",
    "스케일링"
   ]
  },
  {
   "cell_type": "code",
   "execution_count": 50,
   "id": "ff663b77-dcbb-401a-ba27-9daa06a055af",
   "metadata": {},
   "outputs": [],
   "source": [
    "from sklearn.preprocessing import MinMaxScaler\n",
    "scaler = MinMaxScaler()\n",
    "scaler.fit(X_train)\n",
    "X_train_MM = scaler.transform(X_train)\n",
    "X_test_MM = scaler.transform(X_test)"
   ]
  },
  {
   "cell_type": "code",
   "execution_count": 51,
   "id": "56c8cc24-1a74-437c-9605-b32f2a6aab2f",
   "metadata": {},
   "outputs": [
    {
     "data": {
      "text/html": [
       "<div>\n",
       "<style scoped>\n",
       "    .dataframe tbody tr th:only-of-type {\n",
       "        vertical-align: middle;\n",
       "    }\n",
       "\n",
       "    .dataframe tbody tr th {\n",
       "        vertical-align: top;\n",
       "    }\n",
       "\n",
       "    .dataframe thead th {\n",
       "        text-align: right;\n",
       "    }\n",
       "</style>\n",
       "<table border=\"1\" class=\"dataframe\">\n",
       "  <thead>\n",
       "    <tr style=\"text-align: right;\">\n",
       "      <th></th>\n",
       "      <th>0</th>\n",
       "      <th>1</th>\n",
       "      <th>2</th>\n",
       "      <th>3</th>\n",
       "      <th>4</th>\n",
       "      <th>5</th>\n",
       "      <th>6</th>\n",
       "      <th>7</th>\n",
       "      <th>8</th>\n",
       "      <th>9</th>\n",
       "      <th>10</th>\n",
       "      <th>11</th>\n",
       "      <th>12</th>\n",
       "    </tr>\n",
       "  </thead>\n",
       "  <tbody>\n",
       "    <tr>\n",
       "      <th>count</th>\n",
       "      <td>158.000000</td>\n",
       "      <td>158.000000</td>\n",
       "      <td>158.000000</td>\n",
       "      <td>158.000000</td>\n",
       "      <td>158.000000</td>\n",
       "      <td>158.000000</td>\n",
       "      <td>158.000000</td>\n",
       "      <td>158.000000</td>\n",
       "      <td>158.000000</td>\n",
       "      <td>158.000000</td>\n",
       "      <td>158.000000</td>\n",
       "      <td>158.000000</td>\n",
       "      <td>158.000000</td>\n",
       "    </tr>\n",
       "    <tr>\n",
       "      <th>mean</th>\n",
       "      <td>0.322785</td>\n",
       "      <td>0.677215</td>\n",
       "      <td>0.094937</td>\n",
       "      <td>0.056962</td>\n",
       "      <td>0.101266</td>\n",
       "      <td>0.601266</td>\n",
       "      <td>0.145570</td>\n",
       "      <td>0.436709</td>\n",
       "      <td>0.392405</td>\n",
       "      <td>0.554852</td>\n",
       "      <td>0.507911</td>\n",
       "      <td>0.518987</td>\n",
       "      <td>0.477532</td>\n",
       "    </tr>\n",
       "    <tr>\n",
       "      <th>std</th>\n",
       "      <td>0.469028</td>\n",
       "      <td>0.469028</td>\n",
       "      <td>0.294060</td>\n",
       "      <td>0.232507</td>\n",
       "      <td>0.302640</td>\n",
       "      <td>0.491195</td>\n",
       "      <td>0.353796</td>\n",
       "      <td>0.312857</td>\n",
       "      <td>0.355960</td>\n",
       "      <td>0.295306</td>\n",
       "      <td>0.235099</td>\n",
       "      <td>0.245248</td>\n",
       "      <td>0.187215</td>\n",
       "    </tr>\n",
       "    <tr>\n",
       "      <th>min</th>\n",
       "      <td>0.000000</td>\n",
       "      <td>0.000000</td>\n",
       "      <td>0.000000</td>\n",
       "      <td>0.000000</td>\n",
       "      <td>0.000000</td>\n",
       "      <td>0.000000</td>\n",
       "      <td>0.000000</td>\n",
       "      <td>0.000000</td>\n",
       "      <td>0.000000</td>\n",
       "      <td>0.000000</td>\n",
       "      <td>0.000000</td>\n",
       "      <td>0.000000</td>\n",
       "      <td>0.000000</td>\n",
       "    </tr>\n",
       "    <tr>\n",
       "      <th>25%</th>\n",
       "      <td>0.000000</td>\n",
       "      <td>0.000000</td>\n",
       "      <td>0.000000</td>\n",
       "      <td>0.000000</td>\n",
       "      <td>0.000000</td>\n",
       "      <td>0.000000</td>\n",
       "      <td>0.000000</td>\n",
       "      <td>0.000000</td>\n",
       "      <td>0.000000</td>\n",
       "      <td>0.333333</td>\n",
       "      <td>0.312500</td>\n",
       "      <td>0.250000</td>\n",
       "      <td>0.350000</td>\n",
       "    </tr>\n",
       "    <tr>\n",
       "      <th>50%</th>\n",
       "      <td>0.000000</td>\n",
       "      <td>1.000000</td>\n",
       "      <td>0.000000</td>\n",
       "      <td>0.000000</td>\n",
       "      <td>0.000000</td>\n",
       "      <td>1.000000</td>\n",
       "      <td>0.000000</td>\n",
       "      <td>0.500000</td>\n",
       "      <td>0.333333</td>\n",
       "      <td>0.500000</td>\n",
       "      <td>0.500000</td>\n",
       "      <td>0.500000</td>\n",
       "      <td>0.500000</td>\n",
       "    </tr>\n",
       "    <tr>\n",
       "      <th>75%</th>\n",
       "      <td>1.000000</td>\n",
       "      <td>1.000000</td>\n",
       "      <td>0.000000</td>\n",
       "      <td>0.000000</td>\n",
       "      <td>0.000000</td>\n",
       "      <td>1.000000</td>\n",
       "      <td>0.000000</td>\n",
       "      <td>0.500000</td>\n",
       "      <td>0.666667</td>\n",
       "      <td>0.666667</td>\n",
       "      <td>0.750000</td>\n",
       "      <td>0.750000</td>\n",
       "      <td>0.600000</td>\n",
       "    </tr>\n",
       "    <tr>\n",
       "      <th>max</th>\n",
       "      <td>1.000000</td>\n",
       "      <td>1.000000</td>\n",
       "      <td>1.000000</td>\n",
       "      <td>1.000000</td>\n",
       "      <td>1.000000</td>\n",
       "      <td>1.000000</td>\n",
       "      <td>1.000000</td>\n",
       "      <td>1.000000</td>\n",
       "      <td>1.000000</td>\n",
       "      <td>1.000000</td>\n",
       "      <td>1.000000</td>\n",
       "      <td>1.000000</td>\n",
       "      <td>1.000000</td>\n",
       "    </tr>\n",
       "  </tbody>\n",
       "</table>\n",
       "</div>"
      ],
      "text/plain": [
       "               0           1           2           3           4           5   \\\n",
       "count  158.000000  158.000000  158.000000  158.000000  158.000000  158.000000   \n",
       "mean     0.322785    0.677215    0.094937    0.056962    0.101266    0.601266   \n",
       "std      0.469028    0.469028    0.294060    0.232507    0.302640    0.491195   \n",
       "min      0.000000    0.000000    0.000000    0.000000    0.000000    0.000000   \n",
       "25%      0.000000    0.000000    0.000000    0.000000    0.000000    0.000000   \n",
       "50%      0.000000    1.000000    0.000000    0.000000    0.000000    1.000000   \n",
       "75%      1.000000    1.000000    0.000000    0.000000    0.000000    1.000000   \n",
       "max      1.000000    1.000000    1.000000    1.000000    1.000000    1.000000   \n",
       "\n",
       "               6           7           8           9           10          11  \\\n",
       "count  158.000000  158.000000  158.000000  158.000000  158.000000  158.000000   \n",
       "mean     0.145570    0.436709    0.392405    0.554852    0.507911    0.518987   \n",
       "std      0.353796    0.312857    0.355960    0.295306    0.235099    0.245248   \n",
       "min      0.000000    0.000000    0.000000    0.000000    0.000000    0.000000   \n",
       "25%      0.000000    0.000000    0.000000    0.333333    0.312500    0.250000   \n",
       "50%      0.000000    0.500000    0.333333    0.500000    0.500000    0.500000   \n",
       "75%      0.000000    0.500000    0.666667    0.666667    0.750000    0.750000   \n",
       "max      1.000000    1.000000    1.000000    1.000000    1.000000    1.000000   \n",
       "\n",
       "               12  \n",
       "count  158.000000  \n",
       "mean     0.477532  \n",
       "std      0.187215  \n",
       "min      0.000000  \n",
       "25%      0.350000  \n",
       "50%      0.500000  \n",
       "75%      0.600000  \n",
       "max      1.000000  "
      ]
     },
     "execution_count": 51,
     "metadata": {},
     "output_type": "execute_result"
    }
   ],
   "source": [
    "pd.DataFrame(X_train_MM).describe()"
   ]
  },
  {
   "cell_type": "code",
   "execution_count": 52,
   "id": "75b04002-3b79-4757-82cd-ba482ab78939",
   "metadata": {},
   "outputs": [
    {
     "data": {
      "text/html": [
       "<div>\n",
       "<style scoped>\n",
       "    .dataframe tbody tr th:only-of-type {\n",
       "        vertical-align: middle;\n",
       "    }\n",
       "\n",
       "    .dataframe tbody tr th {\n",
       "        vertical-align: top;\n",
       "    }\n",
       "\n",
       "    .dataframe thead th {\n",
       "        text-align: right;\n",
       "    }\n",
       "</style>\n",
       "<table border=\"1\" class=\"dataframe\">\n",
       "  <thead>\n",
       "    <tr style=\"text-align: right;\">\n",
       "      <th></th>\n",
       "      <th>0</th>\n",
       "      <th>1</th>\n",
       "      <th>2</th>\n",
       "      <th>3</th>\n",
       "      <th>4</th>\n",
       "      <th>5</th>\n",
       "      <th>6</th>\n",
       "      <th>7</th>\n",
       "      <th>8</th>\n",
       "      <th>9</th>\n",
       "      <th>10</th>\n",
       "      <th>11</th>\n",
       "      <th>12</th>\n",
       "    </tr>\n",
       "  </thead>\n",
       "  <tbody>\n",
       "    <tr>\n",
       "      <th>count</th>\n",
       "      <td>53.000000</td>\n",
       "      <td>53.000000</td>\n",
       "      <td>53.000000</td>\n",
       "      <td>53.000000</td>\n",
       "      <td>53.000000</td>\n",
       "      <td>53.000000</td>\n",
       "      <td>53.000000</td>\n",
       "      <td>53.000000</td>\n",
       "      <td>53.000000</td>\n",
       "      <td>53.000000</td>\n",
       "      <td>53.000000</td>\n",
       "      <td>53.000000</td>\n",
       "      <td>53.000000</td>\n",
       "    </tr>\n",
       "    <tr>\n",
       "      <th>mean</th>\n",
       "      <td>0.396226</td>\n",
       "      <td>0.603774</td>\n",
       "      <td>0.037736</td>\n",
       "      <td>0.188679</td>\n",
       "      <td>0.075472</td>\n",
       "      <td>0.584906</td>\n",
       "      <td>0.113208</td>\n",
       "      <td>0.424528</td>\n",
       "      <td>0.433962</td>\n",
       "      <td>0.540881</td>\n",
       "      <td>0.533019</td>\n",
       "      <td>0.537736</td>\n",
       "      <td>0.478302</td>\n",
       "    </tr>\n",
       "    <tr>\n",
       "      <th>std</th>\n",
       "      <td>0.493793</td>\n",
       "      <td>0.493793</td>\n",
       "      <td>0.192380</td>\n",
       "      <td>0.394998</td>\n",
       "      <td>0.266679</td>\n",
       "      <td>0.497454</td>\n",
       "      <td>0.319878</td>\n",
       "      <td>0.316170</td>\n",
       "      <td>0.355572</td>\n",
       "      <td>0.279089</td>\n",
       "      <td>0.240381</td>\n",
       "      <td>0.226789</td>\n",
       "      <td>0.163939</td>\n",
       "    </tr>\n",
       "    <tr>\n",
       "      <th>min</th>\n",
       "      <td>0.000000</td>\n",
       "      <td>0.000000</td>\n",
       "      <td>0.000000</td>\n",
       "      <td>0.000000</td>\n",
       "      <td>0.000000</td>\n",
       "      <td>0.000000</td>\n",
       "      <td>0.000000</td>\n",
       "      <td>0.000000</td>\n",
       "      <td>0.000000</td>\n",
       "      <td>0.000000</td>\n",
       "      <td>0.000000</td>\n",
       "      <td>0.000000</td>\n",
       "      <td>0.200000</td>\n",
       "    </tr>\n",
       "    <tr>\n",
       "      <th>25%</th>\n",
       "      <td>0.000000</td>\n",
       "      <td>0.000000</td>\n",
       "      <td>0.000000</td>\n",
       "      <td>0.000000</td>\n",
       "      <td>0.000000</td>\n",
       "      <td>0.000000</td>\n",
       "      <td>0.000000</td>\n",
       "      <td>0.000000</td>\n",
       "      <td>0.000000</td>\n",
       "      <td>0.333333</td>\n",
       "      <td>0.500000</td>\n",
       "      <td>0.500000</td>\n",
       "      <td>0.350000</td>\n",
       "    </tr>\n",
       "    <tr>\n",
       "      <th>50%</th>\n",
       "      <td>0.000000</td>\n",
       "      <td>1.000000</td>\n",
       "      <td>0.000000</td>\n",
       "      <td>0.000000</td>\n",
       "      <td>0.000000</td>\n",
       "      <td>1.000000</td>\n",
       "      <td>0.000000</td>\n",
       "      <td>0.500000</td>\n",
       "      <td>0.333333</td>\n",
       "      <td>0.666667</td>\n",
       "      <td>0.500000</td>\n",
       "      <td>0.500000</td>\n",
       "      <td>0.500000</td>\n",
       "    </tr>\n",
       "    <tr>\n",
       "      <th>75%</th>\n",
       "      <td>1.000000</td>\n",
       "      <td>1.000000</td>\n",
       "      <td>0.000000</td>\n",
       "      <td>0.000000</td>\n",
       "      <td>0.000000</td>\n",
       "      <td>1.000000</td>\n",
       "      <td>0.000000</td>\n",
       "      <td>0.500000</td>\n",
       "      <td>0.666667</td>\n",
       "      <td>0.666667</td>\n",
       "      <td>0.750000</td>\n",
       "      <td>0.750000</td>\n",
       "      <td>0.550000</td>\n",
       "    </tr>\n",
       "    <tr>\n",
       "      <th>max</th>\n",
       "      <td>1.000000</td>\n",
       "      <td>1.000000</td>\n",
       "      <td>1.000000</td>\n",
       "      <td>1.000000</td>\n",
       "      <td>1.000000</td>\n",
       "      <td>1.000000</td>\n",
       "      <td>1.000000</td>\n",
       "      <td>1.000000</td>\n",
       "      <td>1.000000</td>\n",
       "      <td>1.000000</td>\n",
       "      <td>1.000000</td>\n",
       "      <td>1.000000</td>\n",
       "      <td>0.900000</td>\n",
       "    </tr>\n",
       "  </tbody>\n",
       "</table>\n",
       "</div>"
      ],
      "text/plain": [
       "              0          1          2          3          4          5   \\\n",
       "count  53.000000  53.000000  53.000000  53.000000  53.000000  53.000000   \n",
       "mean    0.396226   0.603774   0.037736   0.188679   0.075472   0.584906   \n",
       "std     0.493793   0.493793   0.192380   0.394998   0.266679   0.497454   \n",
       "min     0.000000   0.000000   0.000000   0.000000   0.000000   0.000000   \n",
       "25%     0.000000   0.000000   0.000000   0.000000   0.000000   0.000000   \n",
       "50%     0.000000   1.000000   0.000000   0.000000   0.000000   1.000000   \n",
       "75%     1.000000   1.000000   0.000000   0.000000   0.000000   1.000000   \n",
       "max     1.000000   1.000000   1.000000   1.000000   1.000000   1.000000   \n",
       "\n",
       "              6          7          8          9          10         11  \\\n",
       "count  53.000000  53.000000  53.000000  53.000000  53.000000  53.000000   \n",
       "mean    0.113208   0.424528   0.433962   0.540881   0.533019   0.537736   \n",
       "std     0.319878   0.316170   0.355572   0.279089   0.240381   0.226789   \n",
       "min     0.000000   0.000000   0.000000   0.000000   0.000000   0.000000   \n",
       "25%     0.000000   0.000000   0.000000   0.333333   0.500000   0.500000   \n",
       "50%     0.000000   0.500000   0.333333   0.666667   0.500000   0.500000   \n",
       "75%     0.000000   0.500000   0.666667   0.666667   0.750000   0.750000   \n",
       "max     1.000000   1.000000   1.000000   1.000000   1.000000   1.000000   \n",
       "\n",
       "              12  \n",
       "count  53.000000  \n",
       "mean    0.478302  \n",
       "std     0.163939  \n",
       "min     0.200000  \n",
       "25%     0.350000  \n",
       "50%     0.500000  \n",
       "75%     0.550000  \n",
       "max     0.900000  "
      ]
     },
     "execution_count": 52,
     "metadata": {},
     "output_type": "execute_result"
    }
   ],
   "source": [
    "pd.DataFrame(X_test_MM).describe()"
   ]
  },
  {
   "cell_type": "code",
   "execution_count": 53,
   "id": "5ffa0eb4-8440-4e8a-90f8-e74827c9180f",
   "metadata": {},
   "outputs": [],
   "source": [
    "from sklearn.preprocessing import StandardScaler\n",
    "scaler_s = StandardScaler()\n",
    "scaler_s.fit(X_train)\n",
    "X_train_S = scaler_s.transform(X_train)\n",
    "X_test_S = scaler_s.transform(X_test)"
   ]
  },
  {
   "cell_type": "markdown",
   "id": "682a3750-3bbc-4010-a335-087e58735d3b",
   "metadata": {},
   "source": [
    "####\n",
    "모델학습"
   ]
  },
  {
   "cell_type": "code",
   "execution_count": 54,
   "id": "c456402a-1bb0-440a-a9fe-70ff5f6c00af",
   "metadata": {},
   "outputs": [],
   "source": [
    "from sklearn.linear_model import LogisticRegression\n",
    "model = LogisticRegression()"
   ]
  },
  {
   "cell_type": "code",
   "execution_count": 55,
   "id": "d50e92cf-e844-409d-96b6-ecb45843454a",
   "metadata": {},
   "outputs": [
    {
     "data": {
      "text/plain": [
       "0.7278481012658228"
      ]
     },
     "execution_count": 55,
     "metadata": {},
     "output_type": "execute_result"
    }
   ],
   "source": [
    "model.fit(X_train_MM,y_train)\n",
    "pred_train = model.predict(X_train_MM)\n",
    "model.score(X_train_MM,y_train)"
   ]
  },
  {
   "cell_type": "code",
   "execution_count": 56,
   "id": "3d512da8-1ed3-4b86-be03-ac3080cfb745",
   "metadata": {},
   "outputs": [
    {
     "data": {
      "text/plain": [
       "0.7169811320754716"
      ]
     },
     "execution_count": 56,
     "metadata": {},
     "output_type": "execute_result"
    }
   ],
   "source": [
    "pred_test = model.predict(X_test_MM)\n",
    "model.score(X_test_MM,y_test)"
   ]
  },
  {
   "cell_type": "code",
   "execution_count": 57,
   "id": "d02bfbf4-2c06-420d-b179-fc6b9c4e4e41",
   "metadata": {},
   "outputs": [
    {
     "data": {
      "text/plain": [
       "array([[  9,  37],\n",
       "       [  6, 106]], dtype=int64)"
      ]
     },
     "execution_count": 57,
     "metadata": {},
     "output_type": "execute_result"
    }
   ],
   "source": [
    "from sklearn.metrics import confusion_matrix\n",
    "cofusion_train = confusion_matrix(y_train,pred_train)\n",
    "cofusion_train # 투표 안한 인원 46명 중 9명 맞춤"
   ]
  },
  {
   "cell_type": "code",
   "execution_count": 58,
   "id": "5947faad-357f-4441-bc50-27e3bfe65983",
   "metadata": {},
   "outputs": [
    {
     "data": {
      "text/plain": [
       "array([[ 2, 13],\n",
       "       [ 2, 36]], dtype=int64)"
      ]
     },
     "execution_count": 58,
     "metadata": {},
     "output_type": "execute_result"
    }
   ],
   "source": [
    "cofusion_test = confusion_matrix(y_test,pred_test)\n",
    "cofusion_test # 투표 안한 인원 16명 중 2명 맞춤"
   ]
  },
  {
   "cell_type": "code",
   "execution_count": 59,
   "id": "cabdb9c5-5d25-4960-895c-811eb7cc7412",
   "metadata": {},
   "outputs": [
    {
     "data": {
      "text/plain": [
       "0.740506329113924"
      ]
     },
     "execution_count": 59,
     "metadata": {},
     "output_type": "execute_result"
    }
   ],
   "source": [
    "# standard\n",
    "from sklearn.linear_model import LogisticRegression\n",
    "model = LogisticRegression()\n",
    "model.fit(X_train_S,y_train)\n",
    "pred_train_S = model.predict(X_train_S)\n",
    "model.score(X_train_S,y_train)\n"
   ]
  },
  {
   "cell_type": "code",
   "execution_count": 60,
   "id": "b48d0d9a-f792-43aa-a34e-7cefd5edb8e1",
   "metadata": {},
   "outputs": [
    {
     "data": {
      "text/plain": [
       "0.6792452830188679"
      ]
     },
     "execution_count": 60,
     "metadata": {},
     "output_type": "execute_result"
    }
   ],
   "source": [
    "pred_test_S = model.predict(X_test_S)\n",
    "model.score(X_test_S,y_test)"
   ]
  },
  {
   "cell_type": "code",
   "execution_count": 61,
   "id": "9a7f0ffe-1804-4f90-8cfc-fae4a95dbd29",
   "metadata": {},
   "outputs": [
    {
     "data": {
      "text/plain": [
       "array([[ 12,  34],\n",
       "       [  7, 105]], dtype=int64)"
      ]
     },
     "execution_count": 61,
     "metadata": {},
     "output_type": "execute_result"
    }
   ],
   "source": [
    "from sklearn.metrics import confusion_matrix\n",
    "confusion = confusion_matrix(y_train, pred_train_S)\n",
    "confusion"
   ]
  },
  {
   "cell_type": "code",
   "execution_count": 62,
   "id": "8f9f0df3-909b-4883-98a4-cfd71caba866",
   "metadata": {},
   "outputs": [
    {
     "data": {
      "text/plain": [
       "array([[ 3, 12],\n",
       "       [ 5, 33]], dtype=int64)"
      ]
     },
     "execution_count": 62,
     "metadata": {},
     "output_type": "execute_result"
    }
   ],
   "source": [
    "confusion_test = confusion_matrix(y_test, pred_test_S)\n",
    "confusion_test"
   ]
  },
  {
   "cell_type": "markdown",
   "id": "6809a9a7-603b-43bf-9d29-ddef1a715be0",
   "metadata": {},
   "source": [
    "##\n",
    "### 4. 모델훈련과 세부 튜닝"
   ]
  },
  {
   "cell_type": "code",
   "execution_count": 63,
   "id": "fc40ccac-33c5-4202-b713-08557202cc13",
   "metadata": {},
   "outputs": [],
   "source": [
    "import warnings\n",
    "warnings.filterwarnings('ignore')\n",
    "import pandas as pd\n",
    "data = pd.read_csv('C:\\\\Users\\\\user\\\\빅분기 실기\\\\[1]BigData_data_최종본(0910)\\\\Fvote.csv',encoding='utf-8')"
   ]
  },
  {
   "cell_type": "code",
   "execution_count": 64,
   "id": "9eac59d9-326f-429b-bf77-043dcdf81563",
   "metadata": {},
   "outputs": [],
   "source": [
    "X = data.iloc[:,:13]\n",
    "y = data[['vote']]"
   ]
  },
  {
   "cell_type": "code",
   "execution_count": 65,
   "id": "51443903-57e3-45b5-a04d-348594c9b579",
   "metadata": {},
   "outputs": [
    {
     "data": {
      "text/plain": [
       "((211, 15), (211, 13), (211, 1))"
      ]
     },
     "execution_count": 65,
     "metadata": {},
     "output_type": "execute_result"
    }
   ],
   "source": [
    "data.shape, X.shape, y.shape"
   ]
  },
  {
   "cell_type": "code",
   "execution_count": 66,
   "id": "dc3acda2-43ca-4687-b0d8-c95d8c3719d3",
   "metadata": {},
   "outputs": [],
   "source": [
    "from sklearn.model_selection import train_test_split\n",
    "X_train,X_test,y_train,y_test =train_test_split(X,y,random_state=42,stratify=y)"
   ]
  },
  {
   "cell_type": "markdown",
   "id": "4b3d2687-5537-4e33-8b0f-4dafb7eb9868",
   "metadata": {},
   "source": [
    "- GRID SEARCH\n",
    "\n",
    "분석자가 하이퍼파라미터의 특정값을 지정하고 각각 모델에 적용하여 모델 적합도를 비교\n",
    "1. 먼저 parameter를 지정 param_gird= {'C':[0.01,0.1,1,10,100]}\n",
    "2. 모델을 불러온다\n",
    "3. grid_search =GridSearchCV(알고리즘모델, param_grid, cv= 갯수 , return_train_score=True of False 정확도 결과 제시) \n",
    "4. grid_search.fit(X_train,y_train)\n",
    "5. grid_search.best_params_ 와 grid_search.best_score_를 확인 "
   ]
  },
  {
   "cell_type": "code",
   "execution_count": 67,
   "id": "4cad3a7a-76f4-4674-824e-c52d7e0e92a7",
   "metadata": {},
   "outputs": [
    {
     "data": {
      "text/plain": [
       "GridSearchCV(cv=5, error_score=nan,\n",
       "             estimator=LogisticRegression(C=1.0, class_weight=None, dual=False,\n",
       "                                          fit_intercept=True,\n",
       "                                          intercept_scaling=1, l1_ratio=None,\n",
       "                                          max_iter=100, multi_class='auto',\n",
       "                                          n_jobs=None, penalty='l2',\n",
       "                                          random_state=None, solver='lbfgs',\n",
       "                                          tol=0.0001, verbose=0,\n",
       "                                          warm_start=False),\n",
       "             iid='deprecated', n_jobs=None,\n",
       "             param_grid={'C': [0.01, 0.1, 1, 10, 100]}, pre_dispatch='2*n_jobs',\n",
       "             refit=True, return_train_score=True, scoring=None, verbose=0)"
      ]
     },
     "execution_count": 67,
     "metadata": {},
     "output_type": "execute_result"
    }
   ],
   "source": [
    "from sklearn.model_selection import GridSearchCV\n",
    "from sklearn.linear_model import LogisticRegression\n",
    "param_grid = {'C':[0.01,0.1,1,10,100]}\n",
    "model = LogisticRegression()\n",
    "grid_search = GridSearchCV(model, param_grid, cv=5, return_train_score=True)\n",
    "grid_search.fit(X_train, y_train)"
   ]
  },
  {
   "cell_type": "code",
   "execution_count": 68,
   "id": "c87816bd-acfd-4f1f-8a31-980f4385bd00",
   "metadata": {},
   "outputs": [
    {
     "name": "stdout",
     "output_type": "stream",
     "text": [
      "best_params:{'C': 10} best_score:0.7274193548387096\n"
     ]
    }
   ],
   "source": [
    "print('best_params:{} best_score:{}'.format( grid_search.best_params_ , grid_search.best_score_))"
   ]
  },
  {
   "cell_type": "code",
   "execution_count": 69,
   "id": "21e6a2d2-f068-4447-bcd8-99344d38a492",
   "metadata": {},
   "outputs": [
    {
     "data": {
      "text/plain": [
       "0.6792452830188679"
      ]
     },
     "execution_count": 69,
     "metadata": {},
     "output_type": "execute_result"
    }
   ],
   "source": [
    "grid_search.score(X_test, y_test)"
   ]
  },
  {
   "cell_type": "code",
   "execution_count": 70,
   "id": "2dab68cb-098b-46c7-81c0-e081948be0f6",
   "metadata": {},
   "outputs": [
    {
     "data": {
      "text/html": [
       "<div>\n",
       "<style scoped>\n",
       "    .dataframe tbody tr th:only-of-type {\n",
       "        vertical-align: middle;\n",
       "    }\n",
       "\n",
       "    .dataframe tbody tr th {\n",
       "        vertical-align: top;\n",
       "    }\n",
       "\n",
       "    .dataframe thead th {\n",
       "        text-align: right;\n",
       "    }\n",
       "</style>\n",
       "<table border=\"1\" class=\"dataframe\">\n",
       "  <thead>\n",
       "    <tr style=\"text-align: right;\">\n",
       "      <th></th>\n",
       "      <th>mean_fit_time</th>\n",
       "      <th>std_fit_time</th>\n",
       "      <th>mean_score_time</th>\n",
       "      <th>std_score_time</th>\n",
       "      <th>param_C</th>\n",
       "      <th>params</th>\n",
       "      <th>split0_test_score</th>\n",
       "      <th>split1_test_score</th>\n",
       "      <th>split2_test_score</th>\n",
       "      <th>split3_test_score</th>\n",
       "      <th>...</th>\n",
       "      <th>mean_test_score</th>\n",
       "      <th>std_test_score</th>\n",
       "      <th>rank_test_score</th>\n",
       "      <th>split0_train_score</th>\n",
       "      <th>split1_train_score</th>\n",
       "      <th>split2_train_score</th>\n",
       "      <th>split3_train_score</th>\n",
       "      <th>split4_train_score</th>\n",
       "      <th>mean_train_score</th>\n",
       "      <th>std_train_score</th>\n",
       "    </tr>\n",
       "  </thead>\n",
       "  <tbody>\n",
       "    <tr>\n",
       "      <th>0</th>\n",
       "      <td>0.006130</td>\n",
       "      <td>0.004827</td>\n",
       "      <td>0.000816</td>\n",
       "      <td>0.000410</td>\n",
       "      <td>0.01</td>\n",
       "      <td>{'C': 0.01}</td>\n",
       "      <td>0.68750</td>\n",
       "      <td>0.71875</td>\n",
       "      <td>0.71875</td>\n",
       "      <td>0.709677</td>\n",
       "      <td>...</td>\n",
       "      <td>0.708871</td>\n",
       "      <td>0.011430</td>\n",
       "      <td>4</td>\n",
       "      <td>0.714286</td>\n",
       "      <td>0.706349</td>\n",
       "      <td>0.706349</td>\n",
       "      <td>0.708661</td>\n",
       "      <td>0.708661</td>\n",
       "      <td>0.708861</td>\n",
       "      <td>0.002903</td>\n",
       "    </tr>\n",
       "    <tr>\n",
       "      <th>1</th>\n",
       "      <td>0.008158</td>\n",
       "      <td>0.005220</td>\n",
       "      <td>0.001069</td>\n",
       "      <td>0.000138</td>\n",
       "      <td>0.1</td>\n",
       "      <td>{'C': 0.1}</td>\n",
       "      <td>0.71875</td>\n",
       "      <td>0.71875</td>\n",
       "      <td>0.71875</td>\n",
       "      <td>0.677419</td>\n",
       "      <td>...</td>\n",
       "      <td>0.721573</td>\n",
       "      <td>0.030797</td>\n",
       "      <td>2</td>\n",
       "      <td>0.730159</td>\n",
       "      <td>0.738095</td>\n",
       "      <td>0.738095</td>\n",
       "      <td>0.740157</td>\n",
       "      <td>0.708661</td>\n",
       "      <td>0.731034</td>\n",
       "      <td>0.011698</td>\n",
       "    </tr>\n",
       "    <tr>\n",
       "      <th>2</th>\n",
       "      <td>0.005548</td>\n",
       "      <td>0.002012</td>\n",
       "      <td>0.000598</td>\n",
       "      <td>0.000489</td>\n",
       "      <td>1</td>\n",
       "      <td>{'C': 1}</td>\n",
       "      <td>0.71875</td>\n",
       "      <td>0.68750</td>\n",
       "      <td>0.81250</td>\n",
       "      <td>0.580645</td>\n",
       "      <td>...</td>\n",
       "      <td>0.721169</td>\n",
       "      <td>0.085441</td>\n",
       "      <td>3</td>\n",
       "      <td>0.738095</td>\n",
       "      <td>0.785714</td>\n",
       "      <td>0.730159</td>\n",
       "      <td>0.763780</td>\n",
       "      <td>0.724409</td>\n",
       "      <td>0.748431</td>\n",
       "      <td>0.022993</td>\n",
       "    </tr>\n",
       "    <tr>\n",
       "      <th>3</th>\n",
       "      <td>0.007822</td>\n",
       "      <td>0.009333</td>\n",
       "      <td>0.000215</td>\n",
       "      <td>0.000430</td>\n",
       "      <td>10</td>\n",
       "      <td>{'C': 10}</td>\n",
       "      <td>0.75000</td>\n",
       "      <td>0.68750</td>\n",
       "      <td>0.81250</td>\n",
       "      <td>0.580645</td>\n",
       "      <td>...</td>\n",
       "      <td>0.727419</td>\n",
       "      <td>0.086175</td>\n",
       "      <td>1</td>\n",
       "      <td>0.746032</td>\n",
       "      <td>0.769841</td>\n",
       "      <td>0.730159</td>\n",
       "      <td>0.779528</td>\n",
       "      <td>0.724409</td>\n",
       "      <td>0.749994</td>\n",
       "      <td>0.021586</td>\n",
       "    </tr>\n",
       "    <tr>\n",
       "      <th>4</th>\n",
       "      <td>0.011370</td>\n",
       "      <td>0.007565</td>\n",
       "      <td>0.000417</td>\n",
       "      <td>0.000511</td>\n",
       "      <td>100</td>\n",
       "      <td>{'C': 100}</td>\n",
       "      <td>NaN</td>\n",
       "      <td>0.68750</td>\n",
       "      <td>0.81250</td>\n",
       "      <td>0.580645</td>\n",
       "      <td>...</td>\n",
       "      <td>NaN</td>\n",
       "      <td>NaN</td>\n",
       "      <td>5</td>\n",
       "      <td>NaN</td>\n",
       "      <td>0.769841</td>\n",
       "      <td>0.730159</td>\n",
       "      <td>0.771654</td>\n",
       "      <td>0.724409</td>\n",
       "      <td>NaN</td>\n",
       "      <td>NaN</td>\n",
       "    </tr>\n",
       "  </tbody>\n",
       "</table>\n",
       "<p>5 rows × 21 columns</p>\n",
       "</div>"
      ],
      "text/plain": [
       "   mean_fit_time  std_fit_time  mean_score_time  std_score_time param_C  \\\n",
       "0       0.006130      0.004827         0.000816        0.000410    0.01   \n",
       "1       0.008158      0.005220         0.001069        0.000138     0.1   \n",
       "2       0.005548      0.002012         0.000598        0.000489       1   \n",
       "3       0.007822      0.009333         0.000215        0.000430      10   \n",
       "4       0.011370      0.007565         0.000417        0.000511     100   \n",
       "\n",
       "        params  split0_test_score  split1_test_score  split2_test_score  \\\n",
       "0  {'C': 0.01}            0.68750            0.71875            0.71875   \n",
       "1   {'C': 0.1}            0.71875            0.71875            0.71875   \n",
       "2     {'C': 1}            0.71875            0.68750            0.81250   \n",
       "3    {'C': 10}            0.75000            0.68750            0.81250   \n",
       "4   {'C': 100}                NaN            0.68750            0.81250   \n",
       "\n",
       "   split3_test_score  ...  mean_test_score  std_test_score  rank_test_score  \\\n",
       "0           0.709677  ...         0.708871        0.011430                4   \n",
       "1           0.677419  ...         0.721573        0.030797                2   \n",
       "2           0.580645  ...         0.721169        0.085441                3   \n",
       "3           0.580645  ...         0.727419        0.086175                1   \n",
       "4           0.580645  ...              NaN             NaN                5   \n",
       "\n",
       "   split0_train_score  split1_train_score  split2_train_score  \\\n",
       "0            0.714286            0.706349            0.706349   \n",
       "1            0.730159            0.738095            0.738095   \n",
       "2            0.738095            0.785714            0.730159   \n",
       "3            0.746032            0.769841            0.730159   \n",
       "4                 NaN            0.769841            0.730159   \n",
       "\n",
       "   split3_train_score  split4_train_score  mean_train_score  std_train_score  \n",
       "0            0.708661            0.708661          0.708861         0.002903  \n",
       "1            0.740157            0.708661          0.731034         0.011698  \n",
       "2            0.763780            0.724409          0.748431         0.022993  \n",
       "3            0.779528            0.724409          0.749994         0.021586  \n",
       "4            0.771654            0.724409               NaN              NaN  \n",
       "\n",
       "[5 rows x 21 columns]"
      ]
     },
     "execution_count": 70,
     "metadata": {},
     "output_type": "execute_result"
    }
   ],
   "source": [
    "result_grid = pd.DataFrame(grid_search.cv_results_)\n",
    "result_grid"
   ]
  },
  {
   "cell_type": "code",
   "execution_count": 71,
   "id": "233870b0-6b5d-477e-bcb7-83f747309023",
   "metadata": {},
   "outputs": [
    {
     "data": {
      "text/plain": [
       "<matplotlib.legend.Legend at 0x1f2089c08e0>"
      ]
     },
     "execution_count": 71,
     "metadata": {},
     "output_type": "execute_result"
    },
    {
     "data": {
      "image/png": "[encoded data removed]",
      "text/plain": [
       "<Figure size 432x288 with 1 Axes>"
      ]
     },
     "metadata": {
      "needs_background": "light"
     },
     "output_type": "display_data"
    }
   ],
   "source": [
    "import matplotlib.pyplot as plt\n",
    "plt.plot(result_grid['param_C'],result_grid['mean_train_score'],label= 'Train')\n",
    "plt.plot(result_grid['param_C'],result_grid['mean_test_score'],label= 'Test')\n",
    "plt.legend(loc='best')"
   ]
  },
  {
   "cell_type": "markdown",
   "id": "81e225a7-6300-47cc-aea3-f21eb89f4ea1",
   "metadata": {},
   "source": [
    "- RandomizedSearch"
   ]
  },
  {
   "cell_type": "code",
   "execution_count": 72,
   "id": "dc0d932c-83eb-434d-b11e-e0fc31ddae19",
   "metadata": {},
   "outputs": [],
   "source": [
    "# 랜덤서치를 위한 라이브러리 및 탐색 하이퍼파라미터 설정\n",
    "from sklearn.model_selection import RandomizedSearchCV\n",
    "from scipy.stats import randint\n",
    "param_distribs={'C': randint(low=0.001, high=100)}\n",
    "# LogisticRegression 알고리즘 적용\n",
    "from sklearn.linear_model import LogisticRegression"
   ]
  },
  {
   "cell_type": "code",
   "execution_count": 73,
   "id": "66bb5526-5d78-448e-8f3e-9755ed030eba",
   "metadata": {},
   "outputs": [
    {
     "data": {
      "text/plain": [
       "RandomizedSearchCV(cv=5, error_score=nan,\n",
       "                   estimator=LogisticRegression(C=1.0, class_weight=None,\n",
       "                                                dual=False, fit_intercept=True,\n",
       "                                                intercept_scaling=1,\n",
       "                                                l1_ratio=None, max_iter=100,\n",
       "                                                multi_class='auto', n_jobs=None,\n",
       "                                                penalty='l2', random_state=None,\n",
       "                                                solver='lbfgs', tol=0.0001,\n",
       "                                                verbose=0, warm_start=False),\n",
       "                   iid='deprecated', n_iter=10, n_jobs=None,\n",
       "                   param_distributions={'C': <scipy.stats._distn_infrastructure.rv_frozen object at 0x000001F208DB7D00>},\n",
       "                   pre_dispatch='2*n_jobs', random_state=None, refit=True,\n",
       "                   return_train_score=True, scoring=None, verbose=0)"
      ]
     },
     "execution_count": 73,
     "metadata": {},
     "output_type": "execute_result"
    }
   ],
   "source": [
    "# 랜덤서치를 로지스틱 모델에 적용하여 훈련데이터 학습\n",
    "# 교차검증(cv) 5 설정, 훈련데이터 정확도 결과 제시하기(True)\n",
    "random_search=RandomizedSearchCV(LogisticRegression(), \n",
    "                                 param_distributions=param_distribs, cv=5,\n",
    "                                 # n_iter=100, 랜덤횟수 디폴트=10\n",
    "                                return_train_score=True)\n",
    "random_search.fit(X_train, y_train)"
   ]
  },
  {
   "cell_type": "code",
   "execution_count": 74,
   "id": "5edc658b-d346-4488-9850-dbb2191cba28",
   "metadata": {},
   "outputs": [
    {
     "name": "stdout",
     "output_type": "stream",
     "text": [
      "Best Parameter: {'C': 2}\n",
      "Best Cross-validity Score: 0.727\n"
     ]
    }
   ],
   "source": [
    "# 정확도가 가장 높은 하이퍼파라미터(C) 및 정확도 제시\n",
    "print(\"Best Parameter: {}\".format(random_search.best_params_))\n",
    "print(\"Best Cross-validity Score: {:.3f}\".format(random_search.best_score_))"
   ]
  },
  {
   "cell_type": "code",
   "execution_count": 75,
   "id": "39bf7eb5-23a6-4c8a-a4ed-cb1e99a4794c",
   "metadata": {},
   "outputs": [
    {
     "name": "stdout",
     "output_type": "stream",
     "text": [
      "Test set Score: 0.679\n"
     ]
    }
   ],
   "source": [
    "# 테스트 데이터에 최적 텀색 하이퍼 파라미터 적용 정확도 결과\n",
    "print(\"Test set Score: {:.3f}\".format(random_search.score(X_test, y_test)))"
   ]
  },
  {
   "cell_type": "code",
   "execution_count": 76,
   "id": "37255530-927d-47be-af51-18aa7604bc03",
   "metadata": {},
   "outputs": [
    {
     "data": {
      "text/html": [
       "<div>\n",
       "<style scoped>\n",
       "    .dataframe tbody tr th:only-of-type {\n",
       "        vertical-align: middle;\n",
       "    }\n",
       "\n",
       "    .dataframe tbody tr th {\n",
       "        vertical-align: top;\n",
       "    }\n",
       "\n",
       "    .dataframe thead th {\n",
       "        text-align: right;\n",
       "    }\n",
       "</style>\n",
       "<table border=\"1\" class=\"dataframe\">\n",
       "  <thead>\n",
       "    <tr style=\"text-align: right;\">\n",
       "      <th></th>\n",
       "      <th>mean_fit_time</th>\n",
       "      <th>std_fit_time</th>\n",
       "      <th>mean_score_time</th>\n",
       "      <th>std_score_time</th>\n",
       "      <th>param_C</th>\n",
       "      <th>params</th>\n",
       "      <th>split0_test_score</th>\n",
       "      <th>split1_test_score</th>\n",
       "      <th>split2_test_score</th>\n",
       "      <th>split3_test_score</th>\n",
       "      <th>...</th>\n",
       "      <th>mean_test_score</th>\n",
       "      <th>std_test_score</th>\n",
       "      <th>rank_test_score</th>\n",
       "      <th>split0_train_score</th>\n",
       "      <th>split1_train_score</th>\n",
       "      <th>split2_train_score</th>\n",
       "      <th>split3_train_score</th>\n",
       "      <th>split4_train_score</th>\n",
       "      <th>mean_train_score</th>\n",
       "      <th>std_train_score</th>\n",
       "    </tr>\n",
       "  </thead>\n",
       "  <tbody>\n",
       "    <tr>\n",
       "      <th>0</th>\n",
       "      <td>0.010990</td>\n",
       "      <td>0.005389</td>\n",
       "      <td>0.000799</td>\n",
       "      <td>0.000399</td>\n",
       "      <td>2</td>\n",
       "      <td>{'C': 2}</td>\n",
       "      <td>0.75</td>\n",
       "      <td>0.6875</td>\n",
       "      <td>0.8125</td>\n",
       "      <td>0.580645</td>\n",
       "      <td>...</td>\n",
       "      <td>0.727419</td>\n",
       "      <td>0.086175</td>\n",
       "      <td>1</td>\n",
       "      <td>0.738095</td>\n",
       "      <td>0.761905</td>\n",
       "      <td>0.730159</td>\n",
       "      <td>0.779528</td>\n",
       "      <td>0.724409</td>\n",
       "      <td>0.746819</td>\n",
       "      <td>0.020752</td>\n",
       "    </tr>\n",
       "    <tr>\n",
       "      <th>1</th>\n",
       "      <td>0.015452</td>\n",
       "      <td>0.019675</td>\n",
       "      <td>0.003132</td>\n",
       "      <td>0.006264</td>\n",
       "      <td>97</td>\n",
       "      <td>{'C': 97}</td>\n",
       "      <td>NaN</td>\n",
       "      <td>0.6875</td>\n",
       "      <td>0.8125</td>\n",
       "      <td>0.580645</td>\n",
       "      <td>...</td>\n",
       "      <td>NaN</td>\n",
       "      <td>NaN</td>\n",
       "      <td>8</td>\n",
       "      <td>NaN</td>\n",
       "      <td>0.769841</td>\n",
       "      <td>0.730159</td>\n",
       "      <td>0.771654</td>\n",
       "      <td>NaN</td>\n",
       "      <td>NaN</td>\n",
       "      <td>NaN</td>\n",
       "    </tr>\n",
       "    <tr>\n",
       "      <th>2</th>\n",
       "      <td>0.007595</td>\n",
       "      <td>0.007310</td>\n",
       "      <td>0.000000</td>\n",
       "      <td>0.000000</td>\n",
       "      <td>80</td>\n",
       "      <td>{'C': 80}</td>\n",
       "      <td>0.75</td>\n",
       "      <td>0.6875</td>\n",
       "      <td>0.8125</td>\n",
       "      <td>0.580645</td>\n",
       "      <td>...</td>\n",
       "      <td>0.727419</td>\n",
       "      <td>0.086175</td>\n",
       "      <td>1</td>\n",
       "      <td>0.746032</td>\n",
       "      <td>0.769841</td>\n",
       "      <td>0.730159</td>\n",
       "      <td>0.771654</td>\n",
       "      <td>0.724409</td>\n",
       "      <td>0.748419</td>\n",
       "      <td>0.019567</td>\n",
       "    </tr>\n",
       "    <tr>\n",
       "      <th>3</th>\n",
       "      <td>0.007488</td>\n",
       "      <td>0.009353</td>\n",
       "      <td>0.003370</td>\n",
       "      <td>0.006252</td>\n",
       "      <td>21</td>\n",
       "      <td>{'C': 21}</td>\n",
       "      <td>0.75</td>\n",
       "      <td>0.6875</td>\n",
       "      <td>0.8125</td>\n",
       "      <td>0.580645</td>\n",
       "      <td>...</td>\n",
       "      <td>0.727419</td>\n",
       "      <td>0.086175</td>\n",
       "      <td>1</td>\n",
       "      <td>0.746032</td>\n",
       "      <td>0.769841</td>\n",
       "      <td>0.730159</td>\n",
       "      <td>0.771654</td>\n",
       "      <td>0.724409</td>\n",
       "      <td>0.748419</td>\n",
       "      <td>0.019567</td>\n",
       "    </tr>\n",
       "    <tr>\n",
       "      <th>4</th>\n",
       "      <td>0.008548</td>\n",
       "      <td>0.004663</td>\n",
       "      <td>0.000599</td>\n",
       "      <td>0.000489</td>\n",
       "      <td>9</td>\n",
       "      <td>{'C': 9}</td>\n",
       "      <td>0.75</td>\n",
       "      <td>0.6875</td>\n",
       "      <td>0.8125</td>\n",
       "      <td>0.580645</td>\n",
       "      <td>...</td>\n",
       "      <td>0.727419</td>\n",
       "      <td>0.086175</td>\n",
       "      <td>1</td>\n",
       "      <td>0.746032</td>\n",
       "      <td>0.769841</td>\n",
       "      <td>0.730159</td>\n",
       "      <td>0.779528</td>\n",
       "      <td>0.724409</td>\n",
       "      <td>0.749994</td>\n",
       "      <td>0.021586</td>\n",
       "    </tr>\n",
       "    <tr>\n",
       "      <th>5</th>\n",
       "      <td>0.009416</td>\n",
       "      <td>0.007688</td>\n",
       "      <td>0.000000</td>\n",
       "      <td>0.000000</td>\n",
       "      <td>13</td>\n",
       "      <td>{'C': 13}</td>\n",
       "      <td>0.75</td>\n",
       "      <td>0.6875</td>\n",
       "      <td>0.8125</td>\n",
       "      <td>0.580645</td>\n",
       "      <td>...</td>\n",
       "      <td>0.727419</td>\n",
       "      <td>0.086175</td>\n",
       "      <td>1</td>\n",
       "      <td>0.746032</td>\n",
       "      <td>0.769841</td>\n",
       "      <td>0.730159</td>\n",
       "      <td>0.779528</td>\n",
       "      <td>0.724409</td>\n",
       "      <td>0.749994</td>\n",
       "      <td>0.021586</td>\n",
       "    </tr>\n",
       "    <tr>\n",
       "      <th>6</th>\n",
       "      <td>0.006851</td>\n",
       "      <td>0.008444</td>\n",
       "      <td>0.000000</td>\n",
       "      <td>0.000000</td>\n",
       "      <td>68</td>\n",
       "      <td>{'C': 68}</td>\n",
       "      <td>NaN</td>\n",
       "      <td>NaN</td>\n",
       "      <td>0.8125</td>\n",
       "      <td>0.580645</td>\n",
       "      <td>...</td>\n",
       "      <td>NaN</td>\n",
       "      <td>NaN</td>\n",
       "      <td>9</td>\n",
       "      <td>NaN</td>\n",
       "      <td>NaN</td>\n",
       "      <td>0.730159</td>\n",
       "      <td>0.771654</td>\n",
       "      <td>0.724409</td>\n",
       "      <td>NaN</td>\n",
       "      <td>NaN</td>\n",
       "    </tr>\n",
       "    <tr>\n",
       "      <th>7</th>\n",
       "      <td>0.009374</td>\n",
       "      <td>0.007654</td>\n",
       "      <td>0.000000</td>\n",
       "      <td>0.000000</td>\n",
       "      <td>33</td>\n",
       "      <td>{'C': 33}</td>\n",
       "      <td>0.75</td>\n",
       "      <td>0.6875</td>\n",
       "      <td>0.8125</td>\n",
       "      <td>0.580645</td>\n",
       "      <td>...</td>\n",
       "      <td>0.727419</td>\n",
       "      <td>0.086175</td>\n",
       "      <td>1</td>\n",
       "      <td>0.746032</td>\n",
       "      <td>0.769841</td>\n",
       "      <td>0.730159</td>\n",
       "      <td>0.771654</td>\n",
       "      <td>0.724409</td>\n",
       "      <td>0.748419</td>\n",
       "      <td>0.019567</td>\n",
       "    </tr>\n",
       "    <tr>\n",
       "      <th>8</th>\n",
       "      <td>0.014645</td>\n",
       "      <td>0.004546</td>\n",
       "      <td>0.000199</td>\n",
       "      <td>0.000398</td>\n",
       "      <td>87</td>\n",
       "      <td>{'C': 87}</td>\n",
       "      <td>0.75</td>\n",
       "      <td>0.6875</td>\n",
       "      <td>0.8125</td>\n",
       "      <td>0.580645</td>\n",
       "      <td>...</td>\n",
       "      <td>NaN</td>\n",
       "      <td>NaN</td>\n",
       "      <td>10</td>\n",
       "      <td>0.746032</td>\n",
       "      <td>0.769841</td>\n",
       "      <td>0.730159</td>\n",
       "      <td>0.771654</td>\n",
       "      <td>NaN</td>\n",
       "      <td>NaN</td>\n",
       "      <td>NaN</td>\n",
       "    </tr>\n",
       "    <tr>\n",
       "      <th>9</th>\n",
       "      <td>0.007740</td>\n",
       "      <td>0.001118</td>\n",
       "      <td>0.000812</td>\n",
       "      <td>0.000383</td>\n",
       "      <td>2</td>\n",
       "      <td>{'C': 2}</td>\n",
       "      <td>0.75</td>\n",
       "      <td>0.6875</td>\n",
       "      <td>0.8125</td>\n",
       "      <td>0.580645</td>\n",
       "      <td>...</td>\n",
       "      <td>0.727419</td>\n",
       "      <td>0.086175</td>\n",
       "      <td>1</td>\n",
       "      <td>0.738095</td>\n",
       "      <td>0.761905</td>\n",
       "      <td>0.730159</td>\n",
       "      <td>0.779528</td>\n",
       "      <td>0.724409</td>\n",
       "      <td>0.746819</td>\n",
       "      <td>0.020752</td>\n",
       "    </tr>\n",
       "  </tbody>\n",
       "</table>\n",
       "<p>10 rows × 21 columns</p>\n",
       "</div>"
      ],
      "text/plain": [
       "   mean_fit_time  std_fit_time  mean_score_time  std_score_time param_C  \\\n",
       "0       0.010990      0.005389         0.000799        0.000399       2   \n",
       "1       0.015452      0.019675         0.003132        0.006264      97   \n",
       "2       0.007595      0.007310         0.000000        0.000000      80   \n",
       "3       0.007488      0.009353         0.003370        0.006252      21   \n",
       "4       0.008548      0.004663         0.000599        0.000489       9   \n",
       "5       0.009416      0.007688         0.000000        0.000000      13   \n",
       "6       0.006851      0.008444         0.000000        0.000000      68   \n",
       "7       0.009374      0.007654         0.000000        0.000000      33   \n",
       "8       0.014645      0.004546         0.000199        0.000398      87   \n",
       "9       0.007740      0.001118         0.000812        0.000383       2   \n",
       "\n",
       "      params  split0_test_score  split1_test_score  split2_test_score  \\\n",
       "0   {'C': 2}               0.75             0.6875             0.8125   \n",
       "1  {'C': 97}                NaN             0.6875             0.8125   \n",
       "2  {'C': 80}               0.75             0.6875             0.8125   \n",
       "3  {'C': 21}               0.75             0.6875             0.8125   \n",
       "4   {'C': 9}               0.75             0.6875             0.8125   \n",
       "5  {'C': 13}               0.75             0.6875             0.8125   \n",
       "6  {'C': 68}                NaN                NaN             0.8125   \n",
       "7  {'C': 33}               0.75             0.6875             0.8125   \n",
       "8  {'C': 87}               0.75             0.6875             0.8125   \n",
       "9   {'C': 2}               0.75             0.6875             0.8125   \n",
       "\n",
       "   split3_test_score  ...  mean_test_score  std_test_score  rank_test_score  \\\n",
       "0           0.580645  ...         0.727419        0.086175                1   \n",
       "1           0.580645  ...              NaN             NaN                8   \n",
       "2           0.580645  ...         0.727419        0.086175                1   \n",
       "3           0.580645  ...         0.727419        0.086175                1   \n",
       "4           0.580645  ...         0.727419        0.086175                1   \n",
       "5           0.580645  ...         0.727419        0.086175                1   \n",
       "6           0.580645  ...              NaN             NaN                9   \n",
       "7           0.580645  ...         0.727419        0.086175                1   \n",
       "8           0.580645  ...              NaN             NaN               10   \n",
       "9           0.580645  ...         0.727419        0.086175                1   \n",
       "\n",
       "   split0_train_score  split1_train_score  split2_train_score  \\\n",
       "0            0.738095            0.761905            0.730159   \n",
       "1                 NaN            0.769841            0.730159   \n",
       "2            0.746032            0.769841            0.730159   \n",
       "3            0.746032            0.769841            0.730159   \n",
       "4            0.746032            0.769841            0.730159   \n",
       "5            0.746032            0.769841            0.730159   \n",
       "6                 NaN                 NaN            0.730159   \n",
       "7            0.746032            0.769841            0.730159   \n",
       "8            0.746032            0.769841            0.730159   \n",
       "9            0.738095            0.761905            0.730159   \n",
       "\n",
       "   split3_train_score  split4_train_score  mean_train_score  std_train_score  \n",
       "0            0.779528            0.724409          0.746819         0.020752  \n",
       "1            0.771654                 NaN               NaN              NaN  \n",
       "2            0.771654            0.724409          0.748419         0.019567  \n",
       "3            0.771654            0.724409          0.748419         0.019567  \n",
       "4            0.779528            0.724409          0.749994         0.021586  \n",
       "5            0.779528            0.724409          0.749994         0.021586  \n",
       "6            0.771654            0.724409               NaN              NaN  \n",
       "7            0.771654            0.724409          0.748419         0.019567  \n",
       "8            0.771654                 NaN               NaN              NaN  \n",
       "9            0.779528            0.724409          0.746819         0.020752  \n",
       "\n",
       "[10 rows x 21 columns]"
      ]
     },
     "execution_count": 76,
     "metadata": {},
     "output_type": "execute_result"
    }
   ],
   "source": [
    "# 랜덤서치 하이퍼파라미터별 상세 결과값\n",
    "result_random = random_search.cv_results_\n",
    "pd.DataFrame(result_random)"
   ]
  },
  {
   "cell_type": "code",
   "execution_count": 77,
   "id": "0a9e8243-37f0-4a36-8510-1bb17f7607f2",
   "metadata": {},
   "outputs": [
    {
     "data": {
      "text/plain": [
       "<matplotlib.legend.Legend at 0x1f2084c2340>"
      ]
     },
     "execution_count": 77,
     "metadata": {},
     "output_type": "execute_result"
    },
    {
     "data": {
      "image/png": "[encoded data removed]",
      "text/plain": [
       "<Figure size 432x288 with 1 Axes>"
      ]
     },
     "metadata": {
      "needs_background": "light"
     },
     "output_type": "display_data"
    }
   ],
   "source": [
    "# 하이퍼파리미터(C)값에 따른 훈련데이터와 테스트데이터의 정확도(accuracy) 그래프\n",
    "import matplotlib.pyplot as plt\n",
    "plt.plot(result_grid['param_C'], result_grid['mean_train_score'], label=\"Train\")\n",
    "plt.plot(result_grid['param_C'], result_grid['mean_test_score'], label=\"Test\")\n",
    "plt.legend()"
   ]
  },
  {
   "cell_type": "markdown",
   "id": "e0652ba8-0a92-4613-9db7-b9c53e300794",
   "metadata": {},
   "source": [
    "##\n",
    "### 5. 모델평가"
   ]
  },
  {
   "cell_type": "code",
   "execution_count": 78,
   "id": "724c5fbe-ae2e-4455-8c85-bbe2bf212aa4",
   "metadata": {},
   "outputs": [
    {
     "data": {
      "text/plain": [
       "LogisticRegression(C=10, class_weight=None, dual=False, fit_intercept=True,\n",
       "                   intercept_scaling=1, l1_ratio=None, max_iter=100,\n",
       "                   multi_class='auto', n_jobs=None, penalty='l2',\n",
       "                   random_state=None, solver='lbfgs', tol=0.0001, verbose=0,\n",
       "                   warm_start=False)"
      ]
     },
     "execution_count": 78,
     "metadata": {},
     "output_type": "execute_result"
    }
   ],
   "source": [
    "# 모델탐색 결과, 최적의 하이퍼파리미터 결정 및 적용 (예: C=10)\n",
    "Final_model=LogisticRegression(C=10)\n",
    "Final_model.fit(X_train, y_train)"
   ]
  },
  {
   "cell_type": "code",
   "execution_count": 79,
   "id": "b1e73889-d3fb-4e21-8584-9590fdf5efe9",
   "metadata": {},
   "outputs": [
    {
     "data": {
      "text/plain": [
       "0.740506329113924"
      ]
     },
     "execution_count": 79,
     "metadata": {},
     "output_type": "execute_result"
    }
   ],
   "source": [
    "pred_train = Final_model.predict(X_train)\n",
    "Final_model.score(X_train, y_train)"
   ]
  },
  {
   "cell_type": "code",
   "execution_count": 80,
   "id": "e53f9b67-ef5a-41a6-85c2-062206bd64e4",
   "metadata": {},
   "outputs": [
    {
     "data": {
      "text/plain": [
       "0.6792452830188679"
      ]
     },
     "execution_count": 80,
     "metadata": {},
     "output_type": "execute_result"
    }
   ],
   "source": [
    "pred_test = Final_model.predict(X_test)\n",
    "Final_model.score(X_test, y_test)"
   ]
  },
  {
   "cell_type": "code",
   "execution_count": 81,
   "id": "bc250d1c-067f-4708-a10b-cbf9b678ce99",
   "metadata": {},
   "outputs": [
    {
     "name": "stdout",
     "output_type": "stream",
     "text": [
      "훈련데이터 오차행렬:\n",
      " [[ 12  34]\n",
      " [  7 105]]\n"
     ]
    }
   ],
   "source": [
    "# 훈련데이터의 혼동행렬 \n",
    "from sklearn.metrics import confusion_matrix\n",
    "confusion_train=confusion_matrix(y_train, pred_train)\n",
    "print(\"훈련데이터 오차행렬:\\n\", confusion_train)"
   ]
  },
  {
   "cell_type": "code",
   "execution_count": 82,
   "id": "d2a6ee5f-a262-4f8c-a8a3-7c427cb98214",
   "metadata": {},
   "outputs": [
    {
     "name": "stdout",
     "output_type": "stream",
     "text": [
      "분류예측 레포트:\n",
      "               precision    recall  f1-score   support\n",
      "\n",
      "           0       0.63      0.26      0.37        46\n",
      "           1       0.76      0.94      0.84       112\n",
      "\n",
      "    accuracy                           0.74       158\n",
      "   macro avg       0.69      0.60      0.60       158\n",
      "weighted avg       0.72      0.74      0.70       158\n",
      "\n"
     ]
    }
   ],
   "source": [
    "# 훈련데이터의 분류 모델 평가 결과\n",
    "from sklearn.metrics import classification_report\n",
    "cfreport_train=classification_report(y_train, pred_train)\n",
    "print(\"분류예측 레포트:\\n\", cfreport_train)"
   ]
  },
  {
   "cell_type": "code",
   "execution_count": 83,
   "id": "bf35997e-234a-4994-9139-d9c736a519bd",
   "metadata": {},
   "outputs": [
    {
     "name": "stdout",
     "output_type": "stream",
     "text": [
      "테스트데이터 오차행렬:\n",
      " [[ 3 12]\n",
      " [ 5 33]]\n"
     ]
    }
   ],
   "source": [
    "# 테스트데이터의 정확도(accuracy) 결과\n",
    "confusion_test=confusion_matrix(y_test, pred_test)\n",
    "print(\"테스트데이터 오차행렬:\\n\", confusion_test)"
   ]
  },
  {
   "cell_type": "code",
   "execution_count": 84,
   "id": "c196d5af-6aab-43b2-91b2-34a9d5b17448",
   "metadata": {},
   "outputs": [
    {
     "name": "stdout",
     "output_type": "stream",
     "text": [
      "분류예측 레포트:\n",
      "               precision    recall  f1-score   support\n",
      "\n",
      "           0       0.38      0.20      0.26        15\n",
      "           1       0.73      0.87      0.80        38\n",
      "\n",
      "    accuracy                           0.68        53\n",
      "   macro avg       0.55      0.53      0.53        53\n",
      "weighted avg       0.63      0.68      0.64        53\n",
      "\n"
     ]
    }
   ],
   "source": [
    "cfreport_test = classification_report(y_test, pred_test)\n",
    "print(\"분류예측 레포트:\\n\", cfreport_test)"
   ]
  },
  {
   "cell_type": "code",
   "execution_count": 85,
   "id": "210dd632-734f-4243-b80f-edadb0e0cbbe",
   "metadata": {},
   "outputs": [
    {
     "data": {
      "text/plain": [
       "0.6350877192982456"
      ]
     },
     "execution_count": 85,
     "metadata": {},
     "output_type": "execute_result"
    }
   ],
   "source": [
    "# ROC 계산을 위한 라이브러리 및 산출식\n",
    "from sklearn.metrics import roc_curve, auc\n",
    "from sklearn import metrics\n",
    "false_positive_rate, true_positive_rate, thresholds = roc_curve(y_test, Final_model.decision_function(X_test))\n",
    "roc_auc = metrics.roc_auc_score(y_test, Final_model.decision_function(X_test))\n",
    "roc_auc\n"
   ]
  },
  {
   "cell_type": "code",
   "execution_count": 86,
   "id": "f9bb3dac-7a48-44af-9d00-a01210e5f9d3",
   "metadata": {},
   "outputs": [
    {
     "data": {
      "image/png": "[encoded data removed]",
      "text/plain": [
       "<Figure size 432x288 with 1 Axes>"
      ]
     },
     "metadata": {
      "needs_background": "light"
     },
     "output_type": "display_data"
    }
   ],
   "source": [
    "# ROC Curve 작성\n",
    "import matplotlib.pyplot as plt\n",
    "plt.title('Receiver Operating Characteristic')\n",
    "plt.xlabel('False Positive Rate(1 - Specificity)')\n",
    "plt.ylabel('True Positive Rate(Sensitivity)')\n",
    "\n",
    "plt.plot(false_positive_rate, true_positive_rate, 'b', label='Model (AUC = %0.2f)'% roc_auc)\n",
    "plt.plot([0,1],[1,1],'y--')\n",
    "plt.plot([0,1],[0,1],'r--')\n",
    "\n",
    "plt.legend(loc='lower right')\n",
    "plt.show()"
   ]
  },
  {
   "cell_type": "markdown",
   "id": "225780ab-5c01-4b64-9162-05f74a249855",
   "metadata": {},
   "source": [
    "##\n",
    "### 6. 다중분류"
   ]
  },
  {
   "cell_type": "code",
   "execution_count": 1,
   "id": "45d62203-7688-4c5b-87e2-0c1ed0f615bb",
   "metadata": {},
   "outputs": [],
   "source": [
    "# 분석 데이터 불러오기\n",
    "import warnings\n",
    "warnings.filterwarnings(\"ignore\")\n",
    "import pandas as pd\n",
    "data = pd.read_csv(\"C:\\\\Users\\\\user\\\\빅분기 실기\\\\[1]BigData_data_최종본(0910)\\\\Fvote.csv\", encoding='utf-8')"
   ]
  },
  {
   "cell_type": "code",
   "execution_count": 2,
   "id": "34bc3ced-d6f9-4083-9b23-563bee05a984",
   "metadata": {},
   "outputs": [],
   "source": [
    "# 특성치와 레이블 데이터셋 구분\n",
    "X=data[data.columns[0:13]]\n",
    "y=data[['parties']]"
   ]
  },
  {
   "cell_type": "code",
   "execution_count": 3,
   "id": "b084f9e6-2ac0-4fe4-98ff-5648c227d566",
   "metadata": {},
   "outputs": [],
   "source": [
    "# 훈련 데이터, 테스트 데이터 분할\n",
    "from sklearn.model_selection import train_test_split\n",
    "X_train, X_test, y_train, y_test=train_test_split(X, y, stratify=y, random_state=42 )"
   ]
  },
  {
   "cell_type": "code",
   "execution_count": 4,
   "id": "58d1cc27-d476-49ec-9d0f-ea9aa657f5cc",
   "metadata": {},
   "outputs": [
    {
     "data": {
      "text/html": [
       "<div>\n",
       "<style scoped>\n",
       "    .dataframe tbody tr th:only-of-type {\n",
       "        vertical-align: middle;\n",
       "    }\n",
       "\n",
       "    .dataframe tbody tr th {\n",
       "        vertical-align: top;\n",
       "    }\n",
       "\n",
       "    .dataframe thead th {\n",
       "        text-align: right;\n",
       "    }\n",
       "</style>\n",
       "<table border=\"1\" class=\"dataframe\">\n",
       "  <thead>\n",
       "    <tr style=\"text-align: right;\">\n",
       "      <th></th>\n",
       "      <th>parties</th>\n",
       "    </tr>\n",
       "  </thead>\n",
       "  <tbody>\n",
       "    <tr>\n",
       "      <th>37</th>\n",
       "      <td>4</td>\n",
       "    </tr>\n",
       "    <tr>\n",
       "      <th>63</th>\n",
       "      <td>4</td>\n",
       "    </tr>\n",
       "    <tr>\n",
       "      <th>132</th>\n",
       "      <td>2</td>\n",
       "    </tr>\n",
       "    <tr>\n",
       "      <th>87</th>\n",
       "      <td>4</td>\n",
       "    </tr>\n",
       "    <tr>\n",
       "      <th>23</th>\n",
       "      <td>4</td>\n",
       "    </tr>\n",
       "    <tr>\n",
       "      <th>...</th>\n",
       "      <td>...</td>\n",
       "    </tr>\n",
       "    <tr>\n",
       "      <th>139</th>\n",
       "      <td>2</td>\n",
       "    </tr>\n",
       "    <tr>\n",
       "      <th>20</th>\n",
       "      <td>2</td>\n",
       "    </tr>\n",
       "    <tr>\n",
       "      <th>143</th>\n",
       "      <td>4</td>\n",
       "    </tr>\n",
       "    <tr>\n",
       "      <th>115</th>\n",
       "      <td>4</td>\n",
       "    </tr>\n",
       "    <tr>\n",
       "      <th>151</th>\n",
       "      <td>4</td>\n",
       "    </tr>\n",
       "  </tbody>\n",
       "</table>\n",
       "<p>158 rows × 1 columns</p>\n",
       "</div>"
      ],
      "text/plain": [
       "     parties\n",
       "37         4\n",
       "63         4\n",
       "132        2\n",
       "87         4\n",
       "23         4\n",
       "..       ...\n",
       "139        2\n",
       "20         2\n",
       "143        4\n",
       "115        4\n",
       "151        4\n",
       "\n",
       "[158 rows x 1 columns]"
      ]
     },
     "execution_count": 4,
     "metadata": {},
     "output_type": "execute_result"
    }
   ],
   "source": [
    "y_train"
   ]
  },
  {
   "cell_type": "code",
   "execution_count": 5,
   "id": "dcf832b4-c48f-4e66-b584-215395f89c0b",
   "metadata": {},
   "outputs": [
    {
     "data": {
      "text/plain": [
       "LogisticRegression(solver='newton-cg')"
      ]
     },
     "execution_count": 5,
     "metadata": {},
     "output_type": "execute_result"
    }
   ],
   "source": [
    "# ML 알고리즘 모듈 불러오기 및 학습데이터에 적용(LogisticRegression)\n",
    "from sklearn.linear_model import LogisticRegression\n",
    "model=LogisticRegression(solver='newton-cg') #'liblinear', 'newton-cg', 'lbfgs' 멀티클래스 분류 / 'sag', 'saga' 확률적경사기법 대용량 데이터\n",
    "model.fit(X_train, y_train)"
   ]
  },
  {
   "cell_type": "code",
   "execution_count": 6,
   "id": "1210670d-9765-4a84-9ce2-187e22c56658",
   "metadata": {},
   "outputs": [
    {
     "data": {
      "text/plain": [
       "0.6012658227848101"
      ]
     },
     "execution_count": 6,
     "metadata": {},
     "output_type": "execute_result"
    }
   ],
   "source": [
    "pred_train= model.predict(X_train)\n",
    "model.score(X_train, y_train)"
   ]
  },
  {
   "cell_type": "code",
   "execution_count": 7,
   "id": "3e04a76a-379a-47a9-ae43-1a20c4160931",
   "metadata": {},
   "outputs": [
    {
     "data": {
      "text/plain": [
       "0.5471698113207547"
      ]
     },
     "execution_count": 7,
     "metadata": {},
     "output_type": "execute_result"
    }
   ],
   "source": [
    "pred_test= model.predict(X_test)\n",
    "model.score(X_test, y_test)"
   ]
  },
  {
   "cell_type": "code",
   "execution_count": 8,
   "id": "0e08868d-897a-4c7d-a932-3e728f5a74b9",
   "metadata": {},
   "outputs": [
    {
     "name": "stdout",
     "output_type": "stream",
     "text": [
      "[19  2  3 13] 0.5135135135135135\n",
      "[ 1 25  2 12] 0.625\n",
      "[6 2 5 6] 0.2631578947368421\n",
      "[ 7  8  1 46] 0.7419354838709677\n"
     ]
    }
   ],
   "source": [
    "from sklearn.metrics import confusion_matrix\n",
    "confusion = confusion_matrix(y_train,pred_train)\n",
    "for i in range(len(confusion)) :\n",
    "    print(confusion[i],confusion[i][i]/confusion[i].sum())"
   ]
  },
  {
   "cell_type": "code",
   "execution_count": 9,
   "id": "756586ea-0b66-42c1-bcc3-19bc4f3acb9b",
   "metadata": {},
   "outputs": [
    {
     "name": "stdout",
     "output_type": "stream",
     "text": [
      "[7 2 1 3] 0.5384615384615384\n",
      "[1 9 1 2] 0.6923076923076923\n",
      "[1 2 1 2] 0.16666666666666666\n",
      "[ 2  5  2 12] 0.5714285714285714\n"
     ]
    }
   ],
   "source": [
    "confusion_test= confusion_matrix(y_test,pred_test)\n",
    "for i in range(len(confusion_test)) :\n",
    "    print(confusion_test[i],confusion_test[i][i]/confusion_test[i].sum())"
   ]
  },
  {
   "cell_type": "markdown",
   "id": "b113cfe0-cca3-4e26-beec-9fff5ee52b95",
   "metadata": {},
   "source": [
    "## 하이퍼 파라미터 서치"
   ]
  },
  {
   "cell_type": "code",
   "execution_count": 12,
   "id": "5597a454-f192-49e0-b7e1-bd52c72ee246",
   "metadata": {},
   "outputs": [
    {
     "data": {
      "text/plain": [
       "GridSearchCV(cv=5, estimator=LogisticRegression(solver='newton-cg'),\n",
       "             param_grid={'C': [0.001, 0.01, 0.1, 1, 10, 100]},\n",
       "             return_train_score=True)"
      ]
     },
     "execution_count": 12,
     "metadata": {},
     "output_type": "execute_result"
    }
   ],
   "source": [
    "from sklearn.model_selection import GridSearchCV\n",
    "param_grid = {'C':[0.001, 0.01,0.1,1,10,100]}\n",
    "grid_search =GridSearchCV( LogisticRegression(solver='newton-cg'), param_grid,cv=5,return_train_score=True )\n",
    "grid_search.fit(X_train,y_train)"
   ]
  },
  {
   "cell_type": "code",
   "execution_count": 13,
   "id": "85b973b3-ef39-4a38-ae2f-2756e56c677c",
   "metadata": {},
   "outputs": [
    {
     "name": "stdout",
     "output_type": "stream",
     "text": [
      "Best Parameter: {'C': 0.1}\n",
      "Best Cross-validity Score: 0.556\n"
     ]
    }
   ],
   "source": [
    "# 정확도가 가장 높은 하이퍼파라미터(C) 및 정확도 제시\n",
    "print(\"Best Parameter: {}\".format(grid_search.best_params_))\n",
    "print(\"Best Cross-validity Score: {:.3f}\".format(grid_search.best_score_))"
   ]
  },
  {
   "cell_type": "code",
   "execution_count": 14,
   "id": "784560d1-1987-4166-811f-d572fdc15b9e",
   "metadata": {},
   "outputs": [
    {
     "name": "stdout",
     "output_type": "stream",
     "text": [
      "Test set Score: 0.547\n"
     ]
    }
   ],
   "source": [
    "# 테스트 데이터에 적용(C=10), 정확도 결과\n",
    "print(\"Test set Score: {:.3f}\".format(grid_search.score(X_test, y_test)))"
   ]
  },
  {
   "cell_type": "code",
   "execution_count": 15,
   "id": "ffdc7029-8b8f-4712-b5d8-a14a2ee11cea",
   "metadata": {},
   "outputs": [],
   "source": [
    "# 랜덤서치를 위한 라이브러리 및 탐색 하이퍼파라미터 설정\n",
    "from sklearn.model_selection import RandomizedSearchCV\n",
    "from scipy.stats import randint\n",
    "param_distribs={'C': randint(low=0.001, high=100)}"
   ]
  },
  {
   "cell_type": "code",
   "execution_count": 16,
   "id": "50bdc035-a899-4166-8366-b83239004fb9",
   "metadata": {},
   "outputs": [
    {
     "data": {
      "text/plain": [
       "RandomizedSearchCV(cv=5, estimator=LogisticRegression(solver='newton-cg'),\n",
       "                   n_iter=100,\n",
       "                   param_distributions={'C': <scipy.stats._distn_infrastructure.rv_frozen object at 0x00000229FCFEB820>},\n",
       "                   return_train_score=True)"
      ]
     },
     "execution_count": 16,
     "metadata": {},
     "output_type": "execute_result"
    }
   ],
   "source": [
    "# 랜덤서치를 로지스틱 모델에 적용하여 훈련데이터 학습\n",
    "# 교차검증(cv) 5 설정, 훈련데이터 정확도 결과 제시하기(True)\n",
    "random_search=RandomizedSearchCV(LogisticRegression(solver='newton-cg'), \n",
    "                                 param_distributions=param_distribs, cv=5,\n",
    "                                 n_iter=100,\n",
    "                                return_train_score=True)\n",
    "random_search.fit(X_train, y_train)"
   ]
  },
  {
   "cell_type": "code",
   "execution_count": 17,
   "id": "8348c332-8f46-43d8-9209-76503a404472",
   "metadata": {},
   "outputs": [
    {
     "name": "stdout",
     "output_type": "stream",
     "text": [
      "Best Parameter: {'C': 2}\n",
      "Best Cross-validity Score: 0.544\n"
     ]
    }
   ],
   "source": [
    "# 정확도가 가장 높은 하이퍼파라미터(C) 및 정확도 제시\n",
    "print(\"Best Parameter: {}\".format(random_search.best_params_))\n",
    "print(\"Best Cross-validity Score: {:.3f}\".format(random_search.best_score_))"
   ]
  },
  {
   "cell_type": "code",
   "execution_count": 18,
   "id": "fc4c19ae-33c5-4da0-a9c9-dc9d9ad4a593",
   "metadata": {},
   "outputs": [
    {
     "name": "stdout",
     "output_type": "stream",
     "text": [
      "Test set Score: 0.509\n"
     ]
    }
   ],
   "source": [
    "# 테스트 데이터에 최적 텀색 하이퍼 파라미터 적용 정확도 결과\n",
    "print(\"Test set Score: {:.3f}\".format(random_search.score(X_test, y_test)))"
   ]
  },
  {
   "cell_type": "code",
   "execution_count": null,
   "id": "38ff8f7b-eaf8-48bf-8d31-c35208595e32",
   "metadata": {},
   "outputs": [],
   "source": []
  },
  {
   "cell_type": "markdown",
   "id": "525c94b8-dd51-472d-a3b3-f4174633cba1",
   "metadata": {},
   "source": [
    "혼자 검증"
   ]
  },
  {
   "cell_type": "code",
   "execution_count": null,
   "id": "ba16e4db-59d1-4bbb-a775-e2b5ffe749d5",
   "metadata": {},
   "outputs": [],
   "source": []
  },
  {
   "cell_type": "code",
   "execution_count": 31,
   "id": "e4977c80-3a89-4f19-a810-68ea384ed336",
   "metadata": {},
   "outputs": [
    {
     "data": {
      "text/plain": [
       "0.6075949367088608"
      ]
     },
     "execution_count": 31,
     "metadata": {},
     "output_type": "execute_result"
    }
   ],
   "source": [
    "best_model=LogisticRegression(C=0.1, solver='newton-cg') #'liblinear', 'newton-cg', 'lbfgs' 멀티클래스 분류 / 'sag', 'saga' 확률적경사기법 대용량 데이터\n",
    "best_model.fit(X_train, y_train)\n",
    "pred_train_b= best_model.predict(X_train)\n",
    "best_model.score(X_train, y_train)"
   ]
  },
  {
   "cell_type": "code",
   "execution_count": 32,
   "id": "f8a62873-e5f0-4b1e-b24b-af38495d7c77",
   "metadata": {},
   "outputs": [
    {
     "data": {
      "text/plain": [
       "0.5471698113207547"
      ]
     },
     "execution_count": 32,
     "metadata": {},
     "output_type": "execute_result"
    }
   ],
   "source": [
    "pred_test_b= best_model.predict(X_test)\n",
    "best_model.score(X_test, y_test)"
   ]
  },
  {
   "cell_type": "code",
   "execution_count": 33,
   "id": "bd3f2e54-7486-46f9-8286-7d6796907830",
   "metadata": {},
   "outputs": [
    {
     "name": "stdout",
     "output_type": "stream",
     "text": [
      "[20  2  1 14] 0.5405405405405406\n",
      "[ 1 25  2 12] 0.625\n",
      "[6 2 4 7] 0.21052631578947367\n",
      "[ 6  8  1 47] 0.7580645161290323\n"
     ]
    }
   ],
   "source": [
    "confusion_b = confusion_matrix(y_train,pred_train_b)\n",
    "for i in range(len(confusion_b)) :\n",
    "    print(confusion_b[i],confusion_b[i][i]/confusion_b[i].sum())"
   ]
  },
  {
   "cell_type": "code",
   "execution_count": 34,
   "id": "822acad1-2ebb-4beb-b0ed-e97684354a84",
   "metadata": {},
   "outputs": [
    {
     "name": "stdout",
     "output_type": "stream",
     "text": [
      "[7 1 0 5] 0.5384615384615384\n",
      "[1 8 1 3] 0.6153846153846154\n",
      "[0 1 1 4] 0.16666666666666666\n",
      "[ 2  4  2 13] 0.6190476190476191\n"
     ]
    }
   ],
   "source": [
    "confusion_test_b= confusion_matrix(y_test,pred_test_b)\n",
    "for i in range(len(confusion_test_b)) :\n",
    "    print(confusion_test_b[i],confusion_test_b[i][i]/confusion_test_b[i].sum())"
   ]
  },
  {
   "cell_type": "markdown",
   "id": "ded35a15-96cd-405a-9051-19ad4d9eb6eb",
   "metadata": {},
   "source": [
    "[19  2  3 13] 0.5135135135135135\n",
    "[ 1 25  2 12] 0.625\n",
    "[6 2 5 6] 0.2631578947368421\n",
    "[ 7  8  1 46] 0.7419354838709677\n",
    "\n",
    "\n",
    "[7 2 1 3] 0.5384615384615384\n",
    "[1 9 1 2] 0.6923076923076923\n",
    "[1 2 1 2] 0.16666666666666666\n",
    "[ 2  5  2 12] 0.5714285714285714"
   ]
  }
 ],
 "metadata": {
  "kernelspec": {
   "display_name": "Python 3",
   "language": "python",
   "name": "python3"
  },
  "language_info": {
   "codemirror_mode": {
    "name": "ipython",
    "version": 3
   },
   "file_extension": ".py",
   "mimetype": "text/x-python",
   "name": "python",
   "nbconvert_exporter": "python",
   "pygments_lexer": "ipython3",
   "version": "3.8.8"
  }
 },
 "nbformat": 4,
 "nbformat_minor": 5
}
